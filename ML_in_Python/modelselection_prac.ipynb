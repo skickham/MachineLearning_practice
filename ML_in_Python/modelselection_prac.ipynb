{
 "cells": [
  {
   "cell_type": "markdown",
   "metadata": {},
   "source": [
    "# Python Machine Learning 3 - Model Selection\n",
    "\n",
    "<p><a name=\"sections\"></a></p>\n",
    "\n",
    "\n",
    "## Sections\n",
    "\n",
    "- <a href=\"#error\">Training Error and Test Error</a><br>\n",
    "- <a href=\"#cv\">Cross Validation</a><br>\n",
    "- <a href=\"#cv-sklearn\">Cross Validation in Scikit-Learn</a><br>\n",
    "    - <a href=\"#ex1\">Exercise 1</a><br>\n",
    "- <a href=\"#cvMore\">More on Cross Validation Object</a><br>\n",
    "    - <a href=\"#ex2\">Exercise 2</a><br>\n",
    "- <a href=\"#boot\">Bootstrap</a><br>\n",
    "- <a href=\"#boot-sklearn\">Bootstrap in Scikit-Learn</a><br>\n",
    "    - <a href=\"#boot-ex\">Bootstrap Example for Statistics</a><br>\n",
    "- <a href=\"#feature\">Feature Selection</a><br>\n",
    "    - <a href=\"#remove\">Removing Features with Low Variance</a><br>\n",
    "        - <a href=\"#ex3\">Exercise 3</a><br>\n",
    "    - <a href=\"#univariate\">Univariate Feature Selection</a><br>\n",
    "        - <a href=\"#ex4\">Exercise 4</a><br>\n",
    "- <a href=\"#reg\">Regularization</a><br>\n",
    "    - <a href=\"#ridge\">Ridge Regression</a><br>\n",
    "    - <a href=\"#ridge-sklearn\">Ridge Regression in Scikit-Learn</a><br>\n",
    "    - <a href=\"#lasso\">Lasso Regression</a><br>\n",
    "    - <a href=\"#lasso-sklearn\">Lasso Regression in Scikit-Learn</a><br>\n",
    "    - <a href=\"#elastic\">ElasticNet</a><br>\n",
    "    - <a href=\"#elastic-sklearn\">ElasticNet in Scikit-Learn</a><br>\n",
    "- <a href=\"#grid\">Grid Search</a><br>\n",
    "    - <a href=\"#validation_curves\">Validation Curves</a><br>\n",
    "- <a href=\"#ref\">Reference</a><br>"
   ]
  },
  {
   "cell_type": "markdown",
   "metadata": {},
   "source": [
    "<p><a name=\"error\"></a></p>\n",
    "## Training Error and Test Error\n",
    "\n",
    "Recall the difference between the accuracy on the training data set and test data set.\n",
    "\n",
    "Now we define **training error** and **test error** as:\n",
    "\n",
    "- *training error* the error we get applying the model to the same data from which we trained.\n",
    "\n",
    "- *test error* the error that we incur on new data. \n",
    "  - The test error is actually how well we'll do on future data the model hasn't seen\n",
    "  \n",
    "Training error almost always underestimates test error, sometimes dramatically.\n"
   ]
  },
  {
   "cell_type": "markdown",
   "metadata": {},
   "source": [
    "**Problem of Underestimate**\n",
    "\n",
    "- The goal of learning is try to minimize the error for future prediction. However this is always **unknown**.\n",
    "- The prediction error can be represented by the test error if we carefully choose the test dataset.\n"
   ]
  },
  {
   "cell_type": "markdown",
   "metadata": {},
   "source": [
    "**Solutions**\n",
    "\n",
    "To estimate the test error:\n",
    "\n",
    "- Ａ large test set is the best and simplest solution. Unfortunately, that is often unavailable.\n",
    "\n",
    "- We consider that estimate the test error by holding out a subset of the training observations from the fitting process, and then applying the learning method to those held out observations."
   ]
  },
  {
   "cell_type": "markdown",
   "metadata": {},
   "source": [
    "**Validation**\n",
    "\n",
    "- Concretely, we randomly divide the available set of samples into two parts: a **training set** and a **validation set**.\n",
    "\n",
    "- Then fit the model based on the training set, and predict the responses for the observations in the validation set.\n",
    "\n",
    "- The error of the validation set is an estimate of the test error. Typically,\n",
    "    \n",
    "    - For a quantitative response(regression problem), it's the MSE(mean square error)\n",
    "    - For a qualitative response(classification problem), it's the misclassification rate"
   ]
  },
  {
   "cell_type": "markdown",
   "metadata": {},
   "source": [
    "**Drawbacks of validation**\n",
    "\n",
    "- The test error of the validation set may be highly variable, depending on how to split the data set\n",
    "\n",
    "- Only a fraction of the observations are included in the training set used to fit the model, while the others are wasted.\n",
    "\n",
    "- The validation set error may tend to overestimate the test error for the model fit on the entire data set, since some of the observations are not used in the fitting procedure."
   ]
  },
  {
   "cell_type": "markdown",
   "metadata": {},
   "source": [
    "<p><a name=\"cv\"></a></p>\n",
    "## Cross Validation\n",
    "Instead of split the data set into two parts, divide the data into $K$ equal-sized parts. \n",
    "\n",
    "- We leave out part $k$, fit the model to the other $K − 1$ parts (combined), and then obtain predictions for the left-out kth part.\n",
    "- This is done in turn for each part $k = 1, 2, . . . K$, and then the results are combined.\n",
    "\n",
    "This is called the **k fold cross validation**, which is widely used to estimate the test error."
   ]
  },
  {
   "cell_type": "markdown",
   "metadata": {},
   "source": [
    "\n",
    "\n",
    "\n",
    "Here is simple example of divide data into 3 equal-sized parts:\n",
    "\n",
    "\n",
    "part 1                                 | part 2                      | part 3\n",
    "---------------------------------------|-----------------------------|-----\n",
    "<font color=\"red\">validation</font>    | train                       | train\n",
    "train                                  | <font color=\"red\">validation</font> | train\n",
    "train | train | <font color=\"red\">validation</font>"
   ]
  },
  {
   "cell_type": "markdown",
   "metadata": {},
   "source": [
    "**Cross Validation For Regression**\n",
    "\n",
    "- After dividing the data into $K$ parts, let $C_i$ denotes the $i$th part of the observations.\n",
    "\n",
    "- Let $n_i$ denotes the number of the observations in $C_i$, $n$ denotes the total amount of the observations. If all the parts are equal-sized, then $n_i = \\frac{n}{k}$ for $i=1, 2, 3, ... k$.\n",
    "\n",
    "- The final test error is:\n",
    "$$CV_k = \\sum_{i=1}^{k}\\frac{n_i}{n} MSE_i$$\n",
    "while $MSE_i = \\sum_{j\\in c_i}\\frac{1}{n_i}(y_j-\\hat{y}_j)^2 \\text{. } \\hat{y}_j \\text{ refers to the prediction of observation } j$."
   ]
  },
  {
   "cell_type": "markdown",
   "metadata": {},
   "source": [
    "**Cross Validation For Classification**\n",
    "\n",
    "- After dividing the data into $K$ parts, let $C_i$ denotes the $i$th part of the observations.\n",
    "\n",
    "- Let $n_i$ denotes the number of the observations in $C_i$, $n$ denotes the total amount of the observations. If all the parts are equal-sized, then $n_i = \\frac{n}{k}$ for $i=1, 2, 3, ... k$.\n",
    "\n",
    "- The final test error is:\n",
    "$$\n",
    "\\text{ }\n",
    "CV_k = \\sum_{i=1}^{k}\\frac{n_i}{n} Error_i \\quad\n",
    "\\text{ }\n",
    "$$\n",
    "while $Error_i = \\sum_{j\\in c_i}\\frac{1}{n_i} (y_j !=\\hat{y}_j) \\quad\\text{. } \\hat{y}_j \\text{ refers to the prediction of observation } j.$\n",
    "\n",
    "- The estimated standard deviation of $CV_K$ is:\n",
    "$$SD(CV_K) = \\sqrt{ \\frac{1}{K-1} \\sum_{i=1}^{K} (Error_i - \\bar{Error})^2 }$$"
   ]
  },
  {
   "cell_type": "markdown",
   "metadata": {},
   "source": [
    "**Leave One Out Cross Validation**\n",
    "\n",
    "Particularly, if $k=n$, namely divide the data set into $n$ parts. Each observation is a unique part. This method is called **Leave one out cross validation(LOOCV for short)**.\n",
    "\n",
    "- LOOCV sometimes is useful, especially the data set is very small\n",
    "- LOOCV dose not shake up the data enough. In case of each fold are highly correlated, the average can have high variance\n",
    "- The computation of LOOCV is expensive\n",
    "\n",
    "So in practice, we rarely use LOOCV. $K=5$ or $K=10$ is commonly used."
   ]
  },
  {
   "cell_type": "markdown",
   "metadata": {},
   "source": [
    "<p><a name=\"cv-sklearn\"></a></p>\n",
    "## Cross Validation in Scikit-Learn\n",
    "\n",
    "The following functions list utilities to generate indices that can be used to generate data set splits according to different cross validation strategies.\n",
    "\n",
    "- **KFold**: devide all the observation into $k$ parts\n",
    "- **StratifiedKFold**: a variation of k-fold which returns stratified folds: each set contains approximately the same percentage of samples of each target class as the complete set.\n",
    "- **LeaveOneOut**: devide all the $n$ observation into $n$ parts"
   ]
  },
  {
   "cell_type": "markdown",
   "metadata": {},
   "source": [
    "**KFold**\n",
    "\n",
    "\n",
    "Generate the index by function `KFold`:"
   ]
  },
  {
   "cell_type": "markdown",
   "metadata": {},
   "source": [
    "WARNING: While the model_selection (new in 0.18) and cross_validation (deprecated in 0.18) have functions and objects of the same name, the interface has changed. cross_validation may be removed as soon as 2018 (in version 0.20). For now, I'll show both packages"
   ]
  },
  {
   "cell_type": "code",
   "execution_count": 1,
   "metadata": {
    "collapsed": true
   },
   "outputs": [],
   "source": [
    "import sklearn\n",
    "assert(sklearn.__version__ > '0.18' and sklearn.__version__ < '0.20')"
   ]
  },
  {
   "cell_type": "code",
   "execution_count": 2,
   "metadata": {
    "collapsed": false
   },
   "outputs": [
    {
     "name": "stdout",
     "output_type": "stream",
     "text": [
      "All data: [0 1 2 3 4 5]\n",
      "Train: [2 3 4 5] Validation: [0 1]\n",
      "Train: [0 1 4 5] Validation: [2 3]\n",
      "Train: [0 1 2 3] Validation: [4 5]\n"
     ]
    }
   ],
   "source": [
    "import numpy as np\n",
    "import sklearn.model_selection as ms\n",
    "# divide 6 samples into 3 parts\n",
    "sample = np.array(range(6))\n",
    "print('All data: {}'.format(sample))\n",
    "ms_k3 = ms.KFold(n_splits=3)\n",
    "for train_idx, val_idx in ms_k3.split(sample):\n",
    "    print('Train:', train_idx, 'Validation:', val_idx)"
   ]
  },
  {
   "cell_type": "code",
   "execution_count": 3,
   "metadata": {
    "collapsed": false
   },
   "outputs": [
    {
     "name": "stdout",
     "output_type": "stream",
     "text": [
      "Train: [2 3 4 5] Validation: [0 1]\n",
      "Train: [0 1 4 5] Validation: [2 3]\n",
      "Train: [0 1 2 3] Validation: [4 5]\n"
     ]
    },
    {
     "name": "stderr",
     "output_type": "stream",
     "text": [
      "/Users/rheineke/anaconda3/lib/python3.6/site-packages/sklearn/cross_validation.py:44: DeprecationWarning: This module was deprecated in version 0.18 in favor of the model_selection module into which all the refactored classes and functions are moved. Also note that the interface of the new CV iterators are different from that of this module. This module will be removed in 0.20.\n",
      "  \"This module will be removed in 0.20.\", DeprecationWarning)\n"
     ]
    }
   ],
   "source": [
    "import sklearn.cross_validation as cv\n",
    "cv_k3 = cv.KFold(6, n_folds=3)\n",
    "for train_idx, val_idx in cv_k3:\n",
    "    print('Train:', train_idx, 'Validation:', val_idx)"
   ]
  },
  {
   "cell_type": "code",
   "execution_count": 4,
   "metadata": {
    "collapsed": false
   },
   "outputs": [
    {
     "name": "stdout",
     "output_type": "stream",
     "text": [
      "Train: [1 1 1 1] Validation: [0 0]\n",
      "Train: [0 0 1 1] Validation: [1 1]\n",
      "Train: [0 0 1 1] Validation: [1 1]\n"
     ]
    }
   ],
   "source": [
    "y = np.array([0, 0, 1, 1, 1, 1])\n",
    "for train_idx, val_idx in ms_k3.split(y):\n",
    "    print('Train:', y[train_idx], 'Validation:', y[val_idx])"
   ]
  },
  {
   "cell_type": "code",
   "execution_count": 5,
   "metadata": {
    "collapsed": false
   },
   "outputs": [
    {
     "name": "stdout",
     "output_type": "stream",
     "text": [
      "Train: [1 1 1 1] Validation: [0 0]\n",
      "Train: [0 0 1 1] Validation: [1 1]\n",
      "Train: [0 0 1 1] Validation: [1 1]\n"
     ]
    }
   ],
   "source": [
    "for train_idx, val_idx in cv_k3:\n",
    "    print('Train:', y[train_idx], 'Validation:', y[val_idx])"
   ]
  },
  {
   "cell_type": "markdown",
   "metadata": {},
   "source": [
    "**StratifiedKFold**\n",
    "\n",
    "In the last case, the distribution of validation set is highly variable.\n",
    "\n",
    "- In the first division, all the labels in the validation part are 0\n",
    "- In the last two divisions, all the labels in the validation part are 1\n",
    "\n",
    "This is due to the skew distribution of the original data. So it's better to use the function *StratifiedKFold*. As the data set is small, we create a larger set with 9 samples."
   ]
  },
  {
   "cell_type": "code",
   "execution_count": 6,
   "metadata": {
    "collapsed": false
   },
   "outputs": [
    {
     "name": "stdout",
     "output_type": "stream",
     "text": [
      "Train: [0 0 1 1 1 1] Validation:  [0 1 1]\n",
      "Train: [0 0 1 1 1 1] Validation:  [0 1 1]\n",
      "Train: [0 0 1 1 1 1] Validation:  [0 1 1]\n"
     ]
    }
   ],
   "source": [
    "x = np.zeros(9)\n",
    "y = np.array([0, 0, 0, 1, 1, 1, 1, 1, 1])\n",
    "\n",
    "ms_k3s = ms.StratifiedKFold(n_splits=3)\n",
    "for train_idx, val_idx in ms_k3s.split(X=x, y=y):\n",
    "    print('Train:', y[train_idx], 'Validation: ', y[val_idx])"
   ]
  },
  {
   "cell_type": "code",
   "execution_count": 7,
   "metadata": {
    "collapsed": false
   },
   "outputs": [
    {
     "name": "stdout",
     "output_type": "stream",
     "text": [
      "Train: [0 0 1 1 1 1] Validation:  [0 1 1]\n",
      "Train: [0 0 1 1 1 1] Validation:  [0 1 1]\n",
      "Train: [0 0 1 1 1 1] Validation:  [0 1 1]\n"
     ]
    }
   ],
   "source": [
    "cv_k3s = cv.StratifiedKFold(y, n_folds=3)\n",
    "for train_idx, val_idx in cv_k3s:\n",
    "    print('Train:', y[train_idx], 'Validation: ', y[val_idx])"
   ]
  },
  {
   "cell_type": "markdown",
   "metadata": {},
   "source": [
    "**train_test_split**\n",
    "\n",
    "The last three functions just return the indices of the training set and validation set. In scikit-learn, function **train_test_split**  can be used to generate a random split into training and test sets more quickly and directly."
   ]
  },
  {
   "cell_type": "code",
   "execution_count": 8,
   "metadata": {
    "collapsed": false
   },
   "outputs": [
    {
     "name": "stdout",
     "output_type": "stream",
     "text": [
      "Original: (150, 4), (150,)\n",
      "Training: (100, 4), (100,)\n",
      "Test: (50, 4), (50,)\n"
     ]
    }
   ],
   "source": [
    "from sklearn import datasets\n",
    "iris = datasets.load_iris()\n",
    "x_train, x_test, y_train, y_test = ms.train_test_split(iris.data, iris.target, \n",
    "                                                       test_size=1.0/3, random_state=0)\n",
    "print('Original: {}, {}'.format(iris.data.shape, iris.target.shape))\n",
    "print('Training: {}, {}'.format(x_train.shape, y_train.shape))\n",
    "print('Test: {}, {}'.format(x_test.shape, y_test.shape))"
   ]
  },
  {
   "cell_type": "markdown",
   "metadata": {},
   "source": [
    "\n",
    "\n",
    "There are three important arguments to be setted in the function **train_test_split**：\n",
    "\n",
    "- **train_size**: Represent the proportion of the dataset to include in the training split, should be 0.0 to 1.0.\n",
    "- **test_size**: Represent the proportion of the dataset to include in the test split, should be 0.0 to 1.0.\n",
    "- **random_state**: Pseudo-random number generator state used for random sampling.\n",
    "\n",
    "*train_size* and *test_size* should be setted one of them."
   ]
  },
  {
   "cell_type": "markdown",
   "metadata": {},
   "source": [
    "<p><a name=\"ex1\"></a></p>\n",
    "### Exercise 1\n",
    "\n",
    "In this exercise we want to randomly split the iris dataset into **training dataset** and **test dataset** and then fit **logistic regression** models.\n",
    "\n",
    "To test the fitting result, we repeat the step for **5 times** and find the mean and standard deviation.\n",
    "\n",
    "- We first create a logistic regression model and create empty lists to collect the errors."
   ]
  },
  {
   "cell_type": "code",
   "execution_count": 9,
   "metadata": {
    "collapsed": true
   },
   "outputs": [],
   "source": [
    "from sklearn import linear_model\n",
    "logit = linear_model.LogisticRegression()\n",
    "train_error = []\n",
    "test_error = []"
   ]
  },
  {
   "cell_type": "markdown",
   "metadata": {},
   "source": [
    "Write a for loop to:\n",
    "- Use `train_test_split` function to split \n",
    " - 1/3 of the data as the testing set.\n",
    " - 2/3 of the data as the training set.\n",
    "- Then fit the model and append the errors in the correct lists."
   ]
  },
  {
   "cell_type": "code",
   "execution_count": 10,
   "metadata": {
    "collapsed": false
   },
   "outputs": [],
   "source": [
    "#### Your code here\n"
   ]
  },
  {
   "cell_type": "markdown",
   "metadata": {},
   "source": [
    "Report the list of training and test errors. Compute the mean and the standard deviation of the errors."
   ]
  },
  {
   "cell_type": "code",
   "execution_count": 11,
   "metadata": {
    "collapsed": false
   },
   "outputs": [
    {
     "name": "stdout",
     "output_type": "stream",
     "text": [
      "Training Error: [ 0.05  0.04  0.05  0.03  0.04]\n",
      "Test Error: [ 0.1   0.12  0.08  0.08  0.06]\n",
      "Test Error Mean: 0.088000\n",
      "Test Error SD: 0.020396\n"
     ]
    }
   ],
   "source": [
    "#### Your code here\n"
   ]
  },
  {
   "cell_type": "markdown",
   "metadata": {},
   "source": [
    "We can see that the test error is always higher than the training error. And the mean error is 8.8%, while the standard deviation is 0.0204."
   ]
  },
  {
   "cell_type": "markdown",
   "metadata": {},
   "source": [
    "<p><a name=\"cvMore\"></a></p>\n",
    "\n",
    "## More on Cross Validation Object\n",
    "\n",
    "**cross_val_score**\n",
    "\n",
    "- To implement cross validation, the function **train_test_split** is still complicated.\n",
    "\n",
    "- If we just want to know the test error, the simplest way is to use **cross_val_score**.\n",
    "\n",
    "Here is a simple example of 5 fold cross validation with logistic regression:"
   ]
  },
  {
   "cell_type": "code",
   "execution_count": 12,
   "metadata": {
    "collapsed": false
   },
   "outputs": [
    {
     "name": "stdout",
     "output_type": "stream",
     "text": [
      "Scores: [ 1.          0.96666667  0.93333333  0.9         1.        ]\n",
      "Score mean: 0.9600000000000002\n",
      "Score std deviation: 0.038873012632301994\n"
     ]
    }
   ],
   "source": [
    "logit = linear_model.LogisticRegression()\n",
    "scores = ms.cross_val_score(estimator=logit, X=iris.data, y=iris.target, cv=5)\n",
    "\n",
    "print('Scores: {}'.format(scores))\n",
    "print('Score mean: {}'.format(scores.mean()))\n",
    "print('Score std deviation: {}'.format(scores.std()))"
   ]
  },
  {
   "cell_type": "markdown",
   "metadata": {},
   "source": [
    "**`cross_val_score` with cross validation object**\n",
    "\n",
    "- The first argument of **cross_val_score** is a model. It's a logistic regression in this case. \n",
    "\n",
    "- The second and third argument refers to the predictors and the response. \n",
    "\n",
    "- The **cv** argument determines the splitting of cross validation. It's an integer  5 in this case. but it can be a **cross-validation object** as well. "
   ]
  },
  {
   "cell_type": "markdown",
   "metadata": {},
   "source": [
    "Here is a case that we randomly divide the data set by **KFold**:"
   ]
  },
  {
   "cell_type": "code",
   "execution_count": 13,
   "metadata": {
    "collapsed": false
   },
   "outputs": [
    {
     "data": {
      "text/plain": [
       "array([ 1.        ,  0.93333333,  0.43333333,  0.96666667,  0.43333333])"
      ]
     },
     "execution_count": 13,
     "metadata": {},
     "output_type": "execute_result"
    }
   ],
   "source": [
    "random_divide = ms.KFold(n_splits=5)\n",
    "scores = ms.cross_val_score(estimator=logit, X=iris.data, y=iris.target, cv=random_divide)\n",
    "scores"
   ]
  },
  {
   "cell_type": "code",
   "execution_count": 14,
   "metadata": {
    "collapsed": false
   },
   "outputs": [
    {
     "data": {
      "text/plain": [
       "array([ 1.        ,  0.93333333,  0.43333333,  0.96666667,  0.43333333])"
      ]
     },
     "execution_count": 14,
     "metadata": {},
     "output_type": "execute_result"
    }
   ],
   "source": [
    "random_divide = cv.KFold(n=150, n_folds=5)\n",
    "scores = cv.cross_val_score(estimator=logit, X=iris.data, y=iris.target, cv=random_divide)\n",
    "scores"
   ]
  },
  {
   "cell_type": "markdown",
   "metadata": {},
   "source": [
    "We can also use **StratifiedKFold** to split the dataset more evenly among different classes"
   ]
  },
  {
   "cell_type": "code",
   "execution_count": 15,
   "metadata": {
    "collapsed": false
   },
   "outputs": [
    {
     "data": {
      "text/plain": [
       "array([ 1.        ,  0.96666667,  0.93333333,  0.9       ,  1.        ])"
      ]
     },
     "execution_count": 15,
     "metadata": {},
     "output_type": "execute_result"
    }
   ],
   "source": [
    "stratify_divide = ms.StratifiedKFold(n_splits=5, random_state=0)\n",
    "scores = ms.cross_val_score(estimator=logit, X=iris.data, y=iris.target, cv=stratify_divide)\n",
    "scores"
   ]
  },
  {
   "cell_type": "code",
   "execution_count": 16,
   "metadata": {
    "collapsed": false
   },
   "outputs": [
    {
     "data": {
      "text/plain": [
       "array([ 1.        ,  0.96666667,  0.93333333,  0.9       ,  1.        ])"
      ]
     },
     "execution_count": 16,
     "metadata": {},
     "output_type": "execute_result"
    }
   ],
   "source": [
    "stratify_divide = cv.StratifiedKFold(y=iris.target, n_folds=5, random_state=0)\n",
    "scores = cv.cross_val_score(estimator=logit, X=iris.data, y=iris.target, cv=stratify_divide)\n",
    "scores"
   ]
  },
  {
   "cell_type": "markdown",
   "metadata": {},
   "source": [
    "**Test Error and Number of Folds**\n",
    "\n",
    "Now we want to examine the trend of mean and standard deviation of test error in KFold cross validation along increasing number of folds (from 3 to 50)"
   ]
  },
  {
   "cell_type": "code",
   "execution_count": 17,
   "metadata": {
    "collapsed": true
   },
   "outputs": [],
   "source": [
    "mean_error = []\n",
    "std_error = []\n",
    "kfold = range(3, 50)\n",
    "for i in kfold:\n",
    "    scores = ms.cross_val_score(logit, iris.data, iris.target, cv=i)\n",
    "    mean_error.append(1 - scores.mean())\n",
    "    std_error.append(scores.std())"
   ]
  },
  {
   "cell_type": "code",
   "execution_count": 18,
   "metadata": {
    "collapsed": false
   },
   "outputs": [
    {
     "data": {
      "image/png": "[encoded data removed]",
      "text/plain": [
       "<matplotlib.figure.Figure at 0x112b36278>"
      ]
     },
     "metadata": {},
     "output_type": "display_data"
    }
   ],
   "source": [
    "import matplotlib.pyplot as plt\n",
    "s1 = plt.scatter(kfold, mean_error, label='mean error')\n",
    "plt.plot(kfold, mean_error)\n",
    "s2 = plt.scatter(kfold, std_error, color='red', label='std')\n",
    "plt.plot(kfold, std_error, color='red')\n",
    "plt.xlim(0, 50)\n",
    "plt.xlabel('number of fold')\n",
    "plt.legend(handles=[s1, s2], loc=2)\n",
    "plt.show()"
   ]
  },
  {
   "cell_type": "markdown",
   "metadata": {},
   "source": [
    "<p><a name=\"ex2\"></a></p>\n",
    "\n",
    "### Exercise 2\n",
    "Run the following codes to generate a random data set. Then answer the following three questions with the data set."
   ]
  },
  {
   "cell_type": "code",
   "execution_count": 19,
   "metadata": {
    "collapsed": true
   },
   "outputs": [],
   "source": [
    "import numpy as np\n",
    "\n",
    "n = 500\n",
    "np.random.seed(1)\n",
    "X = np.random.randn(n, 2)\n",
    "y = np.ones(n)\n",
    "y[X[:, 0] + X[:, 1] > 0] = 0"
   ]
  },
  {
   "cell_type": "code",
   "execution_count": 20,
   "metadata": {
    "collapsed": false
   },
   "outputs": [
    {
     "data": {
      "image/png": "[encoded data removed]",
      "text/plain": [
       "<matplotlib.figure.Figure at 0x107f19e10>"
      ]
     },
     "metadata": {},
     "output_type": "display_data"
    }
   ],
   "source": [
    "plt.scatter(X[:, 0], X[:, 1], c=y)\n",
    "plt.show()"
   ]
  },
  {
   "cell_type": "markdown",
   "metadata": {},
   "source": [
    "- Use the function **train_test_split** to divide the data set into two equal parts: training set and test set. Fit a **Linear Discriminant Analysis** model on the training set and make a prediction on the test error. What's the training error and test error?"
   ]
  },
  {
   "cell_type": "code",
   "execution_count": 21,
   "metadata": {
    "collapsed": false
   },
   "outputs": [
    {
     "name": "stdout",
     "output_type": "stream",
     "text": [
      "Training Error: 0.020000\n",
      "Test Error: 0.016000\n"
     ]
    }
   ],
   "source": [
    "import sklearn.model_selection as ms\n",
    "from sklearn import discriminant_analysis\n",
    "model = discriminant_analysis.LinearDiscriminantAnalysis()\n",
    "\n",
    "#### Your code here\n"
   ]
  },
  {
   "cell_type": "markdown",
   "metadata": {},
   "source": [
    "- Use the function **KFold** to implement 5-fold cross validation with a **Linear Discriminant Analysis** model. Report the training errors and test errors."
   ]
  },
  {
   "cell_type": "code",
   "execution_count": 22,
   "metadata": {
    "collapsed": false
   },
   "outputs": [
    {
     "name": "stdout",
     "output_type": "stream",
     "text": [
      "Train error: [ 0.0175  0.0225  0.0125  0.015   0.02  ]\n",
      "Test error: [ 0.03  0.01  0.02  0.02  0.  ]\n"
     ]
    }
   ],
   "source": [
    "#### Your code here\n"
   ]
  },
  {
   "cell_type": "markdown",
   "metadata": {},
   "source": [
    "- Use the function **cross_val_score** to implement 5-fold cross validation with a **Linear Discriminant Analysis** model. Report the test errors."
   ]
  },
  {
   "cell_type": "code",
   "execution_count": 23,
   "metadata": {
    "collapsed": false
   },
   "outputs": [
    {
     "data": {
      "text/plain": [
       "array([ 0.02970297,  0.00990099,  0.03      ,  0.01010101,  0.01010101])"
      ]
     },
     "execution_count": 23,
     "metadata": {},
     "output_type": "execute_result"
    }
   ],
   "source": [
    "## Use the function cross_val_score() to \n",
    "## implement 5-fold cross validation with \n",
    "## a Linear Discriminant Analysis model.\n",
    "scores = ms.cross_val_score(model, X, y ,cv=5)\n",
    "\n",
    "## test errors.\n",
    "1 - scores"
   ]
  },
  {
   "cell_type": "code",
   "execution_count": 24,
   "metadata": {
    "collapsed": false
   },
   "outputs": [
    {
     "data": {
      "text/html": [
       "<div>\n",
       "<table border=\"1\" class=\"dataframe\">\n",
       "  <thead>\n",
       "    <tr style=\"text-align: right;\">\n",
       "      <th></th>\n",
       "      <th>TV</th>\n",
       "      <th>Radio</th>\n",
       "      <th>Newspaper</th>\n",
       "      <th>Sales</th>\n",
       "    </tr>\n",
       "  </thead>\n",
       "  <tbody>\n",
       "    <tr>\n",
       "      <th>0</th>\n",
       "      <td>230.1</td>\n",
       "      <td>37.8</td>\n",
       "      <td>69.2</td>\n",
       "      <td>22.1</td>\n",
       "    </tr>\n",
       "    <tr>\n",
       "      <th>1</th>\n",
       "      <td>44.5</td>\n",
       "      <td>39.3</td>\n",
       "      <td>45.1</td>\n",
       "      <td>10.4</td>\n",
       "    </tr>\n",
       "    <tr>\n",
       "      <th>2</th>\n",
       "      <td>17.2</td>\n",
       "      <td>45.9</td>\n",
       "      <td>69.3</td>\n",
       "      <td>9.3</td>\n",
       "    </tr>\n",
       "    <tr>\n",
       "      <th>3</th>\n",
       "      <td>151.5</td>\n",
       "      <td>41.3</td>\n",
       "      <td>58.5</td>\n",
       "      <td>18.5</td>\n",
       "    </tr>\n",
       "    <tr>\n",
       "      <th>4</th>\n",
       "      <td>180.8</td>\n",
       "      <td>10.8</td>\n",
       "      <td>58.4</td>\n",
       "      <td>12.9</td>\n",
       "    </tr>\n",
       "  </tbody>\n",
       "</table>\n",
       "</div>"
      ],
      "text/plain": [
       "      TV  Radio  Newspaper  Sales\n",
       "0  230.1   37.8       69.2   22.1\n",
       "1   44.5   39.3       45.1   10.4\n",
       "2   17.2   45.9       69.3    9.3\n",
       "3  151.5   41.3       58.5   18.5\n",
       "4  180.8   10.8       58.4   12.9"
      ]
     },
     "execution_count": 24,
     "metadata": {},
     "output_type": "execute_result"
    }
   ],
   "source": [
    "import pandas as pd\n",
    "adver = pd.read_csv('data/adver.csv', index_col=0)\n",
    "x = adver[['TV', 'Radio', 'Newspaper']]\n",
    "y = adver[['Sales']]\n",
    "adver.head()"
   ]
  },
  {
   "cell_type": "markdown",
   "metadata": {},
   "source": [
    "<p><a name=\"boot\"></a></p>\n",
    "\n",
    "## Bootstrap\n",
    "\n",
    "**Bootstrap** is another resampling method which:\n",
    "\n",
    "- resample from the data set with replacement, not just division.\n",
    "\n",
    "- method is a powerful tool that can be used to quantify the uncertainty associated with a given estimator or learning algorithm.\n",
    "\n",
    "- can provide an estimate of the standard error or confidence interval of a coefficient.\n",
    "\n",
    "\n",
    "To quantify the uncertainty associated with a given estimator $\\alpha$:\n",
    "\n",
    "- Generate the first bootstrap data denoted by $B^{*1}$, use $B^{*1}$ to produce a new bootstrap estimate for $\\alpha$, denoted by $\\alpha^{*1}$.\n",
    "- Repeat the first step $K$ times, so that we have $K$ bootstrap data $B^{*1}, B^{*2}...B^{*K}$, as well as $K$ estimates $\\alpha^{*1}, \\alpha^{*2}...\\alpha^{*K}$.\n",
    "- We estimate the standard error of these estimates by the formula:\n",
    "$$\\sigma_{\\alpha} = \\sqrt{ \\frac{1}{K-1} \\sum_{i=1}^{K} (\\alpha^{*i} - \\bar{\\alpha^*})^2 }$$"
   ]
  },
  {
   "cell_type": "markdown",
   "metadata": {},
   "source": [
    "**Bootstrap for Validation**\n",
    "\n",
    "**Can bootstrap be used to estimate the test error?**\n",
    "\n",
    "- One way is fit models based on the bootstrap data and test on the original data.\n",
    "- Since there are many *overlap* between the bootstrap data and the original data, it will seriously underestimate the test error.\n",
    "- In cross validation, each of the K validation folds is distinct from the other K − 1 folds used for training: there is no overlap. This is crucial for its success.\n",
    "\n",
    "To estimate the test error using bootstrap,  we can only use predictions for those observations that did not occur in the current bootstrap sample.\n",
    "\n",
    "- Generate a bootstrap data $B^{*i}$, fit a model $M^{*i}$.\n",
    "- Make a prediction on the observations that are not in $B^{*i}$\n",
    "- Repeat the first two steps $K$ times\n",
    "\n",
    "This is called **Out Of Bag Error (OOB Error)**.\n",
    "\n",
    "- The OOB error is complicated to calculate.\n",
    "- Since each bootstrap data in randomly sampling from the original data, we have no idea how many *observations out of bag* left for testing. So we would loose control on the test fold size.\n",
    "- Cross validation is a simpler and more natural way to estimate the validation scores.\n",
    "\n",
    "<p><a name=\"boot-sklearn\"></a></p>\n",
    "## Bootstrap in Scikit-Learn"
   ]
  },
  {
   "cell_type": "code",
   "execution_count": 25,
   "metadata": {
    "collapsed": false
   },
   "outputs": [
    {
     "name": "stdout",
     "output_type": "stream",
     "text": [
      "The original data: [1 2 3 4 5]\n",
      "The bootstrap sample: [4 5 3 5 4]\n"
     ]
    }
   ],
   "source": [
    "from sklearn.utils import resample\n",
    "y = np.array([1, 2, 3, 4, 5])\n",
    "print(\"The original data: \" + str(y))\n",
    "y_bs = resample(y)\n",
    "print(\"The bootstrap sample: \" + str(y_bs))"
   ]
  },
  {
   "cell_type": "markdown",
   "metadata": {},
   "source": [
    "- By default, the number of bootstrap samples is equal to the number in the original data.\n",
    "\n",
    "- To generate a dataset with less samples, we can change the parameter n_samples of the method:\n",
    "\n",
    "- Note that n_samples cannot be greater than the size of the dataset"
   ]
  },
  {
   "cell_type": "code",
   "execution_count": 26,
   "metadata": {
    "collapsed": false
   },
   "outputs": [
    {
     "data": {
      "text/plain": [
       "array([4, 5, 2])"
      ]
     },
     "execution_count": 26,
     "metadata": {},
     "output_type": "execute_result"
    }
   ],
   "source": [
    "resample(y, n_samples=3)"
   ]
  },
  {
   "cell_type": "markdown",
   "metadata": {},
   "source": [
    "The `resample()` method also support multiple samplings:"
   ]
  },
  {
   "cell_type": "code",
   "execution_count": 27,
   "metadata": {
    "collapsed": false
   },
   "outputs": [
    {
     "name": "stdout",
     "output_type": "stream",
     "text": [
      "x = \n",
      "[[-0.79005463  1.48456404]\n",
      " [-1.49407675  1.42576245]\n",
      " [-0.50164618  1.0674858 ]\n",
      " [ 1.95691216 -1.9536945 ]\n",
      " [ 1.18257238 -0.69302077]]\n",
      "\n",
      "y = \n",
      "[1 2 3 4 5]\n"
     ]
    }
   ],
   "source": [
    "x = np.random.randn(5, 2)\n",
    "y = np.array([1, 2, 3, 4, 5])\n",
    "print('x = \\n{}\\n\\ny = \\n{}'.format(x, y))"
   ]
  },
  {
   "cell_type": "code",
   "execution_count": 28,
   "metadata": {
    "collapsed": false
   },
   "outputs": [
    {
     "name": "stdout",
     "output_type": "stream",
     "text": [
      "x = \n",
      "[[ 1.95691216 -1.9536945 ]\n",
      " [ 1.18257238 -0.69302077]\n",
      " [-1.49407675  1.42576245]\n",
      " [ 1.18257238 -0.69302077]\n",
      " [-0.50164618  1.0674858 ]]\n",
      "\n",
      "y = [4 5 2 5 3]\n"
     ]
    }
   ],
   "source": [
    "x_bs, y_bs = resample(x, y) # sampling x and y at the same time\n",
    "print('x = \\n{}\\n\\ny = {}'.format(x_bs, y_bs))"
   ]
  },
  {
   "cell_type": "markdown",
   "metadata": {},
   "source": [
    "### Bootstrap Example for Statistics\n",
    "\n",
    "Here is a example of estimating the standard error of the coefficients in linear regression.\n",
    "\n",
    "We will use the advertise data set in the \"adver.csv\" file."
   ]
  },
  {
   "cell_type": "code",
   "execution_count": 29,
   "metadata": {
    "collapsed": false
   },
   "outputs": [
    {
     "data": {
      "text/html": [
       "<div>\n",
       "<table border=\"1\" class=\"dataframe\">\n",
       "  <thead>\n",
       "    <tr style=\"text-align: right;\">\n",
       "      <th></th>\n",
       "      <th>TV</th>\n",
       "      <th>Radio</th>\n",
       "      <th>Newspaper</th>\n",
       "      <th>Sales</th>\n",
       "    </tr>\n",
       "  </thead>\n",
       "  <tbody>\n",
       "    <tr>\n",
       "      <th>0</th>\n",
       "      <td>230.1</td>\n",
       "      <td>37.8</td>\n",
       "      <td>69.2</td>\n",
       "      <td>22.1</td>\n",
       "    </tr>\n",
       "    <tr>\n",
       "      <th>1</th>\n",
       "      <td>44.5</td>\n",
       "      <td>39.3</td>\n",
       "      <td>45.1</td>\n",
       "      <td>10.4</td>\n",
       "    </tr>\n",
       "    <tr>\n",
       "      <th>2</th>\n",
       "      <td>17.2</td>\n",
       "      <td>45.9</td>\n",
       "      <td>69.3</td>\n",
       "      <td>9.3</td>\n",
       "    </tr>\n",
       "    <tr>\n",
       "      <th>3</th>\n",
       "      <td>151.5</td>\n",
       "      <td>41.3</td>\n",
       "      <td>58.5</td>\n",
       "      <td>18.5</td>\n",
       "    </tr>\n",
       "    <tr>\n",
       "      <th>4</th>\n",
       "      <td>180.8</td>\n",
       "      <td>10.8</td>\n",
       "      <td>58.4</td>\n",
       "      <td>12.9</td>\n",
       "    </tr>\n",
       "  </tbody>\n",
       "</table>\n",
       "</div>"
      ],
      "text/plain": [
       "      TV  Radio  Newspaper  Sales\n",
       "0  230.1   37.8       69.2   22.1\n",
       "1   44.5   39.3       45.1   10.4\n",
       "2   17.2   45.9       69.3    9.3\n",
       "3  151.5   41.3       58.5   18.5\n",
       "4  180.8   10.8       58.4   12.9"
      ]
     },
     "execution_count": 29,
     "metadata": {},
     "output_type": "execute_result"
    }
   ],
   "source": [
    "import pandas as pd\n",
    "adver = pd.read_csv('data/adver.csv', index_col=0)\n",
    "x = adver[['TV', 'Radio', 'Newspaper']]\n",
    "y = adver[['Sales']]\n",
    "adver.head()"
   ]
  },
  {
   "cell_type": "markdown",
   "metadata": {},
   "source": [
    "- This time we will employ the bootstrap method to calulate the standard error of the coefficients.\n",
    "- Generate 1000 bootstrap samples and then fit a regression model.\n",
    "- Calculate the mean and standard error of the coefficients of the bootstrap samples."
   ]
  },
  {
   "cell_type": "code",
   "execution_count": 30,
   "metadata": {
    "collapsed": false
   },
   "outputs": [
    {
     "name": "stdout",
     "output_type": "stream",
     "text": [
      "The mean of the coefficients are: [ 0.04570398  0.18869961 -0.00085747]\n",
      "The standard error of the coefficients are: [ 0.00186459  0.01110836  0.00645294]\n"
     ]
    }
   ],
   "source": [
    "import numpy as np\n",
    "from sklearn import linear_model\n",
    "ols = linear_model.LinearRegression()\n",
    "\n",
    "from sklearn.utils import resample\n",
    "coefs = []\n",
    "for i in range(1000):\n",
    "    x_boot, y_boot = resample(x, y)\n",
    "    ols.fit(x_boot, y_boot)\n",
    "    coefs.append(ols.coef_[0])\n",
    "\n",
    "coefs = np.array(coefs)\n",
    "print(\"The mean of the coefficients are: \" + str(np.mean(coefs, 0)))\n",
    "print(\"The standard error of the coefficients are: \" + str(np.std(coefs, 0)))"
   ]
  },
  {
   "cell_type": "markdown",
   "metadata": {},
   "source": [
    "- The coefficients of the model fitting with the whole data set are:"
   ]
  },
  {
   "cell_type": "code",
   "execution_count": 31,
   "metadata": {
    "collapsed": false
   },
   "outputs": [
    {
     "name": "stdout",
     "output_type": "stream",
     "text": [
      "Coefficients with Entire dataset:  [[ 0.04576465  0.18853002 -0.00103749]]\n",
      "Bootstrap estimates:  [ 0.04570398  0.18869961 -0.00085747]\n"
     ]
    }
   ],
   "source": [
    "ols.fit(x, y)\n",
    "print(\"Coefficients with Entire dataset: \", ols.coef_)\n",
    "print(\"Bootstrap estimates: \", np.mean(coefs, 0))"
   ]
  },
  {
   "cell_type": "markdown",
   "metadata": {},
   "source": [
    "- The two sets of coefficients are very close.\n",
    "- Bootstrap can estimate the standard error of the coefficients."
   ]
  },
  {
   "cell_type": "markdown",
   "metadata": {},
   "source": [
    "\n",
    "\n",
    "- Further more, we can constract a confidence interval for the coefficients.\n",
    "- If confidence intervals are constructed across many separate data analyses of repeated (and possibly different) experiments, the proportion of such intervals that contain the true value of the parameter will match the confidence level.\n",
    "- The simplest way is calculate the quantiles of the coefficients.\n",
    "\n",
    "Here is confidence interval with 95% confidence level:"
   ]
  },
  {
   "cell_type": "code",
   "execution_count": 32,
   "metadata": {
    "collapsed": false
   },
   "outputs": [
    {
     "data": {
      "text/plain": [
       "array([[ 0.04196412,  0.16693456, -0.01280246],\n",
       "       [ 0.04930857,  0.20983559,  0.01233142]])"
      ]
     },
     "execution_count": 32,
     "metadata": {},
     "output_type": "execute_result"
    }
   ],
   "source": [
    "np.percentile(coefs, [2.5, 97.5], 0)"
   ]
  },
  {
   "cell_type": "markdown",
   "metadata": {},
   "source": [
    "- The interval of the TV's coefficient is [0.0421, 0.0496]\n",
    "- The interval of the Radio's coefficient is [0.1674, 0.2093]\n",
    "- The interval of the Newspaper's coefficient is [-0.0136, 0.0128]"
   ]
  },
  {
   "cell_type": "markdown",
   "metadata": {},
   "source": [
    "**Constructing Confidence Interval with Standard Errors**\n",
    "\n",
    "- Another way to constract the confidence interval is assume that the distribution of coefficients as gaussian distribution. \n",
    "- For gaussian distribution, the 95% confidence interval is :\n",
    "$$[\\mu - 2\\sigma, \\mu + 2\\sigma ]$$\n",
    "where $\\mu$ refers to the expectation and $\\sigma$ refers to the standard deviation."
   ]
  },
  {
   "cell_type": "code",
   "execution_count": 33,
   "metadata": {
    "collapsed": false
   },
   "outputs": [
    {
     "name": "stdout",
     "output_type": "stream",
     "text": [
      "[ 0.0419748   0.16648288 -0.01376334]\n",
      "[ 0.04943316  0.21091633  0.0120484 ]\n"
     ]
    }
   ],
   "source": [
    "## Calculate the 95% confidence interval of the coefficient using equation\n",
    "print(np.mean(coefs, 0) - 2*np.std(coefs, 0))\n",
    "print(np.mean(coefs, 0) + 2*np.std(coefs, 0))"
   ]
  },
  {
   "cell_type": "markdown",
   "metadata": {},
   "source": [
    "Finally we can plot the histogram of coefficients estimated with bootstrap resampling:"
   ]
  },
  {
   "cell_type": "code",
   "execution_count": 34,
   "metadata": {
    "collapsed": false
   },
   "outputs": [
    {
     "data": {
      "image/png": "[encoded data removed]",
      "text/plain": [
       "<matplotlib.figure.Figure at 0x115cbb240>"
      ]
     },
     "metadata": {},
     "output_type": "display_data"
    }
   ],
   "source": [
    "import matplotlib\n",
    "matplotlib.rcParams['figure.figsize'] = (16, 4)\n",
    "import matplotlib.pyplot as plt\n",
    "\n",
    "xxx, sub = plt.subplots(1, 3)\n",
    "sub[0].hist(coefs[:, 0])\n",
    "sub[0].set_title('coefficients of TV')\n",
    "sub[1].hist(coefs[:, 1], color='yellow')\n",
    "sub[1].set_title('coefficients of Radio')\n",
    "sub[2].hist(coefs[:, 2], color='pink')\n",
    "sub[2].set_title('coefficients of Newspaper')\n",
    "plt.show()"
   ]
  },
  {
   "cell_type": "markdown",
   "metadata": {
    "collapsed": true
   },
   "source": [
    "<p><a name=\"feature\"></a></p>\n",
    "## Feature Selection \n",
    "\n",
    "- Feature selection is the process of selecting a subset of relevant features for use in model construction. It's also known as **variable selection**.\n",
    "\n",
    "- Many areas including `text processing of internet documents`, `gene expression array analysis`, and `combinatorial chemistry` often have tens or hundreds of thousands of variables available. Feature selection is crucial.\n",
    "\n",
    "- The goals of feature selection are:\n",
    "    - improving prediction performance\n",
    "    - providing faster and more cost-effective predictors\n",
    "    - providing a better understanding of the underlying process that generated the data"
   ]
  },
  {
   "cell_type": "markdown",
   "metadata": {},
   "source": [
    "- In practice, feature selection often needs some background knowledge to determine which predictors to select.\n",
    "- We will introduce some basic methods from a mathematics perspective:\n",
    "    - Removing features with low variance\n",
    "    - Univariate feature selection\n",
    "    - L1-based feature selection\n",
    "    - Tree-based feature selection"
   ]
  },
  {
   "cell_type": "markdown",
   "metadata": {},
   "source": [
    "<p><a name=\"remove\"></a></p>\n",
    "### Removing Features with Low Variance\n",
    "\n",
    "- If a predictor has the same value in all observations, it's useless.\n",
    "- In linear regression, if a predictor is invariant, $X^TX$ will be singular. \n",
    "- The **VarianceThreshold** function is used to remove features with low variance. "
   ]
  },
  {
   "cell_type": "markdown",
   "metadata": {},
   "source": [
    "- **VarianceThreshold** removes all features whose variances don’t meet some thresholds. \n",
    "- By default, it removes all zero-variance features, i.e. features that have the same values among all samples."
   ]
  },
  {
   "cell_type": "markdown",
   "metadata": {},
   "source": [
    "Here is a short example:\n",
    "\n",
    "- There are four features in the iris data set: *sepal length, sepal width, petal length, petal width*.\n",
    "- The variances of the features are:"
   ]
  },
  {
   "cell_type": "code",
   "execution_count": 35,
   "metadata": {
    "collapsed": false
   },
   "outputs": [
    {
     "name": "stdout",
     "output_type": "stream",
     "text": [
      "Shape: (150, 4)\n",
      "Variation:\n",
      "{'petal length (cm)': 3.0924248888888854,\n",
      " 'petal width (cm)': 0.57853155555555591,\n",
      " 'sepal length (cm)': 0.68112222222222218,\n",
      " 'sepal width (cm)': 0.1867506666666667}\n"
     ]
    }
   ],
   "source": [
    "from sklearn import datasets\n",
    "import numpy as np\n",
    "import pprint\n",
    "iris = datasets.load_iris()\n",
    "print('Shape: (%d, %d)' %iris.data.shape)\n",
    "print('Variation:')\n",
    "pprint.pprint(dict(zip(iris.feature_names, np.var(iris.data, 0))))"
   ]
  },
  {
   "cell_type": "markdown",
   "metadata": {},
   "source": [
    "Let's try to remove features with variances smaller than 1:"
   ]
  },
  {
   "cell_type": "code",
   "execution_count": 36,
   "metadata": {
    "collapsed": false
   },
   "outputs": [
    {
     "data": {
      "text/plain": [
       "(150, 1)"
      ]
     },
     "execution_count": 36,
     "metadata": {},
     "output_type": "execute_result"
    }
   ],
   "source": [
    "import sklearn.feature_selection as fs\n",
    "x_new = fs.VarianceThreshold(threshold = 1).fit_transform(iris.data)\n",
    "x_new.shape"
   ]
  },
  {
   "cell_type": "markdown",
   "metadata": {},
   "source": [
    "- The argument \"threshold=1\" is used to define the threshold.\n",
    "- After the selection, the new variable $x\\_new$ has only one predictor."
   ]
  },
  {
   "cell_type": "markdown",
   "metadata": {},
   "source": [
    "<p><a name=\"ex3\"></a></p>\n",
    "\n",
    "#### Exercise 3\n",
    "\n",
    "Run the following code to obtain the data:"
   ]
  },
  {
   "cell_type": "code",
   "execution_count": 37,
   "metadata": {
    "collapsed": false
   },
   "outputs": [
    {
     "name": "stdout",
     "output_type": "stream",
     "text": [
      "         x1        x2        x3        x4         x5         x6         y\n",
      "0  1.624345  2.638498  4.285832  6.961671  11.308158  18.368354 -6.403283\n",
      "1 -0.611756  0.374246 -0.228947  0.140060  -0.085683   0.052417  2.048085\n",
      "2 -0.528172  0.278965 -0.147342  0.077822  -0.041103   0.021710  0.875276\n",
      "3 -1.072969  1.151262 -1.235268  1.325403  -1.422116   1.525886  5.528936\n",
      "4  0.865408  0.748930  0.648130  0.560897   0.485404   0.420073 -0.676034\n"
     ]
    }
   ],
   "source": [
    "import pandas as pd\n",
    "import numpy as np\n",
    "data = pd.read_csv('data/data.csv')\n",
    "print(data.head())\n",
    "X = np.array(data[['x1', 'x2', 'x3', 'x4', 'x5', 'x6']])\n",
    "y = np.array(data[['y']])"
   ]
  },
  {
   "cell_type": "markdown",
   "metadata": {},
   "source": [
    "There are 7 variables in total. Select the best features from $x1, x2, x3, ..., x6$ to predict $y$.\n",
    "\n",
    "- Use the function **`VarianceThreshold`** to select the features whose variance is larger than 10. Assign the return of the `VarianceThreshold` function to `select1`.\n",
    " - How many features do you select?"
   ]
  },
  {
   "cell_type": "code",
   "execution_count": 38,
   "metadata": {
    "collapsed": false
   },
   "outputs": [
    {
     "name": "stdout",
     "output_type": "stream",
     "text": [
      "(100, 3)\n"
     ]
    }
   ],
   "source": [
    "import sklearn.feature_selection as fs\n",
    "#### Your code here\n"
   ]
  },
  {
   "cell_type": "markdown",
   "metadata": {},
   "source": [
    "- Print out the first row of the features you select. Compare it to the first row of X. What features did you select."
   ]
  },
  {
   "cell_type": "code",
   "execution_count": 39,
   "metadata": {
    "collapsed": false
   },
   "outputs": [
    {
     "name": "stdout",
     "output_type": "stream",
     "text": [
      "[  6.96167096  11.30815795  18.36835393]\n",
      "[  1.62434536   2.63849786   4.28583177   6.96167096  11.30815795\n",
      "  18.36835393]\n"
     ]
    }
   ],
   "source": [
    "#### Your code here\n"
   ]
  },
  {
   "cell_type": "markdown",
   "metadata": {},
   "source": [
    "<p><a name=\"univariate\"></a></p>\n",
    "### Univariate Feature Selection\n",
    "\n",
    "- Univariate feature selection is based on the univariate statistical tests.\n",
    "- The tests we are using can be set manually.\n",
    "    - For regression problems, the most commonly used test is the F test.\n",
    "    - For classification problem, the most commonly used tests are the chi-square test and the F test.\n",
    "\n",
    "- Function **`chi2`** is used to perform a $\\chi^2$ test\n",
    "- Function **`f_regression`** is used to perform an $F$ test for regression problems\n",
    "- Function **`f_classifier`** is used to perform an $F$ test for classification problems"
   ]
  },
  {
   "cell_type": "markdown",
   "metadata": {},
   "source": [
    "For instance, we can perform a $\\chi^2$ test on the iris data. Test each feature with the response variable:"
   ]
  },
  {
   "cell_type": "code",
   "execution_count": 40,
   "metadata": {
    "collapsed": false
   },
   "outputs": [
    {
     "data": {
      "text/plain": [
       "(array([  10.81782088,    3.59449902,  116.16984746,   67.24482759]),\n",
       " array([  4.47651499e-03,   1.65754167e-01,   5.94344354e-26,\n",
       "          2.50017968e-15]))"
      ]
     },
     "execution_count": 40,
     "metadata": {},
     "output_type": "execute_result"
    }
   ],
   "source": [
    "fs.chi2(iris.data, iris.target)"
   ]
  },
  {
   "cell_type": "markdown",
   "metadata": {},
   "source": [
    "- The first array is the $\\chi^2$ statistics\n",
    "- The second array is the corresponding $p$ value\n",
    "- Larger statistics and smaller $p$ values mean a significant relation\n",
    "- In this case the last two features have the smallest $p$ values and the largest $\\chi^2$ statistics"
   ]
  },
  {
   "cell_type": "markdown",
   "metadata": {},
   "source": [
    "#### SelectKBest\n",
    "\n",
    "We can use the following two functions to select features directly:\n",
    "\n",
    "- **SelectKBest**: keeps the $k$ highest scoring features\n",
    "- **SelectPercentile**: keeps a user-specified highest scoring percentage of features"
   ]
  },
  {
   "cell_type": "markdown",
   "metadata": {},
   "source": [
    "We use the function **SelectKBest** to select the best 2 features using the chi-square test:"
   ]
  },
  {
   "cell_type": "code",
   "execution_count": 41,
   "metadata": {
    "collapsed": false
   },
   "outputs": [
    {
     "data": {
      "text/plain": [
       "(150, 2)"
      ]
     },
     "execution_count": 41,
     "metadata": {},
     "output_type": "execute_result"
    }
   ],
   "source": [
    "best2 = fs.SelectKBest(fs.chi2, k=2).fit_transform(iris.data, iris.target)\n",
    "best2.shape"
   ]
  },
  {
   "cell_type": "markdown",
   "metadata": {},
   "source": [
    "- Arguments in *fit_transform* should be the predictors and response variable\n",
    "- *fs.chi2* in *SelectKBest* means using the chi-square test\n",
    "- $k=2$ selects the best two features"
   ]
  },
  {
   "cell_type": "code",
   "execution_count": 42,
   "metadata": {
    "collapsed": false
   },
   "outputs": [
    {
     "name": "stdout",
     "output_type": "stream",
     "text": [
      "[[ 1.4  0.2]\n",
      " [ 1.4  0.2]\n",
      " [ 1.3  0.2]]\n",
      "[[ 5.1  3.5  1.4  0.2]\n",
      " [ 4.9  3.   1.4  0.2]\n",
      " [ 4.7  3.2  1.3  0.2]]\n"
     ]
    }
   ],
   "source": [
    "print(best2[:3,])\n",
    "print(iris.data[:3,])"
   ]
  },
  {
   "cell_type": "markdown",
   "metadata": {},
   "source": [
    "We can see here: compared to the original predictors, the selected features are the last two features."
   ]
  },
  {
   "cell_type": "code",
   "execution_count": 43,
   "metadata": {
    "collapsed": false
   },
   "outputs": [
    {
     "data": {
      "text/plain": [
       "(150, 3)"
      ]
     },
     "execution_count": 43,
     "metadata": {},
     "output_type": "execute_result"
    }
   ],
   "source": [
    "percent80 = fs.SelectPercentile(fs.chi2, 80).fit_transform(iris.data, iris.target) \n",
    "percent80.shape"
   ]
  },
  {
   "cell_type": "markdown",
   "metadata": {},
   "source": [
    "**SelectPercentile** is useful when there are thousands of features to choose from."
   ]
  },
  {
   "cell_type": "markdown",
   "metadata": {},
   "source": [
    "**Does this method really work?**\n",
    "\n",
    "- Let's add 10 columns of random noise into the iris data set.\n",
    "- Try to select the original true features using the **SelectKBest** method."
   ]
  },
  {
   "cell_type": "code",
   "execution_count": 44,
   "metadata": {
    "collapsed": false
   },
   "outputs": [
    {
     "name": "stdout",
     "output_type": "stream",
     "text": [
      "The selected features are: \n",
      "[[ 5.1  3.5  1.4  0.2]\n",
      " [ 4.9  3.   1.4  0.2]\n",
      " [ 4.7  3.2  1.3  0.2]]\n",
      "The true features are: \n",
      "[[ 5.1  3.5  1.4  0.2]\n",
      " [ 4.9  3.   1.4  0.2]\n",
      " [ 4.7  3.2  1.3  0.2]]\n"
     ]
    }
   ],
   "source": [
    "nrow = iris.data.shape[0]\n",
    "noise = np.random.rand(nrow, 10)\n",
    "X_noise = np.column_stack((iris.data, noise)) # add noise \n",
    "best4 = fs.SelectKBest(fs.chi2, k=4).fit_transform(X_noise, iris.target) # select\n",
    "print(\"The selected features are: \" + '\\n' + str(best4[:3, ])) # print the selected features\n",
    "print(\"The true features are: \" + '\\n' + str(iris.data[:3, ])) # print the true features"
   ]
  },
  {
   "cell_type": "markdown",
   "metadata": {},
   "source": [
    "- For regression problems, we usually use the *f_regression* function to perform an F test.\n",
    "- Let's say we want to predict the fourth feature based on the first three features.\n",
    "- Select the best feature."
   ]
  },
  {
   "cell_type": "code",
   "execution_count": 45,
   "metadata": {
    "collapsed": false
   },
   "outputs": [
    {
     "name": "stdout",
     "output_type": "stream",
     "text": [
      "[[ 1.4]\n",
      " [ 1.4]\n",
      " [ 1.3]]\n",
      "[[ 5.1  3.5  1.4]\n",
      " [ 4.9  3.   1.4]\n",
      " [ 4.7  3.2  1.3]]\n"
     ]
    }
   ],
   "source": [
    "iris.x = iris.data[:, 0:3]\n",
    "iris.y = iris.data[:, 3]\n",
    "best1 = fs.SelectKBest(fs.f_regression, k=1).fit_transform(iris.x, iris.y)\n",
    "print(best1[:3, :])\n",
    "print(iris.x[:3, :])"
   ]
  },
  {
   "cell_type": "markdown",
   "metadata": {},
   "source": [
    "We can see that this method selects the third feature as the best one."
   ]
  },
  {
   "cell_type": "code",
   "execution_count": 46,
   "metadata": {
    "collapsed": false
   },
   "outputs": [
    {
     "data": {
      "text/plain": [
       "array([[ 1.        , -0.10936925,  0.87175416,  0.81795363],\n",
       "       [-0.10936925,  1.        , -0.4205161 , -0.35654409],\n",
       "       [ 0.87175416, -0.4205161 ,  1.        ,  0.9627571 ],\n",
       "       [ 0.81795363, -0.35654409,  0.9627571 ,  1.        ]])"
      ]
     },
     "execution_count": 46,
     "metadata": {},
     "output_type": "execute_result"
    }
   ],
   "source": [
    "np.corrcoef(iris.data.T)"
   ]
  },
  {
   "cell_type": "markdown",
   "metadata": {},
   "source": [
    "By checking the coefficient of the correlation between the features, the coefficient of the last two features is 0.9627."
   ]
  },
  {
   "cell_type": "markdown",
   "metadata": {},
   "source": [
    "<p><a name=\"ex4\"></a></p>\n",
    "#### Exercise 4\n",
    "\n",
    "With the data we loaded in the last exercise:\n",
    "\n",
    "- Use the function **SelectKBest** to select the best 3 features using the F test(*f_regression*). What are their names?"
   ]
  },
  {
   "cell_type": "code",
   "execution_count": 47,
   "metadata": {
    "collapsed": false
   },
   "outputs": [
    {
     "name": "stdout",
     "output_type": "stream",
     "text": [
      "(100, 3)\n"
     ]
    }
   ],
   "source": [
    "import sklearn.feature_selection as fs\n",
    "#### Your code here, call the result select2\n"
   ]
  },
  {
   "cell_type": "markdown",
   "metadata": {},
   "source": [
    "\n",
    "- Print out the first row of the features you select. Compare it to the first row of X. What are the features did you select. "
   ]
  },
  {
   "cell_type": "code",
   "execution_count": 48,
   "metadata": {
    "collapsed": false
   },
   "outputs": [
    {
     "name": "stdout",
     "output_type": "stream",
     "text": [
      "[  1.62434536   4.28583177  11.30815795]\n",
      "[  1.62434536   2.63849786   4.28583177   6.96167096  11.30815795\n",
      "  18.36835393]\n"
     ]
    }
   ],
   "source": [
    "#### Your code here\n"
   ]
  },
  {
   "cell_type": "markdown",
   "metadata": {},
   "source": [
    "** Appendix ** Here is how the data is generated:"
   ]
  },
  {
   "cell_type": "code",
   "execution_count": 49,
   "metadata": {
    "collapsed": false
   },
   "outputs": [],
   "source": [
    "import numpy as np\n",
    "np.random.seed(1)\n",
    "m = 100\n",
    "x = np.random.randn(m) \n",
    "y = x + 2 * x**2 - 3 * x**3 + np.random.randn(m)\n",
    "X = np.column_stack((x, x**2, x**3, x**4, x**5, x**6))\n",
    "data = pd.DataFrame(np.column_stack((X, y)))\n",
    "data.columns = ['x1', 'x2', 'x3', 'x4', 'x5', 'x6', 'y']\n",
    "data.to_csv('data/data_new.csv', index=False)"
   ]
  },
  {
   "cell_type": "markdown",
   "metadata": {},
   "source": [
    "- The features in the true model are $x1, x2, x3$. \n",
    "- Compare the features you selected in question 1 and question 2 with the true features, what do you find?"
   ]
  },
  {
   "cell_type": "markdown",
   "metadata": {},
   "source": [
    "- The features selected in question 1 do not match any of the true features.\n",
    "- Two of the true features are included in the result for question 2.\n",
    "\n",
    "So:\n",
    "- Features with high variance do not mean they are more likely to be related to the response variable.\n",
    "- The argument *threshold* in **VarianceThreshold** should be set low to remove the features that are nearly invariable.\n",
    "- F test is more reliable to choose features."
   ]
  },
  {
   "cell_type": "markdown",
   "metadata": {},
   "source": [
    "<p><a name=\"reg\"></a></p>\n",
    "\n",
    "## Regularization\n",
    "- Fit a model using a technique that regularizes the coefficient estimates, or equivalently, that shrinks the coefficient estimates towards zero. \n",
    "\n",
    "- Shrinking the coefficient estimates can significantly reduce their variances.\n",
    "\n",
    "- The two best-known techniques of shrinking methods are **ridge regression** and **lasso**."
   ]
  },
  {
   "cell_type": "markdown",
   "metadata": {},
   "source": [
    "<p><a name=\"ridge\"></a></p>\n",
    "### Ridge Regression\n",
    "\n",
    "- Recall that the least squares procedure estimates $\\beta$ by minimizing\n",
    "$$\\sum_{i=1}^{n} (y^{(i)} - \\beta_0 - \\sum_{j=1}^{k} \\beta_jx_j^{(i)})^2$$\n",
    "\n",
    "- The **ridge regression** instead estimates $\\beta$ by minimizing\n",
    "$$\\sum_{i=1}^{n} (y^{(i)} - \\beta_0 - \\sum_{j=1}^{k} \\beta_jx_j^{(i)})^2 + \\lambda \\sum_{j=1}^{k}\\beta_j^2$$\n",
    "\n",
    "where $\\lambda \\ge 0$ is a *tuning parameter* to be determined."
   ]
  },
  {
   "cell_type": "markdown",
   "metadata": {},
   "source": [
    "\n",
    "- By adding the term $\\lambda \\sum_{j=1}^{k}\\beta_j^2$ in the loss function, the estimation will try to shrink the parameters toward 0, hence this term is also called the **shrinkage penalty**. This is also called **L2 penalty**.\n",
    "\n",
    "- The tuning parameter $\\lambda$ is used  to control the relative impact of these two terms on the regression coefficient estimates. \n",
    "    - When $\\lambda = 0$, the ridge estimate is the same  with the least square estimate. \n",
    "    - When $\\lambda \\to \\infty$, all the parameters except $\\beta_0$ will be 0, because we do not penalize $\\beta_0$ in the loss function. \n",
    "\n",
    "- Selecting a good value for $\\lambda$ is critical. In practice, we will try a grid of  $\\lambda$ values and choose the best one."
   ]
  },
  {
   "cell_type": "markdown",
   "metadata": {},
   "source": [
    "<p><a name=\"ridge-sklearn\"></a></p>\n",
    "### Ridge Regression in Scikit-Learn\n",
    "\n",
    "If you read the documentation of **Ridge** in python, the objective function implemented is:\n",
    "\n",
    "$$\\min_{\\theta}  \\parallel X\\theta - y \\parallel_2^2 + \\alpha \\parallel \\theta \\parallel_2^2$$\n",
    "\n",
    "which is the same as the previous formula, except they used $\\theta \\text{ and } \\alpha \\text{ in the place of } \\beta \\text{ and } \\lambda$.\n",
    "\n",
    "Traininging ridge regresison is similar to linear regression:"
   ]
  },
  {
   "cell_type": "code",
   "execution_count": 50,
   "metadata": {
    "collapsed": true
   },
   "outputs": [],
   "source": [
    "## prepare data\n",
    "import pandas as pd\n",
    "import numpy as np\n",
    "adver = pd.read_csv('data/adver.csv', index_col=0)\n",
    "x = np.array(adver[['TV', 'Radio', 'Newspaper']])\n",
    "y = np.array(adver['Sales'])"
   ]
  },
  {
   "cell_type": "code",
   "execution_count": 51,
   "metadata": {
    "collapsed": false
   },
   "outputs": [
    {
     "data": {
      "text/plain": [
       "(array([ 0.04576464,  0.1885251 , -0.00103629]), 2.9389674583301524)"
      ]
     },
     "execution_count": 51,
     "metadata": {},
     "output_type": "execute_result"
    }
   ],
   "source": [
    "from sklearn import linear_model\n",
    "ridge = linear_model.Ridge(alpha = 1) # create a ridge regression instance\n",
    "ridge.fit(x, y) # fit data\n",
    "ridge.coef_, ridge.intercept_ # print out the coefficients"
   ]
  },
  {
   "cell_type": "code",
   "execution_count": 52,
   "metadata": {
    "collapsed": false
   },
   "outputs": [
    {
     "name": "stdout",
     "output_type": "stream",
     "text": [
      "The determination of ridge regression is: 0.8972\n"
     ]
    }
   ],
   "source": [
    "## determination\n",
    "print(\"The determination of ridge regression is: %.4f\" %ridge.score(x, y))"
   ]
  },
  {
   "cell_type": "code",
   "execution_count": 53,
   "metadata": {
    "collapsed": false
   },
   "outputs": [
    {
     "data": {
      "text/plain": [
       "array([ 6.66082361])"
      ]
     },
     "execution_count": 53,
     "metadata": {},
     "output_type": "execute_result"
    }
   ],
   "source": [
    "## prediction \n",
    "ridge.predict([[5.2, 18.5, 3.7]])"
   ]
  },
  {
   "cell_type": "markdown",
   "metadata": {},
   "source": [
    "Here is an example showing how the coefficients vary as the parameter $\\alpha$ increases."
   ]
  },
  {
   "cell_type": "code",
   "execution_count": 54,
   "metadata": {
    "collapsed": true
   },
   "outputs": [],
   "source": [
    "from sklearn import linear_model\n",
    "ridge = linear_model.Ridge()"
   ]
  },
  {
   "cell_type": "markdown",
   "metadata": {},
   "source": [
    "- Below we want to train a ridge model for each $\\alpha$, we collect the coefficients in the coef list for visualization later. Complete the for loop below."
   ]
  },
  {
   "cell_type": "code",
   "execution_count": 55,
   "metadata": {
    "collapsed": true
   },
   "outputs": [],
   "source": [
    "alpha_100 = np.logspace(0, 8, 100)\n",
    "coef = []\n",
    "for i in alpha_100:\n",
    "    ridge.set_params(alpha = i)\n",
    "    ridge.fit(x, y)\n",
    "    coef.append(ridge.coef_)"
   ]
  },
  {
   "cell_type": "code",
   "execution_count": 56,
   "metadata": {
    "collapsed": false
   },
   "outputs": [
    {
     "data": {
      "image/png": "[encoded data removed]",
      "text/plain": [
       "<matplotlib.figure.Figure at 0x11600ce80>"
      ]
     },
     "metadata": {},
     "output_type": "display_data"
    }
   ],
   "source": [
    "df_coef = pd.DataFrame(coef, index=alpha_100, columns=['TV', 'Radio', 'Newspaper'])\n",
    "import matplotlib.pyplot as plt\n",
    "title = 'Ridge coefficients as a function of the regularization'\n",
    "axes = df_coef.plot(logx=True, title=title)\n",
    "axes.set_xlabel('alpha')\n",
    "axes.set_ylabel('coefficients')\n",
    "plt.show()"
   ]
  },
  {
   "cell_type": "markdown",
   "metadata": {},
   "source": [
    "Another example using the iris data:"
   ]
  },
  {
   "cell_type": "code",
   "execution_count": 57,
   "metadata": {
    "collapsed": false
   },
   "outputs": [
    {
     "data": {
      "image/png": "[encoded data removed]",
      "text/plain": [
       "<matplotlib.figure.Figure at 0x117721438>"
      ]
     },
     "metadata": {},
     "output_type": "display_data"
    }
   ],
   "source": [
    "from sklearn import datasets\n",
    "iris = datasets.load_iris()\n",
    "# use the first three variables to predict the fourth variable\n",
    "iris.x = iris.data[:, :3]\n",
    "iris.y = iris.data[:, 3]\n",
    "\n",
    "alpha_100 = np.logspace(-2, 5, 100)\n",
    "coef = []\n",
    "for i in alpha_100:\n",
    "    ridge.set_params(alpha = i)\n",
    "    ridge.fit(iris.x, iris.y)\n",
    "    coef.append(ridge.coef_)\n",
    "\n",
    "columns = [\"Sepal Length\", \"Sepal Width\", \"Petal Length\"]\n",
    "df_coef = pd.DataFrame(coef, index=alpha_100, columns=columns)\n",
    "title = 'Ridge coefficients as a function of the regularization'\n",
    "df_coef.plot(logx=True, title=title)\n",
    "plt.xlabel('alpha')\n",
    "plt.ylabel('coefficients')\n",
    "plt.show()"
   ]
  },
  {
   "cell_type": "markdown",
   "metadata": {},
   "source": [
    "<p><a name=\"lasso\"></a></p>\n",
    "### Lasso\n",
    "\n",
    "- Similar to ridge regression, **Lasso** also add an extra penalty term in the loss function\n",
    "- But the penalty term is slightly different from the ridge regression's. The loss function of Lasso is :\n",
    "\n",
    "$$\\sum_{i=1}^{n} (y^{(i)} - \\beta_0 - \\sum_{j=1}^{k} \\beta_jx_j^{(i)})^2 + \\lambda \\sum_{j=1}^{k}|\\beta_j|$$\n",
    "\n",
    "- In Lasso the penalty term $\\sum_{j=1}^{k}\\beta_j^2$ is replaced by $\\sum_{j=1}^{k}|\\beta_j|$, this also shrinks the coefficient estimates towards zero. \n",
    "\n",
    "- The penalty term Lasso uses is called  **L1 penalty** instead of the **L2 penalty** in ridge regression. "
   ]
  },
  {
   "cell_type": "markdown",
   "metadata": {},
   "source": [
    "\n",
    "- However, in the case of the lasso, the L1 penalty has the effect of forcing some of the coefficient estimates to be exactly equal to zero when the tuning parameter $\\lambda$ is sufficiently large. \n",
    "\n",
    "- Hence the lasso can be used for feature selection. As a result, models generated from the lasso are generally much easier to interpret than those produced by ridge regression."
   ]
  },
  {
   "cell_type": "markdown",
   "metadata": {},
   "source": [
    "<p><a name=\"lasso-sklearn\"></a></p>\n",
    "### Lasso in Scikit-Learn\n",
    "\n",
    "The objective function of **Lasso** in python is:\n",
    "$$\\min_{\\theta} \\frac{1}{2n} \\parallel X\\theta - y \\parallel_2^2 + \\alpha | \\theta |_1$$\n",
    "where $n$ refers to the number of observations.\n",
    "\n",
    "- In lasso the sum of squares of residuals is multiplied by a constant $\\frac{1}{2n}$\n",
    "- The constant does not impact the optimal coefficient\n",
    "- The parameter $\\alpha$ is again used to control the effects of the regularization term.\n",
    "\n",
    "Implementing `Lasso` is similar to ridge regression:"
   ]
  },
  {
   "cell_type": "code",
   "execution_count": 58,
   "metadata": {
    "collapsed": false
   },
   "outputs": [
    {
     "data": {
      "text/plain": [
       "(array([ 0.04566142,  0.1834644 ,  0.        ]), 3.0402155834803786)"
      ]
     },
     "execution_count": 58,
     "metadata": {},
     "output_type": "execute_result"
    }
   ],
   "source": [
    "## coefficients\n",
    "lasso = linear_model.Lasso(alpha=1) # create a lasso instance\n",
    "lasso.fit(x, y) # fit data\n",
    "lasso.coef_, lasso.intercept_ # print out the coefficients"
   ]
  },
  {
   "cell_type": "markdown",
   "metadata": {},
   "source": [
    "Note that the third coefficient is exactly 0!"
   ]
  },
  {
   "cell_type": "code",
   "execution_count": 59,
   "metadata": {
    "collapsed": false
   },
   "outputs": [
    {
     "name": "stdout",
     "output_type": "stream",
     "text": [
      "The determination of ridge regression is: 0.8970\n"
     ]
    }
   ],
   "source": [
    "## determination\n",
    "print(\"The determination of ridge regression is: %.4f\" %lasso.score(x, y))"
   ]
  },
  {
   "cell_type": "code",
   "execution_count": 60,
   "metadata": {
    "collapsed": false
   },
   "outputs": [
    {
     "data": {
      "text/plain": [
       "array([ 6.6717463])"
      ]
     },
     "execution_count": 60,
     "metadata": {},
     "output_type": "execute_result"
    }
   ],
   "source": [
    "## prediction\n",
    "lasso.predict([[5.2, 18.5, 3.7]])"
   ]
  },
  {
   "cell_type": "markdown",
   "metadata": {},
   "source": [
    "- Here we perform lasso on the advertise data. We first create a list of $\\alpha$"
   ]
  },
  {
   "cell_type": "code",
   "execution_count": 61,
   "metadata": {
    "collapsed": false
   },
   "outputs": [],
   "source": [
    "alphas_lasso = np.logspace(-2, 4, 100)\n",
    "coef_lasso = []"
   ]
  },
  {
   "cell_type": "markdown",
   "metadata": {},
   "source": [
    "- Write a for loop to train an lasso regression for each α in the alphas_lasso. Collect the resulted coefficients into coef_lasso"
   ]
  },
  {
   "cell_type": "code",
   "execution_count": 62,
   "metadata": {
    "collapsed": false
   },
   "outputs": [],
   "source": [
    "for i in alphas_lasso:\n",
    "    lasso.set_params(alpha=i).fit(x, y)\n",
    "    coef_lasso.append(lasso.coef_)"
   ]
  },
  {
   "cell_type": "code",
   "execution_count": 63,
   "metadata": {
    "collapsed": false
   },
   "outputs": [
    {
     "data": {
      "image/png": "[encoded data removed]",
      "text/plain": [
       "<matplotlib.figure.Figure at 0x117493cc0>"
      ]
     },
     "metadata": {},
     "output_type": "display_data"
    }
   ],
   "source": [
    "columns = ['TV', 'Radio', 'Newspaper']\n",
    "df_coef = pd.DataFrame(coef_lasso, index=alphas_lasso, columns=columns)\n",
    "title = 'Lasso coefficients as a function of the regularization'\n",
    "df_coef.plot(logx=True, title=title)\n",
    "plt.xlabel('alpha')\n",
    "plt.ylabel('coefficients')\n",
    "plt.show()"
   ]
  },
  {
   "cell_type": "markdown",
   "metadata": {},
   "source": [
    "Another example of using lasso:"
   ]
  },
  {
   "cell_type": "code",
   "execution_count": 64,
   "metadata": {
    "collapsed": false
   },
   "outputs": [
    {
     "data": {
      "image/png": "[encoded data removed]",
      "text/plain": [
       "<matplotlib.figure.Figure at 0x11754cb38>"
      ]
     },
     "metadata": {},
     "output_type": "display_data"
    }
   ],
   "source": [
    "alphas_lasso = np.logspace(-4, 2, 100)\n",
    "coef_lasso = []\n",
    "for i in alphas_lasso:\n",
    "    lasso.set_params(alpha = i).fit(iris.x, iris.y)\n",
    "    coef_lasso.append(lasso.coef_)\n",
    "\n",
    "columns = [\"Sepal Length\", \"Sepal Width\", \"Petal Length\"]\n",
    "df_coef = pd.DataFrame(coef_lasso, index=alphas_lasso, columns=columns)\n",
    "title = 'Lasso coefficients as a function of the regularization'\n",
    "df_coef.plot(logx=True, title=title)\n",
    "plt.xlabel('alpha')\n",
    "plt.ylabel('coefficients')\n",
    "plt.show()"
   ]
  },
  {
   "cell_type": "markdown",
   "metadata": {},
   "source": [
    "### Ridge v.s. Lasso\n",
    "\n",
    "![l1vsl2](pic/l1vsl2.png)\n",
    "\n",
    "Comparing the path of ridge with the path of lasso:\n",
    "\n",
    "- In ridge regression, all the coefficients tend to reach 0 at the same time.\n",
    "- In lasso, the coefficients tend towards 0 one by one.\n",
    "- Lasso selects features with th eappropriate penalty."
   ]
  },
  {
   "cell_type": "markdown",
   "metadata": {},
   "source": [
    "<img src=\"http://jamesmccammondotcom.files.wordpress.com/2014/04/screen-shot-2014-04-19-at-11-19-00-pm.png?w=1200\" style=\"width: 300px;\">\n",
    "This picture comes from [An Introduction to Statistical Learning](http://www-bcf.usc.edu/~gareth/ISL/)"
   ]
  },
  {
   "cell_type": "markdown",
   "metadata": {},
   "source": [
    "**Which one to use?**\n",
    "\n",
    "- Neither ridge regression nor lasso will universally dominate the other.\n",
    "\n",
    "- In general, one might expect lasso to perform better when the response is a function of only a relatively small number of predictors. However, the number of predictors that is related to the response is never known.\n",
    "\n",
    "- A technique such as cross-validation can be used in order to determine which approach is better on a particular data set.\n"
   ]
  },
  {
   "cell_type": "markdown",
   "metadata": {},
   "source": [
    "<p><a name=\"elastic\"></a></p>\n",
    "### ElasticNet\n",
    "\n",
    "- ElasticNet is a linear regression model that combines L1 with L2 regularization \n",
    "- This combination allows for learning a sparse model where few of the weights are non-zero like Lasso, while still maintaining the regularization properties of Ridge. \n",
    "- ElasticNet is useful when there are multiple features correlated with one another."
   ]
  },
  {
   "cell_type": "markdown",
   "metadata": {},
   "source": [
    "<p><a name=\"elastic-sklearn\"></a></p>\n",
    "\n",
    "### ElasticNet in Scikit-Learn\n",
    "\n",
    "Here is the objective function of ElasticNet:\n",
    "$$\\min_{\\theta} \\frac{1}{2n} \\parallel X\\theta - y \\parallel_2^2 + \\alpha \\rho | \\theta |_1 + \\frac{\\alpha(1-\\rho)}{2} \\parallel \\theta \\parallel_2^2$$\n",
    "where $n$ refers to the number of observations, and $0 \\le \\rho \\le1$.\n",
    "\n",
    "- $\\alpha$ controls the effects of regularization.\n",
    "- $\\rho$ control the convex combination of L1 and L2. \n",
    "    - $\\rho = 0$ degenerates back to ridge regression\n",
    "    - $\\rho = 1$ degenerates back to lasso"
   ]
  },
  {
   "cell_type": "code",
   "execution_count": 65,
   "metadata": {
    "collapsed": false
   },
   "outputs": [
    {
     "data": {
      "text/plain": [
       "(array([ 0.04570901,  0.18530658, -0.        ]), 2.9903600618190662)"
      ]
     },
     "execution_count": 65,
     "metadata": {},
     "output_type": "execute_result"
    }
   ],
   "source": [
    "## coefficients\n",
    "elastic = linear_model.ElasticNet(alpha = 1, l1_ratio = 0.5)\n",
    "elastic.fit(x, y) # fit model\n",
    "elastic.coef_, elastic.intercept_ # coefficients"
   ]
  },
  {
   "cell_type": "markdown",
   "metadata": {},
   "source": [
    "- The argument *alpha* corresponds to $\\alpha$.\n",
    "- The argument *l1_radio* corresponds to $\\rho$."
   ]
  },
  {
   "cell_type": "code",
   "execution_count": 66,
   "metadata": {
    "collapsed": false
   },
   "outputs": [
    {
     "name": "stdout",
     "output_type": "stream",
     "text": [
      "The determination of ElasticNet is: 0.8971\n"
     ]
    }
   ],
   "source": [
    "## determination\n",
    "print(\"The determination of ElasticNet is: %.4f\" %elastic.score(x, y))"
   ]
  },
  {
   "cell_type": "code",
   "execution_count": 67,
   "metadata": {
    "collapsed": false
   },
   "outputs": [
    {
     "data": {
      "text/plain": [
       "array([ 6.65621868])"
      ]
     },
     "execution_count": 67,
     "metadata": {},
     "output_type": "execute_result"
    }
   ],
   "source": [
    "## prediction\n",
    "elastic.predict([[5.2, 18.5, 3.7]])"
   ]
  },
  {
   "cell_type": "markdown",
   "metadata": {},
   "source": [
    "The path of ElasticNet:"
   ]
  },
  {
   "cell_type": "markdown",
   "metadata": {},
   "source": [
    "- Here we perform ElasticNet on the advertise data. We first create a list of $\\alpha$"
   ]
  },
  {
   "cell_type": "code",
   "execution_count": 68,
   "metadata": {
    "collapsed": true
   },
   "outputs": [],
   "source": [
    "alphas_elastic = np.logspace(-2, 4, 1000)\n",
    "coef_elastic = []"
   ]
  },
  {
   "cell_type": "markdown",
   "metadata": {},
   "source": [
    "- Write a for loop to train an lasso regression for each α in the alphas_lasso. Collect the resulted coefficients into coef_lasso"
   ]
  },
  {
   "cell_type": "code",
   "execution_count": 69,
   "metadata": {
    "collapsed": true
   },
   "outputs": [],
   "source": [
    "for i in alphas_elastic:\n",
    "    elastic = linear_model.ElasticNet(l1_ratio =0.5)\n",
    "    elastic.set_params(alpha = i)\n",
    "    elastic.fit(x, y)\n",
    "    coef_elastic.append(elastic.coef_)"
   ]
  },
  {
   "cell_type": "code",
   "execution_count": 70,
   "metadata": {
    "collapsed": false
   },
   "outputs": [
    {
     "data": {
      "image/png": "[encoded data removed]",
      "text/plain": [
       "<matplotlib.figure.Figure at 0x117c63e80>"
      ]
     },
     "metadata": {},
     "output_type": "display_data"
    }
   ],
   "source": [
    "columns = ['TV', 'Radio', 'Newspaper']\n",
    "df_coef = pd.DataFrame(coef_elastic, index=alphas_elastic, columns=columns)\n",
    "title = 'Lasso coefficients as a function of the regularization'\n",
    "df_coef.plot(logx=True, title=title)\n",
    "plt.xlabel('alpha')\n",
    "plt.ylabel('coefficients')\n",
    "plt.show()"
   ]
  },
  {
   "cell_type": "markdown",
   "metadata": {
    "collapsed": true
   },
   "source": [
    "<p><a name=\"grid\"></a></p>\n",
    "## Grid Search\n",
    "- Linear regression with regularization was a specific algorithm to speed up the computation. \n",
    "- For parameters in the other models, we can only try all the possible values and then choose the best one.\n",
    "- The grid search provided by **GridSearchCV** exhaustively generates candidates from a grid of parameter values specified.\n",
    "- The **GridSearchCV** instance implements the usual estimator API: when “fitting” it on a dataset all the possible combinations of parameter values are evaluated and the best combination is retained.\n",
    "\n",
    "Search the best parameter for **KNN**:"
   ]
  },
  {
   "cell_type": "code",
   "execution_count": 71,
   "metadata": {
    "collapsed": true
   },
   "outputs": [],
   "source": [
    "from sklearn import neighbors\n",
    "knn = neighbors.KNeighborsClassifier()"
   ]
  },
  {
   "cell_type": "code",
   "execution_count": 72,
   "metadata": {
    "collapsed": false
   },
   "outputs": [],
   "source": [
    "from sklearn.model_selection import GridSearchCV\n",
    "from sklearn import datasets\n",
    "iris = datasets.load_iris()\n",
    "## set the possible parameters from 3 to 30\n",
    "\n",
    "grid_param = [{'n_neighbors': range(3, 31)}]\n",
    "## fit all models\n",
    "para_search = GridSearchCV(estimator=knn, param_grid=grid_param, scoring='accuracy', cv=5).fit(iris.data, iris.target)"
   ]
  },
  {
   "cell_type": "markdown",
   "metadata": {},
   "source": [
    "- Fit model on the iris data set.\n",
    "- In this case, we perform 5-fold cross validation, which is defined by *cv=5*.\n",
    "- Choose the best parameter by the accuracy of the models.\n",
    "- The parameter 'n_neighbors' ranges in [3, 4, 5, ..., 30].\n"
   ]
  },
  {
   "cell_type": "markdown",
   "metadata": {},
   "source": [
    "The **cv\\_results\\_** attributes stores scores and many other values from the grid search:"
   ]
  },
  {
   "cell_type": "code",
   "execution_count": 73,
   "metadata": {
    "collapsed": false
   },
   "outputs": [
    {
     "data": {
      "text/plain": [
       "{'mean_fit_time': array([ 0.00180964,  0.00250325,  0.00085435,  0.00066123,  0.00072579,\n",
       "         0.00074997,  0.00066342,  0.00073867,  0.00052762,  0.00083179,\n",
       "         0.00160823,  0.00073094,  0.00059643,  0.00046301,  0.00048919,\n",
       "         0.00061259,  0.00044274,  0.00044432,  0.00056648,  0.00041656,\n",
       "         0.00046773,  0.00141249,  0.00093894,  0.00054173,  0.00076466,\n",
       "         0.00058036,  0.00059128,  0.00052094]),\n",
       " 'mean_score_time': array([ 0.00313096,  0.00463991,  0.00187011,  0.00120168,  0.0013526 ,\n",
       "         0.00318537,  0.00166984,  0.00158963,  0.00099974,  0.00133471,\n",
       "         0.00182567,  0.00143456,  0.00188293,  0.00099268,  0.00116773,\n",
       "         0.00107493,  0.00083466,  0.00097742,  0.00095329,  0.00089893,\n",
       "         0.0010756 ,  0.00198646,  0.00182085,  0.00130582,  0.00149717,\n",
       "         0.00115709,  0.00142798,  0.00110445]),\n",
       " 'mean_test_score': array([ 0.96666667,  0.97333333,  0.97333333,  0.98      ,  0.98      ,\n",
       "         0.96666667,  0.97333333,  0.98      ,  0.98      ,  0.98      ,\n",
       "         0.97333333,  0.96666667,  0.96666667,  0.96666667,  0.96666667,\n",
       "         0.96666667,  0.96666667,  0.96      ,  0.96666667,  0.96      ,\n",
       "         0.96      ,  0.94666667,  0.96      ,  0.94666667,  0.94666667,\n",
       "         0.94      ,  0.93333333,  0.94      ]),\n",
       " 'mean_train_score': array([ 0.96      ,  0.96333333,  0.97      ,  0.97333333,  0.97333333,\n",
       "         0.98      ,  0.97833333,  0.97333333,  0.975     ,  0.975     ,\n",
       "         0.97833333,  0.97666667,  0.97666667,  0.975     ,  0.975     ,\n",
       "         0.975     ,  0.97333333,  0.96666667,  0.96833333,  0.96333333,\n",
       "         0.96333333,  0.95666667,  0.96      ,  0.955     ,  0.95666667,\n",
       "         0.95166667,  0.95333333,  0.95      ]),\n",
       " 'param_n_neighbors': masked_array(data = [3 4 5 6 7 8 9 10 11 12 13 14 15 16 17 18 19 20 21 22 23 24 25 26 27 28 29\n",
       "  30],\n",
       "              mask = [False False False False False False False False False False False False\n",
       "  False False False False False False False False False False False False\n",
       "  False False False False],\n",
       "        fill_value = ?),\n",
       " 'params': ({'n_neighbors': 3},\n",
       "  {'n_neighbors': 4},\n",
       "  {'n_neighbors': 5},\n",
       "  {'n_neighbors': 6},\n",
       "  {'n_neighbors': 7},\n",
       "  {'n_neighbors': 8},\n",
       "  {'n_neighbors': 9},\n",
       "  {'n_neighbors': 10},\n",
       "  {'n_neighbors': 11},\n",
       "  {'n_neighbors': 12},\n",
       "  {'n_neighbors': 13},\n",
       "  {'n_neighbors': 14},\n",
       "  {'n_neighbors': 15},\n",
       "  {'n_neighbors': 16},\n",
       "  {'n_neighbors': 17},\n",
       "  {'n_neighbors': 18},\n",
       "  {'n_neighbors': 19},\n",
       "  {'n_neighbors': 20},\n",
       "  {'n_neighbors': 21},\n",
       "  {'n_neighbors': 22},\n",
       "  {'n_neighbors': 23},\n",
       "  {'n_neighbors': 24},\n",
       "  {'n_neighbors': 25},\n",
       "  {'n_neighbors': 26},\n",
       "  {'n_neighbors': 27},\n",
       "  {'n_neighbors': 28},\n",
       "  {'n_neighbors': 29},\n",
       "  {'n_neighbors': 30}),\n",
       " 'rank_test_score': array([10,  6,  6,  1,  1, 10,  6,  1,  1,  1,  6, 10, 10, 10, 10, 10, 10,\n",
       "        19, 10, 19, 19, 23, 19, 23, 23, 26, 28, 26], dtype=int32),\n",
       " 'split0_test_score': array([ 0.96666667,  0.96666667,  0.96666667,  0.96666667,  0.96666667,\n",
       "         0.96666667,  0.96666667,  0.96666667,  0.93333333,  0.93333333,\n",
       "         0.93333333,  0.93333333,  0.93333333,  0.93333333,  0.93333333,\n",
       "         0.93333333,  0.93333333,  0.93333333,  0.93333333,  0.93333333,\n",
       "         0.93333333,  0.93333333,  0.93333333,  0.93333333,  0.9       ,\n",
       "         0.9       ,  0.9       ,  0.9       ]),\n",
       " 'split0_train_score': array([ 0.95833333,  0.95833333,  0.96666667,  0.96666667,  0.96666667,\n",
       "         0.975     ,  0.975     ,  0.975     ,  0.98333333,  0.98333333,\n",
       "         0.98333333,  0.98333333,  0.98333333,  0.98333333,  0.98333333,\n",
       "         0.98333333,  0.98333333,  0.98333333,  0.96666667,  0.975     ,\n",
       "         0.975     ,  0.975     ,  0.975     ,  0.975     ,  0.96666667,\n",
       "         0.95      ,  0.95833333,  0.95833333]),\n",
       " 'split1_test_score': array([ 0.96666667,  0.96666667,  1.        ,  1.        ,  1.        ,\n",
       "         1.        ,  1.        ,  1.        ,  1.        ,  1.        ,\n",
       "         1.        ,  1.        ,  1.        ,  1.        ,  1.        ,\n",
       "         1.        ,  1.        ,  1.        ,  1.        ,  1.        ,\n",
       "         1.        ,  0.96666667,  0.96666667,  0.96666667,  0.96666667,\n",
       "         0.96666667,  0.96666667,  0.96666667]),\n",
       " 'split1_train_score': array([ 0.95833333,  0.95833333,  0.96666667,  0.975     ,  0.96666667,\n",
       "         0.98333333,  0.98333333,  0.975     ,  0.975     ,  0.975     ,\n",
       "         0.975     ,  0.975     ,  0.975     ,  0.98333333,  0.96666667,\n",
       "         0.98333333,  0.975     ,  0.95833333,  0.975     ,  0.94166667,\n",
       "         0.95      ,  0.94166667,  0.95      ,  0.93333333,  0.94166667,\n",
       "         0.94166667,  0.94166667,  0.93333333]),\n",
       " 'split2_test_score': array([ 0.93333333,  0.96666667,  0.93333333,  0.96666667,  0.96666667,\n",
       "         0.93333333,  0.96666667,  1.        ,  1.        ,  1.        ,\n",
       "         0.96666667,  0.96666667,  0.93333333,  0.93333333,  0.93333333,\n",
       "         0.96666667,  0.93333333,  0.93333333,  0.93333333,  0.93333333,\n",
       "         0.93333333,  0.9       ,  0.93333333,  0.93333333,  0.93333333,\n",
       "         0.93333333,  0.9       ,  0.93333333]),\n",
       " 'split2_train_score': array([ 0.96666667,  0.95833333,  0.975     ,  0.975     ,  0.975     ,\n",
       "         0.975     ,  0.975     ,  0.975     ,  0.975     ,  0.975     ,\n",
       "         0.975     ,  0.975     ,  0.98333333,  0.975     ,  0.98333333,\n",
       "         0.975     ,  0.975     ,  0.975     ,  0.975     ,  0.95833333,\n",
       "         0.95833333,  0.95833333,  0.96666667,  0.96666667,  0.96666667,\n",
       "         0.95833333,  0.95833333,  0.95833333]),\n",
       " 'split3_test_score': array([ 0.96666667,  0.96666667,  0.96666667,  0.96666667,  0.96666667,\n",
       "         0.93333333,  0.93333333,  0.93333333,  0.96666667,  0.96666667,\n",
       "         0.96666667,  0.93333333,  0.96666667,  0.96666667,  0.96666667,\n",
       "         0.93333333,  0.96666667,  0.93333333,  0.96666667,  0.93333333,\n",
       "         0.93333333,  0.93333333,  0.96666667,  0.9       ,  0.93333333,\n",
       "         0.9       ,  0.9       ,  0.9       ]),\n",
       " 'split3_train_score': array([ 0.96666667,  0.975     ,  0.975     ,  0.98333333,  0.98333333,\n",
       "         0.99166667,  0.98333333,  0.98333333,  0.975     ,  0.98333333,\n",
       "         0.98333333,  0.98333333,  0.975     ,  0.98333333,  0.98333333,\n",
       "         0.98333333,  0.98333333,  0.975     ,  0.975     ,  0.99166667,\n",
       "         0.98333333,  0.975     ,  0.96666667,  0.96666667,  0.96666667,\n",
       "         0.96666667,  0.96666667,  0.96666667]),\n",
       " 'split4_test_score': array([ 1.,  1.,  1.,  1.,  1.,  1.,  1.,  1.,  1.,  1.,  1.,  1.,  1.,\n",
       "         1.,  1.,  1.,  1.,  1.,  1.,  1.,  1.,  1.,  1.,  1.,  1.,  1.,\n",
       "         1.,  1.]),\n",
       " 'split4_train_score': array([ 0.95      ,  0.96666667,  0.96666667,  0.96666667,  0.975     ,\n",
       "         0.975     ,  0.975     ,  0.95833333,  0.96666667,  0.95833333,\n",
       "         0.975     ,  0.96666667,  0.96666667,  0.95      ,  0.95833333,\n",
       "         0.95      ,  0.95      ,  0.94166667,  0.95      ,  0.95      ,\n",
       "         0.95      ,  0.93333333,  0.94166667,  0.93333333,  0.94166667,\n",
       "         0.94166667,  0.94166667,  0.93333333]),\n",
       " 'std_fit_time': array([  2.31888547e-03,   2.34783409e-03,   2.50921735e-04,\n",
       "          1.10206816e-04,   2.86471462e-04,   1.35766484e-04,\n",
       "          1.72735904e-04,   1.47431418e-04,   1.04675803e-04,\n",
       "          4.08819235e-04,   9.16192819e-04,   1.17506202e-04,\n",
       "          1.13119262e-04,   4.11844891e-05,   1.03439532e-04,\n",
       "          1.81045631e-04,   6.71326773e-05,   4.48844363e-05,\n",
       "          1.57830722e-04,   3.03477539e-05,   9.54960195e-05,\n",
       "          8.25683127e-04,   3.77262832e-04,   1.33262243e-04,\n",
       "          3.81653009e-04,   8.91599294e-05,   1.51339430e-04,\n",
       "          7.64721042e-05]),\n",
       " 'std_score_time': array([  3.38390043e-03,   5.48504836e-03,   5.98271858e-04,\n",
       "          2.30965291e-04,   2.92617462e-04,   2.36653976e-03,\n",
       "          4.75915743e-04,   6.22538506e-04,   2.67138093e-04,\n",
       "          4.02812529e-04,   6.11256632e-04,   1.36868213e-04,\n",
       "          1.42795108e-03,   2.71754412e-04,   2.52680928e-04,\n",
       "          2.11272205e-04,   3.71310128e-05,   9.72097310e-05,\n",
       "          1.70305687e-04,   8.19091323e-05,   2.48741024e-04,\n",
       "          6.88274217e-04,   4.69957877e-04,   2.33165472e-04,\n",
       "          4.61234224e-04,   2.73592956e-04,   4.88325593e-04,\n",
       "          2.27019342e-04]),\n",
       " 'std_test_score': array([ 0.02108185,  0.01333333,  0.02494438,  0.01632993,  0.01632993,\n",
       "         0.02981424,  0.02494438,  0.02666667,  0.02666667,  0.02666667,\n",
       "         0.02494438,  0.02981424,  0.02981424,  0.02981424,  0.02981424,\n",
       "         0.02981424,  0.02981424,  0.03265986,  0.02981424,  0.03265986,\n",
       "         0.03265986,  0.03399346,  0.02494438,  0.03399346,  0.03399346,\n",
       "         0.03887301,  0.0421637 ,  0.03887301]),\n",
       " 'std_train_score': array([ 0.0062361 ,  0.00666667,  0.00408248,  0.0062361 ,  0.0062361 ,\n",
       "         0.00666667,  0.00408248,  0.00816497,  0.00527046,  0.00912871,\n",
       "         0.00408248,  0.0062361 ,  0.0062361 ,  0.01290994,  0.01054093,\n",
       "         0.01290994,  0.01224745,  0.01490712,  0.00971825,  0.01795055,\n",
       "         0.01354006,  0.01699673,  0.01224745,  0.01795055,  0.01224745,\n",
       "         0.00971825,  0.01      ,  0.01394433])}"
      ]
     },
     "execution_count": 73,
     "metadata": {},
     "output_type": "execute_result"
    }
   ],
   "source": [
    "para_search.cv_results_"
   ]
  },
  {
   "cell_type": "markdown",
   "metadata": {},
   "source": [
    "Before scikit-learn 0.18, the **grid\\_scores\\_** was the primary attribute to get scores for all parameters:"
   ]
  },
  {
   "cell_type": "code",
   "execution_count": 74,
   "metadata": {
    "collapsed": false
   },
   "outputs": [
    {
     "name": "stderr",
     "output_type": "stream",
     "text": [
      "/Users/rheineke/anaconda3/lib/python3.6/site-packages/sklearn/model_selection/_search.py:667: DeprecationWarning: The grid_scores_ attribute was deprecated in version 0.18 in favor of the more elaborate cv_results_ attribute. The grid_scores_ attribute will not be available from 0.20\n",
      "  DeprecationWarning)\n"
     ]
    },
    {
     "data": {
      "text/plain": [
       "[mean: 0.96667, std: 0.02108, params: {'n_neighbors': 3},\n",
       " mean: 0.97333, std: 0.01333, params: {'n_neighbors': 4},\n",
       " mean: 0.97333, std: 0.02494, params: {'n_neighbors': 5},\n",
       " mean: 0.98000, std: 0.01633, params: {'n_neighbors': 6},\n",
       " mean: 0.98000, std: 0.01633, params: {'n_neighbors': 7},\n",
       " mean: 0.96667, std: 0.02981, params: {'n_neighbors': 8},\n",
       " mean: 0.97333, std: 0.02494, params: {'n_neighbors': 9},\n",
       " mean: 0.98000, std: 0.02667, params: {'n_neighbors': 10},\n",
       " mean: 0.98000, std: 0.02667, params: {'n_neighbors': 11},\n",
       " mean: 0.98000, std: 0.02667, params: {'n_neighbors': 12},\n",
       " mean: 0.97333, std: 0.02494, params: {'n_neighbors': 13},\n",
       " mean: 0.96667, std: 0.02981, params: {'n_neighbors': 14},\n",
       " mean: 0.96667, std: 0.02981, params: {'n_neighbors': 15},\n",
       " mean: 0.96667, std: 0.02981, params: {'n_neighbors': 16},\n",
       " mean: 0.96667, std: 0.02981, params: {'n_neighbors': 17},\n",
       " mean: 0.96667, std: 0.02981, params: {'n_neighbors': 18},\n",
       " mean: 0.96667, std: 0.02981, params: {'n_neighbors': 19},\n",
       " mean: 0.96000, std: 0.03266, params: {'n_neighbors': 20},\n",
       " mean: 0.96667, std: 0.02981, params: {'n_neighbors': 21},\n",
       " mean: 0.96000, std: 0.03266, params: {'n_neighbors': 22},\n",
       " mean: 0.96000, std: 0.03266, params: {'n_neighbors': 23},\n",
       " mean: 0.94667, std: 0.03399, params: {'n_neighbors': 24},\n",
       " mean: 0.96000, std: 0.02494, params: {'n_neighbors': 25},\n",
       " mean: 0.94667, std: 0.03399, params: {'n_neighbors': 26},\n",
       " mean: 0.94667, std: 0.03399, params: {'n_neighbors': 27},\n",
       " mean: 0.94000, std: 0.03887, params: {'n_neighbors': 28},\n",
       " mean: 0.93333, std: 0.04216, params: {'n_neighbors': 29},\n",
       " mean: 0.94000, std: 0.03887, params: {'n_neighbors': 30}]"
      ]
     },
     "execution_count": 74,
     "metadata": {},
     "output_type": "execute_result"
    }
   ],
   "source": [
    "para_search.grid_scores_"
   ]
  },
  {
   "cell_type": "markdown",
   "metadata": {},
   "source": [
    "- **best\\_score\\_**: Score of best_estimator on the hold out data.\n",
    "- **best\\_params\\_**: Parameter setting that gave the best results on the hold out data."
   ]
  },
  {
   "cell_type": "code",
   "execution_count": 75,
   "metadata": {
    "collapsed": false
   },
   "outputs": [
    {
     "name": "stdout",
     "output_type": "stream",
     "text": [
      "0.98\n",
      "{'n_neighbors': 6}\n"
     ]
    }
   ],
   "source": [
    "print(para_search.best_score_)\n",
    "print(para_search.best_params_)"
   ]
  },
  {
   "cell_type": "markdown",
   "metadata": {},
   "source": [
    "The best parameter here is 6, and the corresponding accuracy is 98%."
   ]
  },
  {
   "cell_type": "markdown",
   "metadata": {},
   "source": [
    "- At last, we implement KNN with the best parameter on the whole data set.\n",
    "- **best\\_estimator\\_** : Estimator that was chosen by the search, i.e. estimator which gave highest score on the hold out data."
   ]
  },
  {
   "cell_type": "code",
   "execution_count": 76,
   "metadata": {
    "collapsed": false
   },
   "outputs": [
    {
     "data": {
      "text/plain": [
       "KNeighborsClassifier(algorithm='auto', leaf_size=30, metric='minkowski',\n",
       "           metric_params=None, n_jobs=1, n_neighbors=6, p=2,\n",
       "           weights='uniform')"
      ]
     },
     "execution_count": 76,
     "metadata": {},
     "output_type": "execute_result"
    }
   ],
   "source": [
    "para_search.best_estimator_"
   ]
  },
  {
   "cell_type": "code",
   "execution_count": 77,
   "metadata": {
    "collapsed": false
   },
   "outputs": [
    {
     "data": {
      "text/plain": [
       "0.97333333333333338"
      ]
     },
     "execution_count": 77,
     "metadata": {},
     "output_type": "execute_result"
    }
   ],
   "source": [
    "knn_best = para_search.best_estimator_\n",
    "knn_best.fit(iris.data, iris.target)\n",
    "knn_best.score(iris.data, iris.target)"
   ]
  },
  {
   "cell_type": "markdown",
   "metadata": {},
   "source": [
    "Here is a more complicated case:\n",
    "- Set the 'weights' parameter to be 'uniform' or 'distance'.\n",
    "- Set the parameter 'n_neighbors' to be 3 to 30.\n",
    "- Set 'p' may equals to 1 or 2.\n",
    "\n",
    "**GridSearchCV** will fit all the possible combinations of the parameters, and choose the best model by the accuracy with 5-fold cross-validation."
   ]
  },
  {
   "cell_type": "code",
   "execution_count": 78,
   "metadata": {
    "collapsed": false
   },
   "outputs": [
    {
     "data": {
      "text/plain": [
       "{'mean_fit_time': array([ 0.00088062,  0.00077152,  0.00080385,  0.00055785,  0.00063863,\n",
       "         0.00053043,  0.0005568 ,  0.00052242,  0.00045156,  0.00059485,\n",
       "         0.00051355,  0.00056586,  0.00140038,  0.00053005,  0.00068765,\n",
       "         0.00058722,  0.00069084,  0.00056753,  0.00052052,  0.00051203,\n",
       "         0.00067015,  0.00041718,  0.00038223,  0.00041795,  0.00041924,\n",
       "         0.00046244,  0.00054626,  0.00040803,  0.00040407,  0.00044761,\n",
       "         0.00041699,  0.0003777 ,  0.00110006,  0.0010148 ,  0.00197554,\n",
       "         0.00640526,  0.00097504,  0.00109587,  0.00073519,  0.00689979,\n",
       "         0.00191875,  0.00095463,  0.00181732,  0.00202565,  0.0018569 ,\n",
       "         0.00055814,  0.00043259,  0.00081429,  0.00049558,  0.00055699,\n",
       "         0.00042682,  0.00129733,  0.00048761,  0.00058408,  0.00039611,\n",
       "         0.00037847,  0.00041051,  0.00042596,  0.00040627,  0.00039005,\n",
       "         0.00056076,  0.00040054,  0.00043688,  0.00040298,  0.00041566,\n",
       "         0.00048046,  0.00096626,  0.00099163,  0.00056376,  0.00054436,\n",
       "         0.00045223,  0.00057011,  0.0005228 ,  0.00061741,  0.00042377,\n",
       "         0.00041041,  0.00065184,  0.00066018,  0.00058408,  0.00040593,\n",
       "         0.00043006,  0.00040355,  0.00050559,  0.0006846 ,  0.00051804,\n",
       "         0.00049982,  0.00053558,  0.00040669,  0.00061598,  0.0004827 ,\n",
       "         0.00046639,  0.00050564,  0.00044661,  0.00056744,  0.00055137,\n",
       "         0.00133309,  0.00056267,  0.0005126 ,  0.001196  ,  0.00062885,\n",
       "         0.00044827,  0.00035782,  0.00044146,  0.00039225,  0.00043988,\n",
       "         0.00038681,  0.00042734,  0.0004127 ,  0.00042696,  0.00039024,\n",
       "         0.00037036,  0.00053363]),\n",
       " 'mean_score_time': array([ 0.0014441 ,  0.00278249,  0.00141854,  0.00102205,  0.00149121,\n",
       "         0.00104642,  0.00152683,  0.00114675,  0.00085602,  0.00109715,\n",
       "         0.00096245,  0.00129757,  0.00158701,  0.00098138,  0.00130191,\n",
       "         0.00119014,  0.0014421 ,  0.00129623,  0.00089154,  0.00106587,\n",
       "         0.00119219,  0.00084872,  0.00076957,  0.00094681,  0.0008038 ,\n",
       "         0.00118237,  0.00130153,  0.00077758,  0.00076418,  0.00085382,\n",
       "         0.00085158,  0.00090284,  0.00202298,  0.00374308,  0.0036622 ,\n",
       "         0.00788589,  0.00877461,  0.00221915,  0.01212296,  0.00702939,\n",
       "         0.00165863,  0.00288186,  0.00517612,  0.00194216,  0.00244126,\n",
       "         0.00139604,  0.00100231,  0.00225692,  0.00093236,  0.00123081,\n",
       "         0.00095305,  0.00107322,  0.00097237,  0.00124011,  0.00081582,\n",
       "         0.00085182,  0.00132966,  0.00086694,  0.00085464,  0.00084577,\n",
       "         0.00134811,  0.00086451,  0.00083647,  0.00092907,  0.0009254 ,\n",
       "         0.00189724,  0.00227408,  0.00209723,  0.00176735,  0.00132003,\n",
       "         0.00088015,  0.00117159,  0.00105844,  0.00144963,  0.00079465,\n",
       "         0.00082974,  0.00163536,  0.0016326 ,  0.00118294,  0.00091176,\n",
       "         0.00084581,  0.00089211,  0.00089903,  0.0020884 ,  0.00180497,\n",
       "         0.00104356,  0.00101695,  0.00091205,  0.00106883,  0.00116401,\n",
       "         0.00097818,  0.00103164,  0.00097175,  0.00133963,  0.00104604,\n",
       "         0.00159631,  0.00138707,  0.00094805,  0.00243521,  0.001475  ,\n",
       "         0.00095811,  0.00086875,  0.00086937,  0.00091691,  0.00095563,\n",
       "         0.00105147,  0.00090899,  0.00102358,  0.00099616,  0.00094094,\n",
       "         0.0010819 ,  0.00101447]),\n",
       " 'mean_test_score': array([ 0.96      ,  0.96      ,  0.96666667,  0.96666667,  0.95333333,\n",
       "         0.96      ,  0.97333333,  0.96666667,  0.96      ,  0.96      ,\n",
       "         0.97333333,  0.96666667,  0.95333333,  0.95333333,  0.98      ,\n",
       "         0.98      ,  0.97333333,  0.96      ,  0.98      ,  0.98      ,\n",
       "         0.95333333,  0.96      ,  0.96666667,  0.98      ,  0.97333333,\n",
       "         0.96      ,  0.97333333,  0.97333333,  0.97333333,  0.97333333,\n",
       "         0.98      ,  0.98666667,  0.98      ,  0.96666667,  0.98      ,\n",
       "         0.98666667,  0.97333333,  0.96666667,  0.98      ,  0.98666667,\n",
       "         0.97333333,  0.96666667,  0.97333333,  0.98      ,  0.97333333,\n",
       "         0.97333333,  0.96666667,  0.97333333,  0.97333333,  0.97333333,\n",
       "         0.96666667,  0.97333333,  0.96666667,  0.97333333,  0.96666667,\n",
       "         0.97333333,  0.96666667,  0.97333333,  0.96666667,  0.97333333,\n",
       "         0.96666667,  0.97333333,  0.96666667,  0.97333333,  0.97333333,\n",
       "         0.97333333,  0.96666667,  0.97333333,  0.97333333,  0.97333333,\n",
       "         0.96      ,  0.97333333,  0.97333333,  0.97333333,  0.96666667,\n",
       "         0.97333333,  0.96      ,  0.96      ,  0.96      ,  0.97333333,\n",
       "         0.96      ,  0.96666667,  0.96      ,  0.98      ,  0.95333333,\n",
       "         0.96666667,  0.94666667,  0.98      ,  0.96      ,  0.96666667,\n",
       "         0.96      ,  0.96666667,  0.94666667,  0.96      ,  0.94666667,\n",
       "         0.96      ,  0.95333333,  0.96      ,  0.94666667,  0.97333333,\n",
       "         0.96666667,  0.96      ,  0.94      ,  0.96      ,  0.94666667,\n",
       "         0.95333333,  0.93333333,  0.96666667,  0.94      ,  0.95333333,\n",
       "         0.94      ,  0.96      ]),\n",
       " 'mean_train_score': array([ 0.96      ,  1.        ,  0.96      ,  1.        ,  0.95666667,\n",
       "         1.        ,  0.96333333,  1.        ,  0.965     ,  1.        ,\n",
       "         0.97      ,  1.        ,  0.96166667,  1.        ,  0.97333333,\n",
       "         1.        ,  0.96833333,  1.        ,  0.97333333,  1.        ,\n",
       "         0.96333333,  1.        ,  0.98      ,  1.        ,  0.97      ,\n",
       "         1.        ,  0.97833333,  1.        ,  0.96333333,  1.        ,\n",
       "         0.97333333,  1.        ,  0.96      ,  1.        ,  0.975     ,\n",
       "         1.        ,  0.955     ,  1.        ,  0.975     ,  1.        ,\n",
       "         0.96666667,  1.        ,  0.97833333,  1.        ,  0.96333333,\n",
       "         1.        ,  0.97666667,  1.        ,  0.96833333,  1.        ,\n",
       "         0.97666667,  1.        ,  0.96833333,  1.        ,  0.975     ,\n",
       "         1.        ,  0.975     ,  1.        ,  0.975     ,  1.        ,\n",
       "         0.96833333,  1.        ,  0.975     ,  1.        ,  0.97333333,\n",
       "         1.        ,  0.97333333,  1.        ,  0.96666667,  1.        ,\n",
       "         0.96666667,  1.        ,  0.965     ,  1.        ,  0.96833333,\n",
       "         1.        ,  0.96333333,  1.        ,  0.96333333,  1.        ,\n",
       "         0.96166667,  1.        ,  0.96333333,  1.        ,  0.95666667,\n",
       "         1.        ,  0.95666667,  1.        ,  0.95833333,  1.        ,\n",
       "         0.96      ,  1.        ,  0.96      ,  1.        ,  0.955     ,\n",
       "         1.        ,  0.96      ,  1.        ,  0.95666667,  1.        ,\n",
       "         0.96      ,  1.        ,  0.95166667,  1.        ,  0.95666667,\n",
       "         1.        ,  0.95333333,  1.        ,  0.95666667,  1.        ,\n",
       "         0.95      ,  1.        ]),\n",
       " 'param_n_neighbors': masked_array(data = [3 3 3 3 4 4 4 4 5 5 5 5 6 6 6 6 7 7 7 7 8 8 8 8 9 9 9 9 10 10 10 10 11 11\n",
       "  11 11 12 12 12 12 13 13 13 13 14 14 14 14 15 15 15 15 16 16 16 16 17 17 17\n",
       "  17 18 18 18 18 19 19 19 19 20 20 20 20 21 21 21 21 22 22 22 22 23 23 23 23\n",
       "  24 24 24 24 25 25 25 25 26 26 26 26 27 27 27 27 28 28 28 28 29 29 29 29 30\n",
       "  30 30 30],\n",
       "              mask = [False False False False False False False False False False False False\n",
       "  False False False False False False False False False False False False\n",
       "  False False False False False False False False False False False False\n",
       "  False False False False False False False False False False False False\n",
       "  False False False False False False False False False False False False\n",
       "  False False False False False False False False False False False False\n",
       "  False False False False False False False False False False False False\n",
       "  False False False False False False False False False False False False\n",
       "  False False False False False False False False False False False False\n",
       "  False False False False],\n",
       "        fill_value = ?),\n",
       " 'param_p': masked_array(data = [1 1 2 2 1 1 2 2 1 1 2 2 1 1 2 2 1 1 2 2 1 1 2 2 1 1 2 2 1 1 2 2 1 1 2 2 1\n",
       "  1 2 2 1 1 2 2 1 1 2 2 1 1 2 2 1 1 2 2 1 1 2 2 1 1 2 2 1 1 2 2 1 1 2 2 1 1\n",
       "  2 2 1 1 2 2 1 1 2 2 1 1 2 2 1 1 2 2 1 1 2 2 1 1 2 2 1 1 2 2 1 1 2 2 1 1 2\n",
       "  2],\n",
       "              mask = [False False False False False False False False False False False False\n",
       "  False False False False False False False False False False False False\n",
       "  False False False False False False False False False False False False\n",
       "  False False False False False False False False False False False False\n",
       "  False False False False False False False False False False False False\n",
       "  False False False False False False False False False False False False\n",
       "  False False False False False False False False False False False False\n",
       "  False False False False False False False False False False False False\n",
       "  False False False False False False False False False False False False\n",
       "  False False False False],\n",
       "        fill_value = ?),\n",
       " 'param_weights': masked_array(data = ['uniform' 'distance' 'uniform' 'distance' 'uniform' 'distance' 'uniform'\n",
       "  'distance' 'uniform' 'distance' 'uniform' 'distance' 'uniform' 'distance'\n",
       "  'uniform' 'distance' 'uniform' 'distance' 'uniform' 'distance' 'uniform'\n",
       "  'distance' 'uniform' 'distance' 'uniform' 'distance' 'uniform' 'distance'\n",
       "  'uniform' 'distance' 'uniform' 'distance' 'uniform' 'distance' 'uniform'\n",
       "  'distance' 'uniform' 'distance' 'uniform' 'distance' 'uniform' 'distance'\n",
       "  'uniform' 'distance' 'uniform' 'distance' 'uniform' 'distance' 'uniform'\n",
       "  'distance' 'uniform' 'distance' 'uniform' 'distance' 'uniform' 'distance'\n",
       "  'uniform' 'distance' 'uniform' 'distance' 'uniform' 'distance' 'uniform'\n",
       "  'distance' 'uniform' 'distance' 'uniform' 'distance' 'uniform' 'distance'\n",
       "  'uniform' 'distance' 'uniform' 'distance' 'uniform' 'distance' 'uniform'\n",
       "  'distance' 'uniform' 'distance' 'uniform' 'distance' 'uniform' 'distance'\n",
       "  'uniform' 'distance' 'uniform' 'distance' 'uniform' 'distance' 'uniform'\n",
       "  'distance' 'uniform' 'distance' 'uniform' 'distance' 'uniform' 'distance'\n",
       "  'uniform' 'distance' 'uniform' 'distance' 'uniform' 'distance' 'uniform'\n",
       "  'distance' 'uniform' 'distance' 'uniform' 'distance' 'uniform' 'distance'],\n",
       "              mask = [False False False False False False False False False False False False\n",
       "  False False False False False False False False False False False False\n",
       "  False False False False False False False False False False False False\n",
       "  False False False False False False False False False False False False\n",
       "  False False False False False False False False False False False False\n",
       "  False False False False False False False False False False False False\n",
       "  False False False False False False False False False False False False\n",
       "  False False False False False False False False False False False False\n",
       "  False False False False False False False False False False False False\n",
       "  False False False False],\n",
       "        fill_value = ?),\n",
       " 'params': ({'n_neighbors': 3, 'p': 1, 'weights': 'uniform'},\n",
       "  {'n_neighbors': 3, 'p': 1, 'weights': 'distance'},\n",
       "  {'n_neighbors': 3, 'p': 2, 'weights': 'uniform'},\n",
       "  {'n_neighbors': 3, 'p': 2, 'weights': 'distance'},\n",
       "  {'n_neighbors': 4, 'p': 1, 'weights': 'uniform'},\n",
       "  {'n_neighbors': 4, 'p': 1, 'weights': 'distance'},\n",
       "  {'n_neighbors': 4, 'p': 2, 'weights': 'uniform'},\n",
       "  {'n_neighbors': 4, 'p': 2, 'weights': 'distance'},\n",
       "  {'n_neighbors': 5, 'p': 1, 'weights': 'uniform'},\n",
       "  {'n_neighbors': 5, 'p': 1, 'weights': 'distance'},\n",
       "  {'n_neighbors': 5, 'p': 2, 'weights': 'uniform'},\n",
       "  {'n_neighbors': 5, 'p': 2, 'weights': 'distance'},\n",
       "  {'n_neighbors': 6, 'p': 1, 'weights': 'uniform'},\n",
       "  {'n_neighbors': 6, 'p': 1, 'weights': 'distance'},\n",
       "  {'n_neighbors': 6, 'p': 2, 'weights': 'uniform'},\n",
       "  {'n_neighbors': 6, 'p': 2, 'weights': 'distance'},\n",
       "  {'n_neighbors': 7, 'p': 1, 'weights': 'uniform'},\n",
       "  {'n_neighbors': 7, 'p': 1, 'weights': 'distance'},\n",
       "  {'n_neighbors': 7, 'p': 2, 'weights': 'uniform'},\n",
       "  {'n_neighbors': 7, 'p': 2, 'weights': 'distance'},\n",
       "  {'n_neighbors': 8, 'p': 1, 'weights': 'uniform'},\n",
       "  {'n_neighbors': 8, 'p': 1, 'weights': 'distance'},\n",
       "  {'n_neighbors': 8, 'p': 2, 'weights': 'uniform'},\n",
       "  {'n_neighbors': 8, 'p': 2, 'weights': 'distance'},\n",
       "  {'n_neighbors': 9, 'p': 1, 'weights': 'uniform'},\n",
       "  {'n_neighbors': 9, 'p': 1, 'weights': 'distance'},\n",
       "  {'n_neighbors': 9, 'p': 2, 'weights': 'uniform'},\n",
       "  {'n_neighbors': 9, 'p': 2, 'weights': 'distance'},\n",
       "  {'n_neighbors': 10, 'p': 1, 'weights': 'uniform'},\n",
       "  {'n_neighbors': 10, 'p': 1, 'weights': 'distance'},\n",
       "  {'n_neighbors': 10, 'p': 2, 'weights': 'uniform'},\n",
       "  {'n_neighbors': 10, 'p': 2, 'weights': 'distance'},\n",
       "  {'n_neighbors': 11, 'p': 1, 'weights': 'uniform'},\n",
       "  {'n_neighbors': 11, 'p': 1, 'weights': 'distance'},\n",
       "  {'n_neighbors': 11, 'p': 2, 'weights': 'uniform'},\n",
       "  {'n_neighbors': 11, 'p': 2, 'weights': 'distance'},\n",
       "  {'n_neighbors': 12, 'p': 1, 'weights': 'uniform'},\n",
       "  {'n_neighbors': 12, 'p': 1, 'weights': 'distance'},\n",
       "  {'n_neighbors': 12, 'p': 2, 'weights': 'uniform'},\n",
       "  {'n_neighbors': 12, 'p': 2, 'weights': 'distance'},\n",
       "  {'n_neighbors': 13, 'p': 1, 'weights': 'uniform'},\n",
       "  {'n_neighbors': 13, 'p': 1, 'weights': 'distance'},\n",
       "  {'n_neighbors': 13, 'p': 2, 'weights': 'uniform'},\n",
       "  {'n_neighbors': 13, 'p': 2, 'weights': 'distance'},\n",
       "  {'n_neighbors': 14, 'p': 1, 'weights': 'uniform'},\n",
       "  {'n_neighbors': 14, 'p': 1, 'weights': 'distance'},\n",
       "  {'n_neighbors': 14, 'p': 2, 'weights': 'uniform'},\n",
       "  {'n_neighbors': 14, 'p': 2, 'weights': 'distance'},\n",
       "  {'n_neighbors': 15, 'p': 1, 'weights': 'uniform'},\n",
       "  {'n_neighbors': 15, 'p': 1, 'weights': 'distance'},\n",
       "  {'n_neighbors': 15, 'p': 2, 'weights': 'uniform'},\n",
       "  {'n_neighbors': 15, 'p': 2, 'weights': 'distance'},\n",
       "  {'n_neighbors': 16, 'p': 1, 'weights': 'uniform'},\n",
       "  {'n_neighbors': 16, 'p': 1, 'weights': 'distance'},\n",
       "  {'n_neighbors': 16, 'p': 2, 'weights': 'uniform'},\n",
       "  {'n_neighbors': 16, 'p': 2, 'weights': 'distance'},\n",
       "  {'n_neighbors': 17, 'p': 1, 'weights': 'uniform'},\n",
       "  {'n_neighbors': 17, 'p': 1, 'weights': 'distance'},\n",
       "  {'n_neighbors': 17, 'p': 2, 'weights': 'uniform'},\n",
       "  {'n_neighbors': 17, 'p': 2, 'weights': 'distance'},\n",
       "  {'n_neighbors': 18, 'p': 1, 'weights': 'uniform'},\n",
       "  {'n_neighbors': 18, 'p': 1, 'weights': 'distance'},\n",
       "  {'n_neighbors': 18, 'p': 2, 'weights': 'uniform'},\n",
       "  {'n_neighbors': 18, 'p': 2, 'weights': 'distance'},\n",
       "  {'n_neighbors': 19, 'p': 1, 'weights': 'uniform'},\n",
       "  {'n_neighbors': 19, 'p': 1, 'weights': 'distance'},\n",
       "  {'n_neighbors': 19, 'p': 2, 'weights': 'uniform'},\n",
       "  {'n_neighbors': 19, 'p': 2, 'weights': 'distance'},\n",
       "  {'n_neighbors': 20, 'p': 1, 'weights': 'uniform'},\n",
       "  {'n_neighbors': 20, 'p': 1, 'weights': 'distance'},\n",
       "  {'n_neighbors': 20, 'p': 2, 'weights': 'uniform'},\n",
       "  {'n_neighbors': 20, 'p': 2, 'weights': 'distance'},\n",
       "  {'n_neighbors': 21, 'p': 1, 'weights': 'uniform'},\n",
       "  {'n_neighbors': 21, 'p': 1, 'weights': 'distance'},\n",
       "  {'n_neighbors': 21, 'p': 2, 'weights': 'uniform'},\n",
       "  {'n_neighbors': 21, 'p': 2, 'weights': 'distance'},\n",
       "  {'n_neighbors': 22, 'p': 1, 'weights': 'uniform'},\n",
       "  {'n_neighbors': 22, 'p': 1, 'weights': 'distance'},\n",
       "  {'n_neighbors': 22, 'p': 2, 'weights': 'uniform'},\n",
       "  {'n_neighbors': 22, 'p': 2, 'weights': 'distance'},\n",
       "  {'n_neighbors': 23, 'p': 1, 'weights': 'uniform'},\n",
       "  {'n_neighbors': 23, 'p': 1, 'weights': 'distance'},\n",
       "  {'n_neighbors': 23, 'p': 2, 'weights': 'uniform'},\n",
       "  {'n_neighbors': 23, 'p': 2, 'weights': 'distance'},\n",
       "  {'n_neighbors': 24, 'p': 1, 'weights': 'uniform'},\n",
       "  {'n_neighbors': 24, 'p': 1, 'weights': 'distance'},\n",
       "  {'n_neighbors': 24, 'p': 2, 'weights': 'uniform'},\n",
       "  {'n_neighbors': 24, 'p': 2, 'weights': 'distance'},\n",
       "  {'n_neighbors': 25, 'p': 1, 'weights': 'uniform'},\n",
       "  {'n_neighbors': 25, 'p': 1, 'weights': 'distance'},\n",
       "  {'n_neighbors': 25, 'p': 2, 'weights': 'uniform'},\n",
       "  {'n_neighbors': 25, 'p': 2, 'weights': 'distance'},\n",
       "  {'n_neighbors': 26, 'p': 1, 'weights': 'uniform'},\n",
       "  {'n_neighbors': 26, 'p': 1, 'weights': 'distance'},\n",
       "  {'n_neighbors': 26, 'p': 2, 'weights': 'uniform'},\n",
       "  {'n_neighbors': 26, 'p': 2, 'weights': 'distance'},\n",
       "  {'n_neighbors': 27, 'p': 1, 'weights': 'uniform'},\n",
       "  {'n_neighbors': 27, 'p': 1, 'weights': 'distance'},\n",
       "  {'n_neighbors': 27, 'p': 2, 'weights': 'uniform'},\n",
       "  {'n_neighbors': 27, 'p': 2, 'weights': 'distance'},\n",
       "  {'n_neighbors': 28, 'p': 1, 'weights': 'uniform'},\n",
       "  {'n_neighbors': 28, 'p': 1, 'weights': 'distance'},\n",
       "  {'n_neighbors': 28, 'p': 2, 'weights': 'uniform'},\n",
       "  {'n_neighbors': 28, 'p': 2, 'weights': 'distance'},\n",
       "  {'n_neighbors': 29, 'p': 1, 'weights': 'uniform'},\n",
       "  {'n_neighbors': 29, 'p': 1, 'weights': 'distance'},\n",
       "  {'n_neighbors': 29, 'p': 2, 'weights': 'uniform'},\n",
       "  {'n_neighbors': 29, 'p': 2, 'weights': 'distance'},\n",
       "  {'n_neighbors': 30, 'p': 1, 'weights': 'uniform'},\n",
       "  {'n_neighbors': 30, 'p': 1, 'weights': 'distance'},\n",
       "  {'n_neighbors': 30, 'p': 2, 'weights': 'uniform'},\n",
       "  {'n_neighbors': 30, 'p': 2, 'weights': 'distance'}),\n",
       " 'rank_test_score': array([ 74,  74,  50,  50,  96,  74,  16,  50,  74,  74,  16,  50,  96,\n",
       "         96,   4,   4,  16,  74,   4,   4,  96,  74,  50,   4,  16,  74,\n",
       "         16,  16,  16,  16,   4,   1,   4,  50,   4,   1,  16,  50,   4,\n",
       "          1,  16,  50,  16,   4,  16,  16,  50,  16,  16,  16,  50,  16,\n",
       "         50,  16,  50,  16,  50,  16,  50,  16,  50,  16,  50,  16,  16,\n",
       "         16,  50,  16,  16,  16,  74,  16,  16,  16,  50,  16,  74,  74,\n",
       "         74,  16,  74,  50,  74,   4,  96,  50, 104,   4,  74,  50,  74,\n",
       "         50, 104,  74, 104,  74,  96,  74, 104,  16,  50,  74, 109,  74,\n",
       "        104,  96, 112,  50, 109,  96, 109,  74], dtype=int32),\n",
       " 'split0_test_score': array([ 0.96666667,  0.96666667,  0.96666667,  0.96666667,  0.96666667,\n",
       "         0.96666667,  0.96666667,  0.96666667,  0.96666667,  0.96666667,\n",
       "         0.96666667,  0.96666667,  0.96666667,  0.96666667,  0.96666667,\n",
       "         0.96666667,  0.96666667,  0.96666667,  0.96666667,  0.96666667,\n",
       "         0.96666667,  0.96666667,  0.96666667,  0.96666667,  0.96666667,\n",
       "         0.96666667,  0.96666667,  0.96666667,  0.96666667,  0.96666667,\n",
       "         0.96666667,  0.96666667,  0.96666667,  0.96666667,  0.93333333,\n",
       "         0.96666667,  0.96666667,  0.96666667,  0.93333333,  0.96666667,\n",
       "         0.93333333,  0.96666667,  0.93333333,  0.96666667,  0.96666667,\n",
       "         0.96666667,  0.93333333,  0.96666667,  0.96666667,  0.96666667,\n",
       "         0.93333333,  0.96666667,  0.96666667,  0.96666667,  0.93333333,\n",
       "         0.96666667,  0.93333333,  0.96666667,  0.93333333,  0.96666667,\n",
       "         0.93333333,  0.96666667,  0.93333333,  0.96666667,  0.93333333,\n",
       "         0.96666667,  0.93333333,  0.96666667,  0.93333333,  0.96666667,\n",
       "         0.93333333,  0.96666667,  0.93333333,  0.96666667,  0.93333333,\n",
       "         0.96666667,  0.93333333,  0.93333333,  0.93333333,  0.96666667,\n",
       "         0.93333333,  0.96666667,  0.93333333,  0.96666667,  0.93333333,\n",
       "         0.96666667,  0.93333333,  0.96666667,  0.93333333,  0.96666667,\n",
       "         0.93333333,  0.96666667,  0.93333333,  0.96666667,  0.93333333,\n",
       "         0.93333333,  0.93333333,  0.96666667,  0.9       ,  0.96666667,\n",
       "         0.93333333,  0.96666667,  0.9       ,  0.96666667,  0.93333333,\n",
       "         0.96666667,  0.9       ,  0.96666667,  0.93333333,  0.96666667,\n",
       "         0.9       ,  0.96666667]),\n",
       " 'split0_train_score': array([ 0.95833333,  1.        ,  0.95833333,  1.        ,  0.95      ,\n",
       "         1.        ,  0.95833333,  1.        ,  0.95833333,  1.        ,\n",
       "         0.96666667,  1.        ,  0.95833333,  1.        ,  0.96666667,\n",
       "         1.        ,  0.96666667,  1.        ,  0.96666667,  1.        ,\n",
       "         0.95833333,  1.        ,  0.975     ,  1.        ,  0.96666667,\n",
       "         1.        ,  0.975     ,  1.        ,  0.95833333,  1.        ,\n",
       "         0.975     ,  1.        ,  0.96666667,  1.        ,  0.98333333,\n",
       "         1.        ,  0.95833333,  1.        ,  0.98333333,  1.        ,\n",
       "         0.975     ,  1.        ,  0.98333333,  1.        ,  0.96666667,\n",
       "         1.        ,  0.98333333,  1.        ,  0.96666667,  1.        ,\n",
       "         0.98333333,  1.        ,  0.975     ,  1.        ,  0.98333333,\n",
       "         1.        ,  0.975     ,  1.        ,  0.98333333,  1.        ,\n",
       "         0.975     ,  1.        ,  0.98333333,  1.        ,  0.975     ,\n",
       "         1.        ,  0.98333333,  1.        ,  0.96666667,  1.        ,\n",
       "         0.98333333,  1.        ,  0.975     ,  1.        ,  0.96666667,\n",
       "         1.        ,  0.96666667,  1.        ,  0.975     ,  1.        ,\n",
       "         0.96666667,  1.        ,  0.975     ,  1.        ,  0.96666667,\n",
       "         1.        ,  0.975     ,  1.        ,  0.975     ,  1.        ,\n",
       "         0.975     ,  1.        ,  0.95833333,  1.        ,  0.975     ,\n",
       "         1.        ,  0.96666667,  1.        ,  0.96666667,  1.        ,\n",
       "         0.96666667,  1.        ,  0.95      ,  1.        ,  0.96666667,\n",
       "         1.        ,  0.95833333,  1.        ,  0.96666667,  1.        ,\n",
       "         0.95833333,  1.        ]),\n",
       " 'split1_test_score': array([ 0.96666667,  0.96666667,  0.96666667,  0.96666667,  0.96666667,\n",
       "         0.96666667,  0.96666667,  0.96666667,  0.96666667,  0.96666667,\n",
       "         1.        ,  1.        ,  0.96666667,  0.96666667,  1.        ,\n",
       "         1.        ,  1.        ,  0.96666667,  1.        ,  1.        ,\n",
       "         0.96666667,  0.96666667,  1.        ,  1.        ,  1.        ,\n",
       "         0.96666667,  1.        ,  1.        ,  1.        ,  1.        ,\n",
       "         1.        ,  1.        ,  1.        ,  1.        ,  1.        ,\n",
       "         1.        ,  1.        ,  1.        ,  1.        ,  1.        ,\n",
       "         1.        ,  1.        ,  1.        ,  1.        ,  1.        ,\n",
       "         1.        ,  1.        ,  1.        ,  1.        ,  1.        ,\n",
       "         1.        ,  1.        ,  1.        ,  1.        ,  1.        ,\n",
       "         1.        ,  1.        ,  1.        ,  1.        ,  1.        ,\n",
       "         1.        ,  1.        ,  1.        ,  1.        ,  1.        ,\n",
       "         1.        ,  1.        ,  1.        ,  1.        ,  1.        ,\n",
       "         1.        ,  1.        ,  1.        ,  1.        ,  1.        ,\n",
       "         1.        ,  0.96666667,  0.96666667,  1.        ,  1.        ,\n",
       "         0.96666667,  0.96666667,  1.        ,  1.        ,  0.96666667,\n",
       "         0.96666667,  0.96666667,  1.        ,  0.96666667,  0.96666667,\n",
       "         0.96666667,  0.96666667,  0.96666667,  0.96666667,  0.96666667,\n",
       "         0.96666667,  0.96666667,  0.96666667,  0.96666667,  0.96666667,\n",
       "         0.96666667,  0.96666667,  0.96666667,  0.96666667,  0.96666667,\n",
       "         0.96666667,  0.96666667,  0.96666667,  0.96666667,  0.96666667,\n",
       "         0.96666667,  0.96666667]),\n",
       " 'split1_train_score': array([ 0.95833333,  1.        ,  0.95833333,  1.        ,  0.95833333,\n",
       "         1.        ,  0.95833333,  1.        ,  0.96666667,  1.        ,\n",
       "         0.96666667,  1.        ,  0.95833333,  1.        ,  0.975     ,\n",
       "         1.        ,  0.96666667,  1.        ,  0.96666667,  1.        ,\n",
       "         0.975     ,  1.        ,  0.98333333,  1.        ,  0.975     ,\n",
       "         1.        ,  0.98333333,  1.        ,  0.96666667,  1.        ,\n",
       "         0.975     ,  1.        ,  0.95833333,  1.        ,  0.975     ,\n",
       "         1.        ,  0.95      ,  1.        ,  0.975     ,  1.        ,\n",
       "         0.96666667,  1.        ,  0.975     ,  1.        ,  0.95833333,\n",
       "         1.        ,  0.975     ,  1.        ,  0.96666667,  1.        ,\n",
       "         0.975     ,  1.        ,  0.95833333,  1.        ,  0.98333333,\n",
       "         1.        ,  0.975     ,  1.        ,  0.96666667,  1.        ,\n",
       "         0.975     ,  1.        ,  0.98333333,  1.        ,  0.975     ,\n",
       "         1.        ,  0.975     ,  1.        ,  0.975     ,  1.        ,\n",
       "         0.95833333,  1.        ,  0.975     ,  1.        ,  0.975     ,\n",
       "         1.        ,  0.96666667,  1.        ,  0.94166667,  1.        ,\n",
       "         0.96666667,  1.        ,  0.95      ,  1.        ,  0.95      ,\n",
       "         1.        ,  0.94166667,  1.        ,  0.94166667,  1.        ,\n",
       "         0.95      ,  1.        ,  0.95      ,  1.        ,  0.93333333,\n",
       "         1.        ,  0.95      ,  1.        ,  0.94166667,  1.        ,\n",
       "         0.95      ,  1.        ,  0.94166667,  1.        ,  0.94166667,\n",
       "         1.        ,  0.94166667,  1.        ,  0.94166667,  1.        ,\n",
       "         0.93333333,  1.        ]),\n",
       " 'split2_test_score': array([ 0.93333333,  0.93333333,  0.93333333,  0.93333333,  0.93333333,\n",
       "         0.93333333,  0.96666667,  0.93333333,  0.9       ,  0.9       ,\n",
       "         0.93333333,  0.9       ,  0.93333333,  0.9       ,  0.96666667,\n",
       "         0.96666667,  0.96666667,  0.9       ,  0.96666667,  0.96666667,\n",
       "         0.93333333,  0.93333333,  0.93333333,  0.96666667,  0.96666667,\n",
       "         0.9       ,  0.96666667,  0.93333333,  0.96666667,  0.93333333,\n",
       "         1.        ,  1.        ,  0.96666667,  0.9       ,  1.        ,\n",
       "         1.        ,  0.96666667,  0.93333333,  1.        ,  1.        ,\n",
       "         0.96666667,  0.9       ,  0.96666667,  0.96666667,  0.96666667,\n",
       "         0.93333333,  0.96666667,  0.93333333,  0.96666667,  0.93333333,\n",
       "         0.93333333,  0.93333333,  0.96666667,  0.96666667,  0.93333333,\n",
       "         0.93333333,  0.96666667,  0.93333333,  0.93333333,  0.93333333,\n",
       "         0.96666667,  0.93333333,  0.96666667,  0.93333333,  0.96666667,\n",
       "         0.93333333,  0.93333333,  0.93333333,  0.96666667,  0.93333333,\n",
       "         0.93333333,  0.93333333,  0.96666667,  0.93333333,  0.93333333,\n",
       "         0.93333333,  0.96666667,  0.93333333,  0.93333333,  0.93333333,\n",
       "         0.93333333,  0.93333333,  0.93333333,  0.96666667,  0.93333333,\n",
       "         0.93333333,  0.9       ,  0.96666667,  0.93333333,  0.93333333,\n",
       "         0.93333333,  0.93333333,  0.93333333,  0.9       ,  0.93333333,\n",
       "         0.93333333,  0.93333333,  0.93333333,  0.93333333,  0.96666667,\n",
       "         0.96666667,  0.9       ,  0.93333333,  0.9       ,  0.9       ,\n",
       "         0.9       ,  0.9       ,  0.93333333,  0.86666667,  0.9       ,\n",
       "         0.93333333,  0.93333333]),\n",
       " 'split2_train_score': array([ 0.96666667,  1.        ,  0.96666667,  1.        ,  0.95833333,\n",
       "         1.        ,  0.95833333,  1.        ,  0.96666667,  1.        ,\n",
       "         0.975     ,  1.        ,  0.96666667,  1.        ,  0.975     ,\n",
       "         1.        ,  0.975     ,  1.        ,  0.975     ,  1.        ,\n",
       "         0.96666667,  1.        ,  0.975     ,  1.        ,  0.975     ,\n",
       "         1.        ,  0.975     ,  1.        ,  0.975     ,  1.        ,\n",
       "         0.975     ,  1.        ,  0.975     ,  1.        ,  0.975     ,\n",
       "         1.        ,  0.975     ,  1.        ,  0.975     ,  1.        ,\n",
       "         0.975     ,  1.        ,  0.975     ,  1.        ,  0.975     ,\n",
       "         1.        ,  0.975     ,  1.        ,  0.975     ,  1.        ,\n",
       "         0.98333333,  1.        ,  0.975     ,  1.        ,  0.975     ,\n",
       "         1.        ,  0.98333333,  1.        ,  0.98333333,  1.        ,\n",
       "         0.975     ,  1.        ,  0.975     ,  1.        ,  0.98333333,\n",
       "         1.        ,  0.975     ,  1.        ,  0.975     ,  1.        ,\n",
       "         0.975     ,  1.        ,  0.96666667,  1.        ,  0.975     ,\n",
       "         1.        ,  0.96666667,  1.        ,  0.95833333,  1.        ,\n",
       "         0.96666667,  1.        ,  0.95833333,  1.        ,  0.95833333,\n",
       "         1.        ,  0.95833333,  1.        ,  0.96666667,  1.        ,\n",
       "         0.96666667,  1.        ,  0.975     ,  1.        ,  0.96666667,\n",
       "         1.        ,  0.96666667,  1.        ,  0.96666667,  1.        ,\n",
       "         0.96666667,  1.        ,  0.95833333,  1.        ,  0.96666667,\n",
       "         1.        ,  0.95833333,  1.        ,  0.95833333,  1.        ,\n",
       "         0.95833333,  1.        ]),\n",
       " 'split3_test_score': array([ 0.93333333,  0.93333333,  0.96666667,  0.96666667,  0.9       ,\n",
       "         0.93333333,  0.96666667,  0.96666667,  0.96666667,  0.96666667,\n",
       "         0.96666667,  0.96666667,  0.9       ,  0.93333333,  0.96666667,\n",
       "         0.96666667,  0.93333333,  0.96666667,  0.96666667,  0.96666667,\n",
       "         0.9       ,  0.93333333,  0.93333333,  0.96666667,  0.93333333,\n",
       "         0.96666667,  0.93333333,  0.96666667,  0.93333333,  0.96666667,\n",
       "         0.93333333,  0.96666667,  0.96666667,  0.96666667,  0.96666667,\n",
       "         0.96666667,  0.93333333,  0.93333333,  0.96666667,  0.96666667,\n",
       "         0.96666667,  0.96666667,  0.96666667,  0.96666667,  0.93333333,\n",
       "         0.96666667,  0.93333333,  0.96666667,  0.93333333,  0.96666667,\n",
       "         0.96666667,  0.96666667,  0.9       ,  0.93333333,  0.96666667,\n",
       "         0.96666667,  0.93333333,  0.96666667,  0.96666667,  0.96666667,\n",
       "         0.93333333,  0.96666667,  0.93333333,  0.96666667,  0.96666667,\n",
       "         0.96666667,  0.96666667,  0.96666667,  0.96666667,  0.96666667,\n",
       "         0.93333333,  0.96666667,  0.96666667,  0.96666667,  0.96666667,\n",
       "         0.96666667,  0.93333333,  0.96666667,  0.93333333,  0.96666667,\n",
       "         0.96666667,  0.96666667,  0.93333333,  0.96666667,  0.93333333,\n",
       "         0.96666667,  0.93333333,  0.96666667,  0.96666667,  0.96666667,\n",
       "         0.96666667,  0.96666667,  0.9       ,  0.96666667,  0.9       ,\n",
       "         0.96666667,  0.93333333,  0.93333333,  0.93333333,  0.96666667,\n",
       "         0.96666667,  0.96666667,  0.9       ,  0.96666667,  0.93333333,\n",
       "         0.93333333,  0.9       ,  0.96666667,  0.93333333,  0.93333333,\n",
       "         0.9       ,  0.93333333]),\n",
       " 'split3_train_score': array([ 0.96666667,  1.        ,  0.96666667,  1.        ,  0.96666667,\n",
       "         1.        ,  0.975     ,  1.        ,  0.975     ,  1.        ,\n",
       "         0.975     ,  1.        ,  0.975     ,  1.        ,  0.98333333,\n",
       "         1.        ,  0.975     ,  1.        ,  0.98333333,  1.        ,\n",
       "         0.96666667,  1.        ,  0.99166667,  1.        ,  0.98333333,\n",
       "         1.        ,  0.98333333,  1.        ,  0.975     ,  1.        ,\n",
       "         0.98333333,  1.        ,  0.96666667,  1.        ,  0.975     ,\n",
       "         1.        ,  0.96666667,  1.        ,  0.98333333,  1.        ,\n",
       "         0.975     ,  1.        ,  0.98333333,  1.        ,  0.975     ,\n",
       "         1.        ,  0.98333333,  1.        ,  0.975     ,  1.        ,\n",
       "         0.975     ,  1.        ,  0.98333333,  1.        ,  0.98333333,\n",
       "         1.        ,  0.98333333,  1.        ,  0.98333333,  1.        ,\n",
       "         0.975     ,  1.        ,  0.98333333,  1.        ,  0.98333333,\n",
       "         1.        ,  0.98333333,  1.        ,  0.96666667,  1.        ,\n",
       "         0.975     ,  1.        ,  0.96666667,  1.        ,  0.975     ,\n",
       "         1.        ,  0.96666667,  1.        ,  0.99166667,  1.        ,\n",
       "         0.95833333,  1.        ,  0.98333333,  1.        ,  0.95833333,\n",
       "         1.        ,  0.975     ,  1.        ,  0.95833333,  1.        ,\n",
       "         0.96666667,  1.        ,  0.96666667,  1.        ,  0.96666667,\n",
       "         1.        ,  0.975     ,  1.        ,  0.96666667,  1.        ,\n",
       "         0.96666667,  1.        ,  0.96666667,  1.        ,  0.95833333,\n",
       "         1.        ,  0.96666667,  1.        ,  0.96666667,  1.        ,\n",
       "         0.96666667,  1.        ]),\n",
       " 'split4_test_score': array([ 1.,  1.,  1.,  1.,  1.,  1.,  1.,  1.,  1.,  1.,  1.,  1.,  1.,\n",
       "         1.,  1.,  1.,  1.,  1.,  1.,  1.,  1.,  1.,  1.,  1.,  1.,  1.,\n",
       "         1.,  1.,  1.,  1.,  1.,  1.,  1.,  1.,  1.,  1.,  1.,  1.,  1.,\n",
       "         1.,  1.,  1.,  1.,  1.,  1.,  1.,  1.,  1.,  1.,  1.,  1.,  1.,\n",
       "         1.,  1.,  1.,  1.,  1.,  1.,  1.,  1.,  1.,  1.,  1.,  1.,  1.,\n",
       "         1.,  1.,  1.,  1.,  1.,  1.,  1.,  1.,  1.,  1.,  1.,  1.,  1.,\n",
       "         1.,  1.,  1.,  1.,  1.,  1.,  1.,  1.,  1.,  1.,  1.,  1.,  1.,\n",
       "         1.,  1.,  1.,  1.,  1.,  1.,  1.,  1.,  1.,  1.,  1.,  1.,  1.,\n",
       "         1.,  1.,  1.,  1.,  1.,  1.,  1.,  1.]),\n",
       " 'split4_train_score': array([ 0.95      ,  1.        ,  0.95      ,  1.        ,  0.95      ,\n",
       "         1.        ,  0.96666667,  1.        ,  0.95833333,  1.        ,\n",
       "         0.96666667,  1.        ,  0.95      ,  1.        ,  0.96666667,\n",
       "         1.        ,  0.95833333,  1.        ,  0.975     ,  1.        ,\n",
       "         0.95      ,  1.        ,  0.975     ,  1.        ,  0.95      ,\n",
       "         1.        ,  0.975     ,  1.        ,  0.94166667,  1.        ,\n",
       "         0.95833333,  1.        ,  0.93333333,  1.        ,  0.96666667,\n",
       "         1.        ,  0.925     ,  1.        ,  0.95833333,  1.        ,\n",
       "         0.94166667,  1.        ,  0.975     ,  1.        ,  0.94166667,\n",
       "         1.        ,  0.96666667,  1.        ,  0.95833333,  1.        ,\n",
       "         0.96666667,  1.        ,  0.95      ,  1.        ,  0.95      ,\n",
       "         1.        ,  0.95833333,  1.        ,  0.95833333,  1.        ,\n",
       "         0.94166667,  1.        ,  0.95      ,  1.        ,  0.95      ,\n",
       "         1.        ,  0.95      ,  1.        ,  0.95      ,  1.        ,\n",
       "         0.94166667,  1.        ,  0.94166667,  1.        ,  0.95      ,\n",
       "         1.        ,  0.95      ,  1.        ,  0.95      ,  1.        ,\n",
       "         0.95      ,  1.        ,  0.95      ,  1.        ,  0.95      ,\n",
       "         1.        ,  0.93333333,  1.        ,  0.95      ,  1.        ,\n",
       "         0.94166667,  1.        ,  0.95      ,  1.        ,  0.93333333,\n",
       "         1.        ,  0.94166667,  1.        ,  0.94166667,  1.        ,\n",
       "         0.95      ,  1.        ,  0.94166667,  1.        ,  0.95      ,\n",
       "         1.        ,  0.94166667,  1.        ,  0.95      ,  1.        ,\n",
       "         0.93333333,  1.        ]),\n",
       " 'std_fit_time': array([  1.48975604e-04,   2.86295746e-04,   2.28126222e-04,\n",
       "          1.98034232e-04,   1.21641767e-04,   1.44767746e-04,\n",
       "          1.76080190e-04,   9.01907453e-05,   6.55176685e-05,\n",
       "          8.63692816e-05,   6.82335479e-05,   7.86543724e-05,\n",
       "          1.20269895e-03,   1.19212761e-04,   2.28521411e-04,\n",
       "          1.20641874e-04,   3.72473269e-04,   1.02407771e-04,\n",
       "          1.26253063e-04,   1.31137033e-04,   9.57701525e-05,\n",
       "          7.66723013e-05,   5.23569371e-05,   4.50844427e-05,\n",
       "          8.82755020e-05,   1.04877794e-04,   1.17927083e-04,\n",
       "          4.03187177e-05,   2.61067364e-05,   5.12671133e-05,\n",
       "          5.34583157e-05,   3.38713515e-05,   5.10136719e-04,\n",
       "          3.86482756e-04,   4.97910315e-04,   5.97807683e-03,\n",
       "          3.18886524e-04,   8.91309019e-04,   1.18536443e-04,\n",
       "          9.90494834e-03,   2.25845499e-03,   5.64881392e-04,\n",
       "          6.67435199e-04,   1.76071914e-03,   1.53074648e-03,\n",
       "          1.51291421e-04,   4.64130863e-05,   4.53297228e-04,\n",
       "          7.47054249e-05,   1.58734599e-04,   3.85658984e-05,\n",
       "          1.59122492e-03,   8.50154519e-05,   1.01476997e-04,\n",
       "          3.34284954e-05,   1.56222216e-05,   6.45498038e-05,\n",
       "          1.17048770e-04,   3.70189665e-05,   4.72906121e-05,\n",
       "          1.23182461e-04,   3.41679695e-05,   1.69668256e-04,\n",
       "          4.51535835e-05,   2.88612953e-05,   9.87928343e-05,\n",
       "          5.36580076e-04,   3.28643261e-04,   1.85082339e-04,\n",
       "          1.34748343e-04,   3.25433588e-05,   1.39423907e-04,\n",
       "          8.93817739e-05,   1.68283906e-04,   1.41677668e-04,\n",
       "          5.82874867e-05,   2.37086197e-04,   1.89734398e-04,\n",
       "          1.09750202e-04,   3.53086888e-05,   8.57298842e-05,\n",
       "          1.43998506e-05,   1.56471234e-04,   3.26256869e-04,\n",
       "          1.59542359e-04,   1.13118860e-04,   1.66449407e-04,\n",
       "          3.42382362e-05,   7.79684310e-05,   1.15343114e-04,\n",
       "          1.18291892e-04,   1.05848978e-04,   3.73103062e-05,\n",
       "          9.51582283e-05,   9.52768611e-05,   1.33860466e-03,\n",
       "          1.60728077e-04,   1.39074444e-04,   1.18159475e-03,\n",
       "          1.76322015e-04,   1.15464461e-04,   2.47883786e-05,\n",
       "          7.62384332e-05,   6.72117832e-05,   8.89298104e-05,\n",
       "          6.11621683e-05,   4.81146414e-05,   7.79207944e-05,\n",
       "          6.16872125e-05,   3.68220187e-05,   4.41064319e-05,\n",
       "          1.12328747e-04]),\n",
       " 'std_score_time': array([  1.90418577e-04,   2.56262572e-03,   4.40824809e-04,\n",
       "          2.99670451e-04,   2.44264348e-04,   9.95412844e-05,\n",
       "          1.11018307e-03,   3.55500935e-04,   7.67708713e-05,\n",
       "          1.96597040e-04,   1.95838675e-04,   4.21182993e-04,\n",
       "          6.47410953e-04,   7.69744860e-05,   4.03530037e-04,\n",
       "          3.99337652e-04,   2.95918917e-04,   2.65562613e-04,\n",
       "          1.52349778e-04,   2.60611448e-04,   3.73786064e-04,\n",
       "          1.38124211e-04,   1.08937767e-04,   1.14344357e-04,\n",
       "          8.15980542e-05,   5.31137080e-04,   3.99249263e-04,\n",
       "          1.91487971e-05,   3.77414126e-05,   9.48820158e-05,\n",
       "          1.59664734e-04,   1.63780577e-04,   8.51296912e-04,\n",
       "          4.19757310e-03,   3.88251447e-03,   8.17175427e-03,\n",
       "          1.14397563e-02,   8.73932171e-04,   2.14110466e-02,\n",
       "          7.07397562e-03,   6.04543345e-04,   1.89037010e-03,\n",
       "          6.57103542e-03,   1.01812888e-03,   1.83011160e-03,\n",
       "          3.05119323e-04,   1.08616660e-04,   1.63259815e-03,\n",
       "          1.15251512e-04,   2.67513661e-04,   2.21110506e-04,\n",
       "          2.77035273e-04,   1.45944003e-04,   1.69212208e-04,\n",
       "          1.00783501e-04,   5.61440876e-05,   1.01979226e-03,\n",
       "          1.70000800e-04,   1.36430736e-04,   1.04965452e-04,\n",
       "          5.88397782e-04,   6.36549924e-05,   1.09982323e-04,\n",
       "          2.09457223e-04,   1.62562215e-04,   1.17905422e-03,\n",
       "          1.45179418e-03,   2.67843324e-04,   1.56057500e-03,\n",
       "          2.57427711e-04,   4.54375023e-05,   2.67927879e-04,\n",
       "          1.87181672e-04,   2.96456430e-04,   1.35276693e-04,\n",
       "          9.46120386e-05,   6.44417350e-04,   4.30645220e-04,\n",
       "          3.26356443e-04,   5.67603287e-05,   8.52609107e-05,\n",
       "          4.26374551e-05,   7.49421162e-05,   1.27114586e-03,\n",
       "          1.54114525e-03,   2.16845492e-04,   1.31448066e-04,\n",
       "          4.84187222e-05,   1.91896004e-04,   2.00154202e-04,\n",
       "          1.37334350e-04,   1.43561486e-04,   1.14861787e-04,\n",
       "          4.15937113e-04,   1.61827221e-04,   6.44787602e-04,\n",
       "          3.41186613e-04,   8.59067633e-05,   1.75816076e-03,\n",
       "          2.86885564e-04,   1.55409167e-04,   6.06173130e-05,\n",
       "          9.00167777e-05,   1.58208677e-04,   2.25782641e-04,\n",
       "          2.65588854e-04,   1.80233004e-04,   2.46077608e-04,\n",
       "          3.20035162e-04,   1.26454176e-04,   2.33527726e-04,\n",
       "          1.28480142e-04]),\n",
       " 'std_test_score': array([ 0.02494438,  0.02494438,  0.02108185,  0.02108185,  0.03399346,\n",
       "         0.02494438,  0.01333333,  0.02108185,  0.03265986,  0.03265986,\n",
       "         0.02494438,  0.03651484,  0.03399346,  0.03399346,  0.01632993,\n",
       "         0.01632993,  0.02494438,  0.03265986,  0.01632993,  0.01632993,\n",
       "         0.03399346,  0.02494438,  0.02981424,  0.01632993,  0.02494438,\n",
       "         0.03265986,  0.02494438,  0.02494438,  0.02494438,  0.02494438,\n",
       "         0.02666667,  0.01632993,  0.01632993,  0.03651484,  0.02666667,\n",
       "         0.01632993,  0.02494438,  0.02981424,  0.02666667,  0.01632993,\n",
       "         0.02494438,  0.03651484,  0.02494438,  0.01632993,  0.02494438,\n",
       "         0.02494438,  0.02981424,  0.02494438,  0.02494438,  0.02494438,\n",
       "         0.02981424,  0.02494438,  0.03651484,  0.02494438,  0.02981424,\n",
       "         0.02494438,  0.02981424,  0.02494438,  0.02981424,  0.02494438,\n",
       "         0.02981424,  0.02494438,  0.02981424,  0.02494438,  0.02494438,\n",
       "         0.02494438,  0.02981424,  0.02494438,  0.02494438,  0.02494438,\n",
       "         0.03265986,  0.02494438,  0.02494438,  0.02494438,  0.02981424,\n",
       "         0.02494438,  0.02494438,  0.02494438,  0.03265986,  0.02494438,\n",
       "         0.02494438,  0.02108185,  0.03265986,  0.01632993,  0.02666667,\n",
       "         0.02108185,  0.03399346,  0.01632993,  0.02494438,  0.02108185,\n",
       "         0.02494438,  0.02108185,  0.03399346,  0.03265986,  0.03399346,\n",
       "         0.02494438,  0.02666667,  0.02494438,  0.03399346,  0.01333333,\n",
       "         0.02108185,  0.03265986,  0.03887301,  0.03265986,  0.03399346,\n",
       "         0.03399346,  0.0421637 ,  0.02108185,  0.04422166,  0.03399346,\n",
       "         0.03887301,  0.02494438]),\n",
       " 'std_train_score': array([ 0.0062361 ,  0.        ,  0.0062361 ,  0.        ,  0.0062361 ,\n",
       "         0.        ,  0.00666667,  0.        ,  0.0062361 ,  0.        ,\n",
       "         0.00408248,  0.        ,  0.00849837,  0.        ,  0.0062361 ,\n",
       "         0.        ,  0.0062361 ,  0.        ,  0.0062361 ,  0.        ,\n",
       "         0.00849837,  0.        ,  0.00666667,  0.        ,  0.01130388,\n",
       "         0.        ,  0.00408248,  0.        ,  0.01247219,  0.        ,\n",
       "         0.00816497,  0.        ,  0.01433721,  0.        ,  0.00527046,\n",
       "         0.        ,  0.01715938,  0.        ,  0.00912871,  0.        ,\n",
       "         0.01290994,  0.        ,  0.00408248,  0.        ,  0.01247219,\n",
       "         0.        ,  0.0062361 ,  0.        ,  0.0062361 ,  0.        ,\n",
       "         0.0062361 ,  0.        ,  0.01224745,  0.        ,  0.01290994,\n",
       "         0.        ,  0.00912871,  0.        ,  0.01054093,  0.        ,\n",
       "         0.01333333,  0.        ,  0.01290994,  0.        ,  0.01224745,\n",
       "         0.        ,  0.01224745,  0.        ,  0.00912871,  0.        ,\n",
       "         0.01490712,  0.        ,  0.01224745,  0.        ,  0.00971825,\n",
       "         0.        ,  0.00666667,  0.        ,  0.01795055,  0.        ,\n",
       "         0.00666667,  0.        ,  0.01354006,  0.        ,  0.0062361 ,\n",
       "         0.        ,  0.01699673,  0.        ,  0.01178511,  0.        ,\n",
       "         0.01224745,  0.        ,  0.00971825,  0.        ,  0.01795055,\n",
       "         0.        ,  0.01224745,  0.        ,  0.01224745,  0.        ,\n",
       "         0.00816497,  0.        ,  0.00971825,  0.        ,  0.00971825,\n",
       "         0.        ,  0.01      ,  0.        ,  0.00971825,  0.        ,\n",
       "         0.01394433,  0.        ])}"
      ]
     },
     "execution_count": 78,
     "metadata": {},
     "output_type": "execute_result"
    }
   ],
   "source": [
    "grid_param2 = [{'weights': ['uniform', 'distance'], 'n_neighbors': range(3, 31), 'p': [1, 2]}]\n",
    "para_search2 = GridSearchCV(knn, grid_param2, scoring='accuracy', cv=5)\n",
    "para_search2.fit(iris.data, iris.target)\n",
    "para_search2.cv_results_"
   ]
  },
  {
   "cell_type": "code",
   "execution_count": 79,
   "metadata": {
    "collapsed": false
   },
   "outputs": [
    {
     "name": "stderr",
     "output_type": "stream",
     "text": [
      "/Users/rheineke/anaconda3/lib/python3.6/site-packages/sklearn/model_selection/_search.py:667: DeprecationWarning: The grid_scores_ attribute was deprecated in version 0.18 in favor of the more elaborate cv_results_ attribute. The grid_scores_ attribute will not be available from 0.20\n",
      "  DeprecationWarning)\n"
     ]
    },
    {
     "data": {
      "text/plain": [
       "[mean: 0.96000, std: 0.02494, params: {'n_neighbors': 3, 'p': 1, 'weights': 'uniform'},\n",
       " mean: 0.96000, std: 0.02494, params: {'n_neighbors': 3, 'p': 1, 'weights': 'distance'},\n",
       " mean: 0.96667, std: 0.02108, params: {'n_neighbors': 3, 'p': 2, 'weights': 'uniform'},\n",
       " mean: 0.96667, std: 0.02108, params: {'n_neighbors': 3, 'p': 2, 'weights': 'distance'},\n",
       " mean: 0.95333, std: 0.03399, params: {'n_neighbors': 4, 'p': 1, 'weights': 'uniform'},\n",
       " mean: 0.96000, std: 0.02494, params: {'n_neighbors': 4, 'p': 1, 'weights': 'distance'},\n",
       " mean: 0.97333, std: 0.01333, params: {'n_neighbors': 4, 'p': 2, 'weights': 'uniform'},\n",
       " mean: 0.96667, std: 0.02108, params: {'n_neighbors': 4, 'p': 2, 'weights': 'distance'},\n",
       " mean: 0.96000, std: 0.03266, params: {'n_neighbors': 5, 'p': 1, 'weights': 'uniform'},\n",
       " mean: 0.96000, std: 0.03266, params: {'n_neighbors': 5, 'p': 1, 'weights': 'distance'},\n",
       " mean: 0.97333, std: 0.02494, params: {'n_neighbors': 5, 'p': 2, 'weights': 'uniform'},\n",
       " mean: 0.96667, std: 0.03651, params: {'n_neighbors': 5, 'p': 2, 'weights': 'distance'},\n",
       " mean: 0.95333, std: 0.03399, params: {'n_neighbors': 6, 'p': 1, 'weights': 'uniform'},\n",
       " mean: 0.95333, std: 0.03399, params: {'n_neighbors': 6, 'p': 1, 'weights': 'distance'},\n",
       " mean: 0.98000, std: 0.01633, params: {'n_neighbors': 6, 'p': 2, 'weights': 'uniform'},\n",
       " mean: 0.98000, std: 0.01633, params: {'n_neighbors': 6, 'p': 2, 'weights': 'distance'},\n",
       " mean: 0.97333, std: 0.02494, params: {'n_neighbors': 7, 'p': 1, 'weights': 'uniform'},\n",
       " mean: 0.96000, std: 0.03266, params: {'n_neighbors': 7, 'p': 1, 'weights': 'distance'},\n",
       " mean: 0.98000, std: 0.01633, params: {'n_neighbors': 7, 'p': 2, 'weights': 'uniform'},\n",
       " mean: 0.98000, std: 0.01633, params: {'n_neighbors': 7, 'p': 2, 'weights': 'distance'},\n",
       " mean: 0.95333, std: 0.03399, params: {'n_neighbors': 8, 'p': 1, 'weights': 'uniform'},\n",
       " mean: 0.96000, std: 0.02494, params: {'n_neighbors': 8, 'p': 1, 'weights': 'distance'},\n",
       " mean: 0.96667, std: 0.02981, params: {'n_neighbors': 8, 'p': 2, 'weights': 'uniform'},\n",
       " mean: 0.98000, std: 0.01633, params: {'n_neighbors': 8, 'p': 2, 'weights': 'distance'},\n",
       " mean: 0.97333, std: 0.02494, params: {'n_neighbors': 9, 'p': 1, 'weights': 'uniform'},\n",
       " mean: 0.96000, std: 0.03266, params: {'n_neighbors': 9, 'p': 1, 'weights': 'distance'},\n",
       " mean: 0.97333, std: 0.02494, params: {'n_neighbors': 9, 'p': 2, 'weights': 'uniform'},\n",
       " mean: 0.97333, std: 0.02494, params: {'n_neighbors': 9, 'p': 2, 'weights': 'distance'},\n",
       " mean: 0.97333, std: 0.02494, params: {'n_neighbors': 10, 'p': 1, 'weights': 'uniform'},\n",
       " mean: 0.97333, std: 0.02494, params: {'n_neighbors': 10, 'p': 1, 'weights': 'distance'},\n",
       " mean: 0.98000, std: 0.02667, params: {'n_neighbors': 10, 'p': 2, 'weights': 'uniform'},\n",
       " mean: 0.98667, std: 0.01633, params: {'n_neighbors': 10, 'p': 2, 'weights': 'distance'},\n",
       " mean: 0.98000, std: 0.01633, params: {'n_neighbors': 11, 'p': 1, 'weights': 'uniform'},\n",
       " mean: 0.96667, std: 0.03651, params: {'n_neighbors': 11, 'p': 1, 'weights': 'distance'},\n",
       " mean: 0.98000, std: 0.02667, params: {'n_neighbors': 11, 'p': 2, 'weights': 'uniform'},\n",
       " mean: 0.98667, std: 0.01633, params: {'n_neighbors': 11, 'p': 2, 'weights': 'distance'},\n",
       " mean: 0.97333, std: 0.02494, params: {'n_neighbors': 12, 'p': 1, 'weights': 'uniform'},\n",
       " mean: 0.96667, std: 0.02981, params: {'n_neighbors': 12, 'p': 1, 'weights': 'distance'},\n",
       " mean: 0.98000, std: 0.02667, params: {'n_neighbors': 12, 'p': 2, 'weights': 'uniform'},\n",
       " mean: 0.98667, std: 0.01633, params: {'n_neighbors': 12, 'p': 2, 'weights': 'distance'},\n",
       " mean: 0.97333, std: 0.02494, params: {'n_neighbors': 13, 'p': 1, 'weights': 'uniform'},\n",
       " mean: 0.96667, std: 0.03651, params: {'n_neighbors': 13, 'p': 1, 'weights': 'distance'},\n",
       " mean: 0.97333, std: 0.02494, params: {'n_neighbors': 13, 'p': 2, 'weights': 'uniform'},\n",
       " mean: 0.98000, std: 0.01633, params: {'n_neighbors': 13, 'p': 2, 'weights': 'distance'},\n",
       " mean: 0.97333, std: 0.02494, params: {'n_neighbors': 14, 'p': 1, 'weights': 'uniform'},\n",
       " mean: 0.97333, std: 0.02494, params: {'n_neighbors': 14, 'p': 1, 'weights': 'distance'},\n",
       " mean: 0.96667, std: 0.02981, params: {'n_neighbors': 14, 'p': 2, 'weights': 'uniform'},\n",
       " mean: 0.97333, std: 0.02494, params: {'n_neighbors': 14, 'p': 2, 'weights': 'distance'},\n",
       " mean: 0.97333, std: 0.02494, params: {'n_neighbors': 15, 'p': 1, 'weights': 'uniform'},\n",
       " mean: 0.97333, std: 0.02494, params: {'n_neighbors': 15, 'p': 1, 'weights': 'distance'},\n",
       " mean: 0.96667, std: 0.02981, params: {'n_neighbors': 15, 'p': 2, 'weights': 'uniform'},\n",
       " mean: 0.97333, std: 0.02494, params: {'n_neighbors': 15, 'p': 2, 'weights': 'distance'},\n",
       " mean: 0.96667, std: 0.03651, params: {'n_neighbors': 16, 'p': 1, 'weights': 'uniform'},\n",
       " mean: 0.97333, std: 0.02494, params: {'n_neighbors': 16, 'p': 1, 'weights': 'distance'},\n",
       " mean: 0.96667, std: 0.02981, params: {'n_neighbors': 16, 'p': 2, 'weights': 'uniform'},\n",
       " mean: 0.97333, std: 0.02494, params: {'n_neighbors': 16, 'p': 2, 'weights': 'distance'},\n",
       " mean: 0.96667, std: 0.02981, params: {'n_neighbors': 17, 'p': 1, 'weights': 'uniform'},\n",
       " mean: 0.97333, std: 0.02494, params: {'n_neighbors': 17, 'p': 1, 'weights': 'distance'},\n",
       " mean: 0.96667, std: 0.02981, params: {'n_neighbors': 17, 'p': 2, 'weights': 'uniform'},\n",
       " mean: 0.97333, std: 0.02494, params: {'n_neighbors': 17, 'p': 2, 'weights': 'distance'},\n",
       " mean: 0.96667, std: 0.02981, params: {'n_neighbors': 18, 'p': 1, 'weights': 'uniform'},\n",
       " mean: 0.97333, std: 0.02494, params: {'n_neighbors': 18, 'p': 1, 'weights': 'distance'},\n",
       " mean: 0.96667, std: 0.02981, params: {'n_neighbors': 18, 'p': 2, 'weights': 'uniform'},\n",
       " mean: 0.97333, std: 0.02494, params: {'n_neighbors': 18, 'p': 2, 'weights': 'distance'},\n",
       " mean: 0.97333, std: 0.02494, params: {'n_neighbors': 19, 'p': 1, 'weights': 'uniform'},\n",
       " mean: 0.97333, std: 0.02494, params: {'n_neighbors': 19, 'p': 1, 'weights': 'distance'},\n",
       " mean: 0.96667, std: 0.02981, params: {'n_neighbors': 19, 'p': 2, 'weights': 'uniform'},\n",
       " mean: 0.97333, std: 0.02494, params: {'n_neighbors': 19, 'p': 2, 'weights': 'distance'},\n",
       " mean: 0.97333, std: 0.02494, params: {'n_neighbors': 20, 'p': 1, 'weights': 'uniform'},\n",
       " mean: 0.97333, std: 0.02494, params: {'n_neighbors': 20, 'p': 1, 'weights': 'distance'},\n",
       " mean: 0.96000, std: 0.03266, params: {'n_neighbors': 20, 'p': 2, 'weights': 'uniform'},\n",
       " mean: 0.97333, std: 0.02494, params: {'n_neighbors': 20, 'p': 2, 'weights': 'distance'},\n",
       " mean: 0.97333, std: 0.02494, params: {'n_neighbors': 21, 'p': 1, 'weights': 'uniform'},\n",
       " mean: 0.97333, std: 0.02494, params: {'n_neighbors': 21, 'p': 1, 'weights': 'distance'},\n",
       " mean: 0.96667, std: 0.02981, params: {'n_neighbors': 21, 'p': 2, 'weights': 'uniform'},\n",
       " mean: 0.97333, std: 0.02494, params: {'n_neighbors': 21, 'p': 2, 'weights': 'distance'},\n",
       " mean: 0.96000, std: 0.02494, params: {'n_neighbors': 22, 'p': 1, 'weights': 'uniform'},\n",
       " mean: 0.96000, std: 0.02494, params: {'n_neighbors': 22, 'p': 1, 'weights': 'distance'},\n",
       " mean: 0.96000, std: 0.03266, params: {'n_neighbors': 22, 'p': 2, 'weights': 'uniform'},\n",
       " mean: 0.97333, std: 0.02494, params: {'n_neighbors': 22, 'p': 2, 'weights': 'distance'},\n",
       " mean: 0.96000, std: 0.02494, params: {'n_neighbors': 23, 'p': 1, 'weights': 'uniform'},\n",
       " mean: 0.96667, std: 0.02108, params: {'n_neighbors': 23, 'p': 1, 'weights': 'distance'},\n",
       " mean: 0.96000, std: 0.03266, params: {'n_neighbors': 23, 'p': 2, 'weights': 'uniform'},\n",
       " mean: 0.98000, std: 0.01633, params: {'n_neighbors': 23, 'p': 2, 'weights': 'distance'},\n",
       " mean: 0.95333, std: 0.02667, params: {'n_neighbors': 24, 'p': 1, 'weights': 'uniform'},\n",
       " mean: 0.96667, std: 0.02108, params: {'n_neighbors': 24, 'p': 1, 'weights': 'distance'},\n",
       " mean: 0.94667, std: 0.03399, params: {'n_neighbors': 24, 'p': 2, 'weights': 'uniform'},\n",
       " mean: 0.98000, std: 0.01633, params: {'n_neighbors': 24, 'p': 2, 'weights': 'distance'},\n",
       " mean: 0.96000, std: 0.02494, params: {'n_neighbors': 25, 'p': 1, 'weights': 'uniform'},\n",
       " mean: 0.96667, std: 0.02108, params: {'n_neighbors': 25, 'p': 1, 'weights': 'distance'},\n",
       " mean: 0.96000, std: 0.02494, params: {'n_neighbors': 25, 'p': 2, 'weights': 'uniform'},\n",
       " mean: 0.96667, std: 0.02108, params: {'n_neighbors': 25, 'p': 2, 'weights': 'distance'},\n",
       " mean: 0.94667, std: 0.03399, params: {'n_neighbors': 26, 'p': 1, 'weights': 'uniform'},\n",
       " mean: 0.96000, std: 0.03266, params: {'n_neighbors': 26, 'p': 1, 'weights': 'distance'},\n",
       " mean: 0.94667, std: 0.03399, params: {'n_neighbors': 26, 'p': 2, 'weights': 'uniform'},\n",
       " mean: 0.96000, std: 0.02494, params: {'n_neighbors': 26, 'p': 2, 'weights': 'distance'},\n",
       " mean: 0.95333, std: 0.02667, params: {'n_neighbors': 27, 'p': 1, 'weights': 'uniform'},\n",
       " mean: 0.96000, std: 0.02494, params: {'n_neighbors': 27, 'p': 1, 'weights': 'distance'},\n",
       " mean: 0.94667, std: 0.03399, params: {'n_neighbors': 27, 'p': 2, 'weights': 'uniform'},\n",
       " mean: 0.97333, std: 0.01333, params: {'n_neighbors': 27, 'p': 2, 'weights': 'distance'},\n",
       " mean: 0.96667, std: 0.02108, params: {'n_neighbors': 28, 'p': 1, 'weights': 'uniform'},\n",
       " mean: 0.96000, std: 0.03266, params: {'n_neighbors': 28, 'p': 1, 'weights': 'distance'},\n",
       " mean: 0.94000, std: 0.03887, params: {'n_neighbors': 28, 'p': 2, 'weights': 'uniform'},\n",
       " mean: 0.96000, std: 0.03266, params: {'n_neighbors': 28, 'p': 2, 'weights': 'distance'},\n",
       " mean: 0.94667, std: 0.03399, params: {'n_neighbors': 29, 'p': 1, 'weights': 'uniform'},\n",
       " mean: 0.95333, std: 0.03399, params: {'n_neighbors': 29, 'p': 1, 'weights': 'distance'},\n",
       " mean: 0.93333, std: 0.04216, params: {'n_neighbors': 29, 'p': 2, 'weights': 'uniform'},\n",
       " mean: 0.96667, std: 0.02108, params: {'n_neighbors': 29, 'p': 2, 'weights': 'distance'},\n",
       " mean: 0.94000, std: 0.04422, params: {'n_neighbors': 30, 'p': 1, 'weights': 'uniform'},\n",
       " mean: 0.95333, std: 0.03399, params: {'n_neighbors': 30, 'p': 1, 'weights': 'distance'},\n",
       " mean: 0.94000, std: 0.03887, params: {'n_neighbors': 30, 'p': 2, 'weights': 'uniform'},\n",
       " mean: 0.96000, std: 0.02494, params: {'n_neighbors': 30, 'p': 2, 'weights': 'distance'}]"
      ]
     },
     "execution_count": 79,
     "metadata": {},
     "output_type": "execute_result"
    }
   ],
   "source": [
    "para_search2.grid_scores_"
   ]
  },
  {
   "cell_type": "code",
   "execution_count": 80,
   "metadata": {
    "collapsed": false
   },
   "outputs": [
    {
     "name": "stdout",
     "output_type": "stream",
     "text": [
      "{'n_neighbors': 10, 'p': 2, 'weights': 'distance'}\n",
      "0.986666666667\n"
     ]
    }
   ],
   "source": [
    "print(para_search2.best_params_)\n",
    "print(para_search2.best_score_)"
   ]
  },
  {
   "cell_type": "markdown",
   "metadata": {},
   "source": [
    "This time the best model is a weighted KNN with 10 neighbors and euclidean distance.\n",
    "\n",
    "Try to use cross validation and grid search to fit a better KNN model on the Digit Recognizer Compitition.\n"
   ]
  },
  {
   "cell_type": "markdown",
   "metadata": {},
   "source": [
    "<p><a name=\"validation_curves\"></a></p>\n",
    "## Validation Curves\n",
    "- Grid search is the appropriate way to optimize multiple hyperparameters simultaneously \n",
    "- Validation curves do not replace grid search, but they can show the influence of any one hyperparameter on the model fit\n",
    "\n",
    "Show the validation curve of the number of neighbors for **KNN**:"
   ]
  },
  {
   "cell_type": "code",
   "execution_count": 81,
   "metadata": {
    "collapsed": false
   },
   "outputs": [],
   "source": [
    "from sklearn.model_selection import validation_curve\n",
    "param_range = range(3, 31)\n",
    "kwargs = dict(param_name='n_neighbors', param_range=param_range)\n",
    "train_scores, test_scores = validation_curve(knn, iris.data, iris.target, **kwargs)\n",
    "train_scores_mean = np.mean(train_scores, axis=1)\n",
    "train_scores_std = np.std(train_scores, axis=1)\n",
    "test_scores_mean = np.mean(test_scores, axis=1)\n",
    "test_scores_std = np.std(test_scores, axis=1)\n"
   ]
  },
  {
   "cell_type": "code",
   "execution_count": 82,
   "metadata": {
    "collapsed": false
   },
   "outputs": [
    {
     "data": {
      "image/png": "[encoded data removed]",
      "text/plain": [
       "<matplotlib.figure.Figure at 0x117ead438>"
      ]
     },
     "metadata": {},
     "output_type": "display_data"
    }
   ],
   "source": [
    "# Train mean and standard deviation\n",
    "train_color = \"darkorange\"\n",
    "plt.plot(param_range, train_scores_mean, color=train_color)\n",
    "train_y1 = train_scores_mean - train_scores_std\n",
    "train_y2 = train_scores_mean + train_scores_std\n",
    "plt.fill_between(param_range, y1=train_y1, y2=train_y2, color=train_color, alpha=0.2)\n",
    "\n",
    "# Test mean and standard deviation\n",
    "test_color = \"navy\"\n",
    "plt.plot(param_range, test_scores_mean)\n",
    "test_y1 = test_scores_mean - test_scores_std\n",
    "test_y2 = test_scores_mean + test_scores_std\n",
    "plt.fill_between(param_range, y1=test_y1, y2=test_y2, color=test_color, alpha=0.2)\n",
    "plt.show()"
   ]
  },
  {
   "cell_type": "markdown",
   "metadata": {},
   "source": [
    "<p><a name=\"ref\"></a></p>\n",
    "## Reference\n",
    "\n",
    "- [Homepage of sklearn](http://scikit-learn.org/)\n",
    "\n",
    "- [An Introduction to Statistical Learning](http://www-bcf.usc.edu/~gareth/ISL/)\n",
    "\n",
    "- [Python Machine Learning by Sebastian Raschka](https://www.packtpub.com/big-data-and-business-intelligence/python-machine-learning)"
   ]
  },
  {
   "cell_type": "code",
   "execution_count": null,
   "metadata": {
    "collapsed": true
   },
   "outputs": [],
   "source": []
  }
 ],
 "metadata": {
  "kernelspec": {
   "display_name": "Python 3",
   "language": "python",
   "name": "python3"
  },
  "language_info": {
   "codemirror_mode": {
    "name": "ipython",
    "version": 3
   },
   "file_extension": ".py",
   "mimetype": "text/x-python",
   "name": "python",
   "nbconvert_exporter": "python",
   "pygments_lexer": "ipython3",
   "version": "3.6.0"
  }
 },
 "nbformat": 4,
 "nbformat_minor": 0
}
