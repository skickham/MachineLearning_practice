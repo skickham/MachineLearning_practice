{
 "cells": [
  {
   "cell_type": "markdown",
   "metadata": {},
   "source": [
    "### TensorFlow basics"
   ]
  },
  {
   "cell_type": "code",
   "execution_count": 1,
   "metadata": {
    "collapsed": true
   },
   "outputs": [],
   "source": [
    "import tensorflow as tf\n",
    "import numpy as np\n",
    "import time"
   ]
  },
  {
   "cell_type": "markdown",
   "metadata": {},
   "source": [
    "---\n",
    "The fundamental objects we have in tensorflow are **graphs** and **sessions**."
   ]
  },
  {
   "cell_type": "code",
   "execution_count": 2,
   "metadata": {
    "collapsed": false
   },
   "outputs": [
    {
     "name": "stdout",
     "output_type": "stream",
     "text": [
      "66\n"
     ]
    }
   ],
   "source": [
    "graph = tf.Graph()\n",
    "with graph.as_default():\n",
    "    a = tf.Variable(60)\n",
    "    b = tf.Variable(6)\n",
    "\n",
    "with tf.Session(graph=graph) as session:\n",
    "    tf.global_variables_initializer().run()\n",
    "    print tf.add(a, b).eval()"
   ]
  },
  {
   "cell_type": "markdown",
   "metadata": {},
   "source": [
    "---\n",
    "We can avoid explicitly create a graph if there is only one graph involved, but we always need to specify the session:"
   ]
  },
  {
   "cell_type": "code",
   "execution_count": 3,
   "metadata": {
    "collapsed": false
   },
   "outputs": [
    {
     "name": "stdout",
     "output_type": "stream",
     "text": [
      "77\n"
     ]
    }
   ],
   "source": [
    "with tf.Session() as session:\n",
    "    c = tf.Variable(70)\n",
    "    d = tf.Variable(7)\n",
    "    tf.global_variables_initializer().run()\n",
    "    print tf.add(c, d).eval()"
   ]
  },
  {
   "cell_type": "markdown",
   "metadata": {},
   "source": [
    "This can some times be inconvenient. For example, all the statements have to be in the same session clause:"
   ]
  },
  {
   "cell_type": "code",
   "execution_count": 4,
   "metadata": {
    "collapsed": false
   },
   "outputs": [
    {
     "name": "stdout",
     "output_type": "stream",
     "text": [
      "If you leave the session at a point\n",
      "You can't go back\n"
     ]
    }
   ],
   "source": [
    "with tf.Session() as session:\n",
    "    c = tf.Variable(70)\n",
    "    d = tf.Variable(7)\n",
    "    tf.global_variables_initializer().run()\n",
    "\n",
    "print 'If you leave the session at a point'\n",
    "\n",
    "try:\n",
    "    print tf.add(c, d).eval()\n",
    "except Exception as e:\n",
    "    print \"You can't go back\""
   ]
  },
  {
   "cell_type": "markdown",
   "metadata": {},
   "source": [
    "---\n",
    "One solution is to create a session object:"
   ]
  },
  {
   "cell_type": "code",
   "execution_count": 5,
   "metadata": {
    "collapsed": false
   },
   "outputs": [
    {
     "name": "stdout",
     "output_type": "stream",
     "text": [
      "88\n"
     ]
    }
   ],
   "source": [
    "sess = tf.Session()\n",
    "i = tf.Variable(80)\n",
    "j = tf.Variable(8)\n",
    "sess.run(tf.global_variables_initializer())\n",
    "print tf.add(i, j).eval(session = sess)"
   ]
  },
  {
   "cell_type": "code",
   "execution_count": 6,
   "metadata": {
    "collapsed": true
   },
   "outputs": [],
   "source": [
    "sess.close()"
   ]
  },
  {
   "cell_type": "markdown",
   "metadata": {},
   "source": [
    "The `InteractiveSession` allows less typing (notice that we don't need `session = sess` or `sess.run`)"
   ]
  },
  {
   "cell_type": "code",
   "execution_count": 7,
   "metadata": {
    "collapsed": false
   },
   "outputs": [
    {
     "name": "stdout",
     "output_type": "stream",
     "text": [
      "99\n"
     ]
    }
   ],
   "source": [
    "sess = tf.InteractiveSession()\n",
    "k = tf.Variable(90)\n",
    "l = tf.Variable(9)\n",
    "tf.global_variables_initializer().run()\n",
    "print tf.add(k, l).eval()\n",
    "sess.close()"
   ]
  },
  {
   "cell_type": "markdown",
   "metadata": {},
   "source": [
    "### MNIST dataset\n",
    "\n",
    "A very popular toyset to demonstrate neural network is the mnist dataset. The dataset and the description can be found at <a href=http://yann.lecun.com/exdb/mnist/>Yann LeCun's website</a>. The package tensorflow also provide a function to load the dataset:"
   ]
  },
  {
   "cell_type": "code",
   "execution_count": 8,
   "metadata": {
    "collapsed": false
   },
   "outputs": [
    {
     "name": "stdout",
     "output_type": "stream",
     "text": [
      "Extracting MNIST_data/train-images-idx3-ubyte.gz\n",
      "Extracting MNIST_data/train-labels-idx1-ubyte.gz\n",
      "Extracting MNIST_data/t10k-images-idx3-ubyte.gz\n",
      "Extracting MNIST_data/t10k-labels-idx1-ubyte.gz\n"
     ]
    }
   ],
   "source": [
    "from tensorflow.examples.tutorials.mnist import input_data\n",
    "mnist = input_data.read_data_sets(\"MNIST_data/\", one_hot=True)"
   ]
  },
  {
   "cell_type": "code",
   "execution_count": null,
   "metadata": {
    "collapsed": true
   },
   "outputs": [],
   "source": [
    "dir(mnist)"
   ]
  },
  {
   "cell_type": "code",
   "execution_count": 10,
   "metadata": {
    "collapsed": false
   },
   "outputs": [
    {
     "name": "stdout",
     "output_type": "stream",
     "text": [
      "The size of the training input: (55000, 784)\n",
      "The size of the training label: (55000, 10)\n"
     ]
    }
   ],
   "source": [
    "print 'The size of the training input:', mnist.train.images.shape\n",
    "print 'The size of the training label:', mnist.train.labels.shape"
   ]
  },
  {
   "cell_type": "markdown",
   "metadata": {},
   "source": [
    "The validation and the test sets can be loaded in the same way.\n",
    "\n",
    "Below we demo a convenient way to save your data:"
   ]
  },
  {
   "cell_type": "code",
   "execution_count": 11,
   "metadata": {
    "collapsed": true
   },
   "outputs": [],
   "source": [
    "from six.moves import cPickle as pickle"
   ]
  },
  {
   "cell_type": "code",
   "execution_count": 12,
   "metadata": {
    "collapsed": true
   },
   "outputs": [],
   "source": [
    "set_filename = './saved_data.pkl'\n",
    "to_be_saved = {'images': mnist.train.images,\n",
    "               'labels': mnist.train.labels}\n",
    "\n",
    "with open(set_filename, 'wb') as f:\n",
    "    pickle.dump(to_be_saved, f, pickle.HIGHEST_PROTOCOL)"
   ]
  },
  {
   "cell_type": "code",
   "execution_count": 13,
   "metadata": {
    "collapsed": true
   },
   "outputs": [],
   "source": [
    "pickle_file = './saved_data.pkl'\n",
    "\n",
    "with open(pickle_file, 'rb') as f:\n",
    "    loaded_data = pickle.load(f)\n",
    "\n",
    "images = loaded_data['images']\n",
    "labels = loaded_data['labels']"
   ]
  },
  {
   "cell_type": "markdown",
   "metadata": {},
   "source": [
    "### A simple logistic regression\n",
    "\n",
    "Let's start with a **logistic regression** on a simple dataset. Below we visualize this toy dataset:"
   ]
  },
  {
   "cell_type": "code",
   "execution_count": 9,
   "metadata": {
    "collapsed": false
   },
   "outputs": [
    {
     "data": {
      "text/plain": [
       "<matplotlib.collections.PathCollection at 0x11d8ddad0>"
      ]
     },
     "execution_count": 9,
     "metadata": {},
     "output_type": "execute_result"
    },
    {
     "data": {
      "image/png": "[encoded data removed]",
      "text/plain": [
       "<matplotlib.figure.Figure at 0x11b8779d0>"
      ]
     },
     "metadata": {},
     "output_type": "display_data"
    }
   ],
   "source": [
    "x_train = np.array(sorted(np.random.rand(400)*6)).reshape(-1, 1)\n",
    "y_train = np.array([1]*100+[0]*200 + [1]*100).reshape(-1,1)\n",
    "\n",
    "import matplotlib.pyplot as plt\n",
    "%matplotlib inline\n",
    "color  = map(lambda x: 'b' if x==0 else 'r', y_train)\n",
    "plt.scatter(x_train, y_train, s=5, alpha=0.3, color= color)"
   ]
  },
  {
   "cell_type": "markdown",
   "metadata": {},
   "source": [
    "Let's inspect the result from `sklearn`:"
   ]
  },
  {
   "cell_type": "code",
   "execution_count": 10,
   "metadata": {
    "collapsed": false
   },
   "outputs": [
    {
     "data": {
      "text/plain": [
       "[<matplotlib.lines.Line2D at 0x11b877510>]"
      ]
     },
     "execution_count": 10,
     "metadata": {},
     "output_type": "execute_result"
    },
    {
     "data": {
      "image/png": "[encoded data removed]",
      "text/plain": [
       "<matplotlib.figure.Figure at 0x10e71c690>"
      ]
     },
     "metadata": {},
     "output_type": "display_data"
    }
   ],
   "source": [
    "from sklearn import linear_model\n",
    "logit = linear_model.LogisticRegression(C = 1e8)\n",
    "logit.fit(x_train, y_train)\n",
    "probability = logit.predict_proba(x_train)\n",
    "\n",
    "plt.scatter(x_train, y_train, s=5, alpha=0.3, color= color)\n",
    "plt.plot(x_train, probability[:,0], c='k')"
   ]
  },
  {
   "cell_type": "markdown",
   "metadata": {},
   "source": [
    "---\n",
    "\n",
    "Below we implement logistic regression with tensorflow. Here is the formula how logistic regression generates probability\n",
    "\n",
    "<img src = https://s3-us-west-2.amazonaws.com/nycdatasciecneipynb/logistic.png height=200 width = 300>\n",
    "\n",
    "\n",
    "\n",
    "\n",
    "Below pay attention to \n",
    "\n",
    "- the TensorFlow data types: **`constant`** and **`Variable`**.\n",
    "- the **`forword propagation`** and the **`backpropagation`**."
   ]
  },
  {
   "cell_type": "code",
   "execution_count": 11,
   "metadata": {
    "collapsed": false
   },
   "outputs": [],
   "source": [
    "sess = tf.InteractiveSession()\n",
    "\n",
    "x = tf.constant(x_train, dtype=tf.float32)\n",
    "y = tf.constant(y_train, dtype=tf.float32)\n",
    "w = tf.Variable(tf.truncated_normal([1,1], stddev=0.1))\n",
    "b = tf.Variable(tf.constant(0.1, shape=[1,1]))\n",
    "\n",
    "\n",
    "y_lin = tf.add(tf.matmul(x, w), b)\n",
    "log_likelihood = tf.reduce_mean(y_lin*y - tf.log(1+tf.exp(y_lin)), 0)\n",
    "loss = -1*log_likelihood ### We may simply use the Python operators as well\n",
    "train_step = tf.train.GradientDescentOptimizer(0.1).minimize(loss)\n",
    "\n",
    "steps = 200\n",
    "tf.global_variables_initializer().run()\n",
    "for i in range(steps):\n",
    "    train_step.run()"
   ]
  },
  {
   "cell_type": "markdown",
   "metadata": {},
   "source": [
    "The logloss we implemented above is:\n",
    "\n",
    "<img src = https://s3-us-west-2.amazonaws.com/nycdatasciecneipynb/log_loss.png height=270 width = 450>\n",
    "\n",
    "<br>\n",
    "\n",
    "Since what we implemented here is nothing but the logistic regression. The result is as bad as the one from `sklearn`."
   ]
  },
  {
   "cell_type": "code",
   "execution_count": 12,
   "metadata": {
    "collapsed": false
   },
   "outputs": [
    {
     "data": {
      "image/png": "[encoded data removed]",
      "text/plain": [
       "<matplotlib.figure.Figure at 0x11d92f3d0>"
      ]
     },
     "metadata": {},
     "output_type": "display_data"
    }
   ],
   "source": [
    "prob = tf.nn.sigmoid(y_lin).eval()\n",
    "plt.scatter(x_train, y_train, s=5, alpha=0.3, color= color)\n",
    "plt.plot(x_train, prob, c='k')\n",
    "sess.close()"
   ]
  },
  {
   "cell_type": "markdown",
   "metadata": {},
   "source": [
    "---\n",
    "\n",
    "Let's add one hidden layer.\n",
    "\n",
    "<img src = https://s3-us-west-2.amazonaws.com/nycdatasciecneipynb/first_hidden.png height=200 width = 300>\n",
    "<br/>\n",
    "Define the row vector \n",
    "\n",
    "$$w_1 = (\\alpha^1, \\alpha^2) \\ \\text{ and } \\ b_1 = (\\beta^1, \\beta^2),$$\n",
    "\n",
    "we may write the \"formula\" above with matrix notation:\n",
    "<br/>\n",
    "<img src = https://s3-us-west-2.amazonaws.com/nycdatasciecneipynb/first_hidden_2.png height=250 width = 375>\n",
    "<br/>\n",
    "Then we aggregate the two first layer prediction, to make a new one:\n",
    "<br/>\n",
    "<img src = https://s3-us-west-2.amazonaws.com/nycdatasciecneipynb/second_layer.png height=250 width = 375>"
   ]
  },
  {
   "cell_type": "code",
   "execution_count": 13,
   "metadata": {
    "collapsed": false
   },
   "outputs": [],
   "source": [
    "sess = tf.InteractiveSession()\n",
    "\n",
    "x = tf.constant(x_train, dtype=tf.float32)\n",
    "y = tf.constant(y_train, dtype=tf.float32)\n",
    "w_1 = tf.Variable(tf.truncated_normal([1,2], stddev=0.1))\n",
    "b_1 = tf.Variable(tf.constant(0.1, shape=[1,2]))\n",
    "hidden = tf.nn.sigmoid(tf.add(tf.matmul(x, w_1), b_1))\n",
    "w_2 = tf.Variable(tf.truncated_normal([2,1], stddev=0.1))\n",
    "b_2 = tf.Variable(tf.constant(0.1, shape=[1,1]))\n",
    "y_lin = tf.add(tf.matmul(hidden, w_2), b_2)\n",
    "loss = -1*tf.reduce_mean(y_lin*y - tf.log(1+tf.exp(y_lin)), 0)\n",
    "train_step = tf.train.GradientDescentOptimizer(0.1).minimize(loss)\n",
    "\n",
    "steps = 20000\n",
    "tf.global_variables_initializer().run()\n",
    "for i in range(steps):\n",
    "    train_step.run()"
   ]
  },
  {
   "cell_type": "markdown",
   "metadata": {},
   "source": [
    "The result becomes much better!"
   ]
  },
  {
   "cell_type": "code",
   "execution_count": 14,
   "metadata": {
    "collapsed": false
   },
   "outputs": [
    {
     "data": {
      "text/plain": [
       "[<matplotlib.lines.Line2D at 0x12a34b9d0>]"
      ]
     },
     "execution_count": 14,
     "metadata": {},
     "output_type": "execute_result"
    },
    {
     "data": {
      "image/png": "[encoded data removed]",
      "text/plain": [
       "<matplotlib.figure.Figure at 0x12a34b090>"
      ]
     },
     "metadata": {},
     "output_type": "display_data"
    }
   ],
   "source": [
    "prob = tf.nn.sigmoid(y_lin).eval()\n",
    "plt.scatter(x_train, y_train, s=5, alpha=0.3, color= color)\n",
    "plt.plot(x_train, prob, c='k')"
   ]
  },
  {
   "cell_type": "markdown",
   "metadata": {},
   "source": [
    "Below we visualize how the second layer uses the result from the first layer."
   ]
  },
  {
   "cell_type": "code",
   "execution_count": 15,
   "metadata": {
    "collapsed": false,
    "scrolled": true
   },
   "outputs": [
    {
     "data": {
      "image/png": "[encoded data removed]",
      "text/plain": [
       "<matplotlib.figure.Figure at 0x11da09f50>"
      ]
     },
     "metadata": {},
     "output_type": "display_data"
    }
   ],
   "source": [
    "plt.scatter(x_train, y_train, s=5, alpha=0.3, color= color)\n",
    "pts = np.linspace(0,6,800)\n",
    "b = b_1.eval()\n",
    "w = w_1.eval()\n",
    "\n",
    "def sigmoid(x):\n",
    "    x = tf.constant(x, dtype=tf.float32)\n",
    "    result = tf.nn.sigmoid(x).eval()\n",
    "    return result\n",
    "\n",
    "curve1 = sigmoid(b[0,0] + w[0,0]*pts)\n",
    "curve2 = sigmoid(b[0,1] + w[0,1]*pts)\n",
    "plt.plot(pts, curve1,'g')\n",
    "plt.plot(pts, curve2,'y')\n",
    "sess.close()"
   ]
  },
  {
   "cell_type": "markdown",
   "metadata": {},
   "source": [
    "It would be better to put everything together:"
   ]
  },
  {
   "cell_type": "code",
   "execution_count": 16,
   "metadata": {
    "collapsed": false
   },
   "outputs": [],
   "source": [
    "class One_layer_of_size_two(object):\n",
    "    def __init__(self):\n",
    "        self.__w1 = None\n",
    "        self.__b1 = None\n",
    "        self.__w2 = None\n",
    "        self.__b1 = None\n",
    "        \n",
    "    def __initialize_model(self, x_train, y_train):\n",
    "        x = tf.constant(x_train, dtype=tf.float32)\n",
    "        y = tf.constant(y_train, dtype=tf.float32)\n",
    "        w_1 = tf.Variable(tf.truncated_normal([1,2], stddev=0.1))\n",
    "        b_1 = tf.Variable(tf.constant(0.1, shape=[1,2]))\n",
    "        hidden = tf.nn.sigmoid(tf.add(tf.matmul(x, w_1), b_1))\n",
    "        w_2 = tf.Variable(tf.truncated_normal([2,1], stddev=0.1))\n",
    "        b_2 = tf.Variable(tf.constant(0.1, shape=[1,1]))\n",
    "        y_lin = tf.add(tf.matmul(hidden, w_2), b_2)\n",
    "        loss = -1*tf.reduce_mean(y_lin*y - tf.log(1+tf.exp(y_lin)), 0)\n",
    "        tf.global_variables_initializer().run()\n",
    "        train_step = tf.train.GradientDescentOptimizer(0.1).minimize(loss)\n",
    "        return train_step, w_1, b_1, w_2, b_2\n",
    "        \n",
    "    def fit(self, x_train, y_train, steps=20000):\n",
    "        train_step, w_1, b_1, w_2, b_2 = self.__initialize_model(x_train, y_train)\n",
    "        tf.global_variables_initializer().run()\n",
    "        for i in range(steps):\n",
    "            train_step.run()\n",
    "            \n",
    "        self.__w1 = w_1.eval()\n",
    "        self.__b1 = b_1.eval()\n",
    "        self.__w2 = w_2.eval()\n",
    "        self.__b2 = b_2.eval()\n",
    "    \n",
    "    def __sigmoid(self, x):\n",
    "        x = tf.constant(x, dtype=tf.float32)\n",
    "        result = tf.nn.sigmoid(x).eval()\n",
    "        return result\n",
    "        \n",
    "    def predict_prob(self, x_train):\n",
    "        w1 = self.__w1\n",
    "        b1 = self.__b1\n",
    "        w2 = self.__w2\n",
    "        b2 = self.__b2\n",
    "        y_lin = np.dot(self.__sigmoid(np.dot(x_train, w1)+b1), w2)+b2\n",
    "        return self.__sigmoid(y_lin)\n",
    "    \n",
    "    @property\n",
    "    def w1(self):\n",
    "        return self.__w1\n",
    "    \n",
    "    @property\n",
    "    def b1(self):\n",
    "        return self.__b1\n",
    "    \n",
    "    @property\n",
    "    def w2(self):\n",
    "        return self.__w2\n",
    "    \n",
    "    @property\n",
    "    def b2(self):\n",
    "        return self.__b2"
   ]
  },
  {
   "cell_type": "markdown",
   "metadata": {},
   "source": [
    "Our goal is to be able to work as in `sklearn`:"
   ]
  },
  {
   "cell_type": "code",
   "execution_count": 18,
   "metadata": {
    "collapsed": false
   },
   "outputs": [
    {
     "data": {
      "image/png": "[encoded data removed]",
      "text/plain": [
       "<matplotlib.figure.Figure at 0x12b762b50>"
      ]
     },
     "metadata": {},
     "output_type": "display_data"
    }
   ],
   "source": [
    "sess = tf.InteractiveSession()\n",
    "nn = One_layer_of_size_two()\n",
    "nn.fit(x_train, y_train)\n",
    "prob = nn.predict_prob(x_train)\n",
    "plt.scatter(x_train, y_train, s=5, alpha=0.3, color= color)\n",
    "plt.plot(x_train, prob, c='k')\n",
    "\n",
    "### Keep in mind that there is a session that we need to close\n",
    "sess.close()"
   ]
  },
  {
   "cell_type": "markdown",
   "metadata": {},
   "source": [
    "**Exercise**: Implement random initialization to the class."
   ]
  },
  {
   "cell_type": "markdown",
   "metadata": {},
   "source": [
    "---\n",
    "\n",
    "\n",
    "### The MNIST dataset:\n",
    "\n",
    "We need to make the code more general, so it's flexible with \n",
    "- amount of observations\n",
    "- amount of features\n",
    "- amount of labels\n",
    "\n",
    "**Note:** Below we no longer implement `predict_prob`, instead we implement `predict`."
   ]
  },
  {
   "cell_type": "code",
   "execution_count": 19,
   "metadata": {
    "collapsed": true
   },
   "outputs": [],
   "source": [
    "images = mnist.train.images\n",
    "labels = mnist.train.labels"
   ]
  },
  {
   "cell_type": "code",
   "execution_count": 20,
   "metadata": {
    "collapsed": true
   },
   "outputs": [],
   "source": [
    "class One_layer(object):\n",
    "    def __init__(self, size_hidden=2):\n",
    "        self.__w1 = None\n",
    "        self.__b1 = None\n",
    "        self.__w2 = None\n",
    "        self.__b1 = None\n",
    "        self.__size_hidden = size_hidden\n",
    "        \n",
    "    def __initialize_model(self, x_train, y_train):\n",
    "        num_observations= x_train.shape[0]\n",
    "        num_features   = x_train.shape[1]\n",
    "        num_labels     = y_train.shape[1]\n",
    "        size_hidden    = self.__size_hidden\n",
    "        \n",
    "        x = tf.constant(x_train, dtype=tf.float32)\n",
    "        y = tf.constant(y_train, dtype=tf.float32)\n",
    "        w_1 = tf.Variable(tf.truncated_normal([num_features, size_hidden], stddev=0.1))\n",
    "        b_1 = tf.Variable(tf.constant(0.1, shape=[1, size_hidden]))\n",
    "        hidden = tf.nn.sigmoid(tf.add(tf.matmul(x, w_1), b_1))\n",
    "        w_2 = tf.Variable(tf.truncated_normal([size_hidden, num_labels], stddev=0.1))\n",
    "        b_2 = tf.Variable(tf.constant(0.1, shape=[1,num_labels]))\n",
    "        y_lin = tf.add(tf.matmul(hidden, w_2), b_2)\n",
    "        \n",
    "        cross_entropy = tf.reduce_mean(tf.nn.softmax_cross_entropy_with_logits(logits=y_lin, labels=y))\n",
    "        \n",
    "        #tf.global_variables_initializer().run()\n",
    "        train_step = tf.train.GradientDescentOptimizer(0.1).minimize(cross_entropy)\n",
    "        return train_step, w_1, b_1, w_2, b_2\n",
    "        \n",
    "    def fit(self, x_train, y_train, steps=20000):\n",
    "        train_step, w_1, b_1, w_2, b_2 = self.__initialize_model(x_train, y_train)\n",
    "        tf.global_variables_initializer().run()\n",
    "        for i in range(steps):\n",
    "            train_step.run()\n",
    "            \n",
    "        self.__w1 = w_1.eval()\n",
    "        self.__b1 = b_1.eval()\n",
    "        self.__w2 = w_2.eval()\n",
    "        self.__b2 = b_2.eval()\n",
    "    \n",
    "    def __sigmoid(self, x):\n",
    "        x = tf.constant(x, dtype=tf.float32)\n",
    "        result = tf.nn.sigmoid(x).eval()\n",
    "        return result\n",
    "        \n",
    "    def predict(self, x_train):\n",
    "        w1 = self.__w1\n",
    "        b1 = self.__b1\n",
    "        w2 = self.__w2\n",
    "        b2 = self.__b2\n",
    "        y_lin = np.dot(self.__sigmoid(np.dot(x_train, w1)+b1), w2)+b2\n",
    "        return tf.argmax(y_lin, 1).eval()\n",
    "        \n",
    "    \n",
    "    @property\n",
    "    def w1(self):\n",
    "        return self.__w1\n",
    "    \n",
    "    @property\n",
    "    def b1(self):\n",
    "        return self.__b1\n",
    "    \n",
    "    @property\n",
    "    def w2(self):\n",
    "        return self.__w2\n",
    "    \n",
    "    @property\n",
    "    def b2(self):\n",
    "        return self.__b2"
   ]
  },
  {
   "cell_type": "code",
   "execution_count": 21,
   "metadata": {
    "collapsed": false
   },
   "outputs": [
    {
     "name": "stdout",
     "output_type": "stream",
     "text": [
      "Accuracy:  0.445690909091\n",
      "Time elapsed:  54.1670110226\n"
     ]
    }
   ],
   "source": [
    "start = time.time()\n",
    "sess = tf.InteractiveSession()\n",
    "nn = One_layer(size_hidden=10)\n",
    "nn.fit(images, labels, steps=200)\n",
    "predict = nn.predict(images)\n",
    "print 'Accuracy: ', np.mean(predict == np.argmax(labels, 1))\n",
    "print 'Time elapsed: ', time.time() - start\n",
    "sess.close()"
   ]
  },
  {
   "cell_type": "markdown",
   "metadata": {},
   "source": [
    "We saw the accuracy is less than 60%. One thing we might want to do is to increase the steps, but it is likely to be very slow. Below we introduce the concept of batch, where we need another TensorFlow type: **`placeholder`**."
   ]
  },
  {
   "cell_type": "code",
   "execution_count": 22,
   "metadata": {
    "collapsed": true
   },
   "outputs": [],
   "source": [
    "class One_layer_batch(object):\n",
    "    def __init__(self, size_hidden=2):\n",
    "        self.__w1 = None\n",
    "        self.__b1 = None\n",
    "        self.__w2 = None\n",
    "        self.__b1 = None\n",
    "        self.__size_hidden = size_hidden\n",
    "        \n",
    "    def __initialize_model(self, x_train, y_train):\n",
    "        num_observations= x_train.shape[0]\n",
    "        num_features   = x_train.shape[1]\n",
    "        num_labels     = y_train.shape[1]\n",
    "        size_hidden    = self.__size_hidden\n",
    "        \n",
    "        x = tf.placeholder(tf.float32, shape=[None, num_features])\n",
    "        y = tf.placeholder(tf.float32, shape=[None, num_labels])\n",
    "        w_1 = tf.Variable(tf.truncated_normal([num_features, size_hidden], stddev=0.1))\n",
    "        b_1 = tf.Variable(tf.constant(0.1, shape=[1, size_hidden]))\n",
    "        hidden = tf.nn.sigmoid(tf.add(tf.matmul(x, w_1), b_1))\n",
    "        w_2 = tf.Variable(tf.truncated_normal([size_hidden, num_labels], stddev=0.1))\n",
    "        b_2 = tf.Variable(tf.constant(0.1, shape=[1,num_labels]))\n",
    "        y_lin = tf.add(tf.matmul(hidden, w_2), b_2)\n",
    "        \n",
    "        cross_entropy = tf.reduce_mean(tf.nn.softmax_cross_entropy_with_logits(logits=y_lin, labels=y))\n",
    "        train_step = tf.train.GradientDescentOptimizer(0.1).minimize(cross_entropy)\n",
    "        return train_step, x, y, w_1, b_1, w_2, b_2\n",
    "        \n",
    "    def fit(self, x_train, y_train, batch_size = 100,increment = 20, steps = 10000):\n",
    "        train_step, x, y, w_1, b_1, w_2, b_2 = self.__initialize_model(x_train, y_train)\n",
    "        \n",
    "        num_observations = x_train.shape[0]\n",
    "        tf.global_variables_initializer().run()\n",
    "        for i in range(steps):\n",
    "            start_ = (i*20) % num_observations\n",
    "            end_   = min(num_observations, start_ + batch_size)\n",
    "            x_batch = x_train[start_:end_,:]\n",
    "            y_batch = y_train[start_:end_,:]\n",
    "            train_step.run(feed_dict={x: x_batch, y: y_batch})\n",
    "\n",
    "            \n",
    "        self.__w1 = w_1.eval()\n",
    "        self.__b1 = b_1.eval()\n",
    "        self.__w2 = w_2.eval()\n",
    "        self.__b2 = b_2.eval()\n",
    "    \n",
    "    def __sigmoid(self, x):\n",
    "        x = tf.constant(x, dtype=tf.float32)\n",
    "        result = tf.nn.sigmoid(x).eval()\n",
    "        return result\n",
    "        \n",
    "    def predict(self, x_train):\n",
    "        w1 = self.__w1\n",
    "        b1 = self.__b1\n",
    "        w2 = self.__w2\n",
    "        b2 = self.__b2\n",
    "        y_lin = np.dot(self.__sigmoid(np.dot(x_train, w1)+b1), w2)+b2\n",
    "        return tf.argmax(y_lin, 1).eval()\n",
    "        \n",
    "    \n",
    "    @property\n",
    "    def w1(self):\n",
    "        return self.__w1\n",
    "    \n",
    "    @property\n",
    "    def b1(self):\n",
    "        return self.__b1\n",
    "    \n",
    "    @property\n",
    "    def w2(self):\n",
    "        return self.__w2\n",
    "    \n",
    "    @property\n",
    "    def b2(self):\n",
    "        return self.__b2"
   ]
  },
  {
   "cell_type": "code",
   "execution_count": 23,
   "metadata": {
    "collapsed": false
   },
   "outputs": [
    {
     "name": "stdout",
     "output_type": "stream",
     "text": [
      "Training Accuracy:  0.909763636364\n",
      "Validation Accuracy:  0.9178\n",
      "Test Accuracy:  0.9157\n",
      "Time elapsed:  9.95774412155\n"
     ]
    }
   ],
   "source": [
    "start = time.time()\n",
    "sess = tf.InteractiveSession()\n",
    "nn = One_layer_batch(size_hidden=40)\n",
    "nn.fit(images, labels, batch_size = 100, increment = 20, steps = 3000)\n",
    "predict = nn.predict(images)\n",
    "print 'Training Accuracy: ', np.mean(predict == np.argmax(labels, 1))\n",
    "predict = nn.predict(mnist.validation.images)\n",
    "print 'Validation Accuracy: ', np.mean(predict == np.argmax(mnist.validation.labels, 1))\n",
    "predict = nn.predict(mnist.test.images)\n",
    "print 'Test Accuracy: ', np.mean(predict == np.argmax(mnist.test.labels, 1))\n",
    "print 'Time elapsed: ', time.time()-start\n",
    "sess.close()"
   ]
  },
  {
   "cell_type": "code",
   "execution_count": 24,
   "metadata": {
    "collapsed": false
   },
   "outputs": [
    {
     "name": "stdout",
     "output_type": "stream",
     "text": [
      "Training Accuracy:  0.974745454545\n",
      "Validation Accuracy:  0.9716\n",
      "Test Accuracy:  0.9683\n",
      "Time elapsed:  77.3404278755\n"
     ]
    }
   ],
   "source": [
    "start = time.time()\n",
    "sess = tf.InteractiveSession()\n",
    "nn = One_layer_batch(size_hidden=100)\n",
    "nn.fit(images, labels, batch_size = 100, increment = 20, steps = 30000)\n",
    "predict = nn.predict(images)\n",
    "print 'Training Accuracy: ', np.mean(predict == np.argmax(labels, 1))\n",
    "predict = nn.predict(mnist.validation.images)\n",
    "print 'Validation Accuracy: ', np.mean(predict == np.argmax(mnist.validation.labels, 1))\n",
    "predict = nn.predict(mnist.test.images)\n",
    "print 'Test Accuracy: ', np.mean(predict == np.argmax(mnist.test.labels, 1))\n",
    "print 'Time elapsed: ', time.time()-start\n",
    "sess.close()"
   ]
  },
  {
   "cell_type": "code",
   "execution_count": 34,
   "metadata": {
    "collapsed": false
   },
   "outputs": [
    {
     "name": "stdout",
     "output_type": "stream",
     "text": [
      "Training Accuracy:  0.976636363636\n",
      "Validation Accuracy:  0.9704\n",
      "Test Accuracy:  0.9686\n",
      "Time elapsed:  975.451106071\n"
     ]
    }
   ],
   "source": [
    "start = time.time()\n",
    "sess = tf.InteractiveSession()\n",
    "nn = One_layer_batch(size_hidden=300)\n",
    "nn.fit(images, labels, batch_size = 800, increment = 20, steps = 30000)\n",
    "predict = nn.predict(images)\n",
    "print 'Training Accuracy: ', np.mean(predict == np.argmax(labels, 1))\n",
    "predict = nn.predict(mnist.validation.images)\n",
    "print 'Validation Accuracy: ', np.mean(predict == np.argmax(mnist.validation.labels, 1))\n",
    "predict = nn.predict(mnist.test.images)\n",
    "print 'Test Accuracy: ', np.mean(predict == np.argmax(mnist.test.labels, 1))\n",
    "print 'Time elapsed: ', time.time()-start\n",
    "sess.close()"
   ]
  },
  {
   "cell_type": "markdown",
   "metadata": {},
   "source": [
    "**Exercise** How would you tune this model?"
   ]
  },
  {
   "cell_type": "markdown",
   "metadata": {
    "collapsed": true
   },
   "source": [
    "### Convolutional Neural Network\n",
    "\n"
   ]
  },
  {
   "cell_type": "code",
   "execution_count": 14,
   "metadata": {
    "collapsed": false
   },
   "outputs": [
    {
     "name": "stdout",
     "output_type": "stream",
     "text": [
      "step 0, time elasped 0.623\n",
      "step 100, time elasped 17.814\n",
      "step 200, time elasped 35.362\n",
      "step 300, time elasped 52.717\n",
      "step 400, time elasped 70.022\n",
      "step 500, time elasped 87.220\n",
      "step 600, time elasped 104.404\n",
      "step 700, time elasped 121.544\n",
      "step 800, time elasped 138.675\n",
      "step 900, time elasped 155.800\n",
      "step 1000, time elasped 172.916\n",
      "step 1100, time elasped 190.171\n",
      "step 1200, time elasped 207.364\n",
      "step 1300, time elasped 224.506\n",
      "step 1400, time elasped 241.635\n",
      "step 1500, time elasped 258.720\n",
      "step 1600, time elasped 275.866\n",
      "step 1700, time elasped 293.020\n",
      "step 1800, time elasped 310.228\n",
      "step 1900, time elasped 327.406\n",
      "step 2000, time elasped 344.551\n",
      "step 2100, time elasped 361.683\n",
      "step 2200, time elasped 379.017\n",
      "step 2300, time elasped 396.179\n",
      "step 2400, time elasped 413.323\n",
      "step 2500, time elasped 430.491\n",
      "step 2600, time elasped 447.637\n",
      "step 2700, time elasped 464.795\n",
      "step 2800, time elasped 481.922\n",
      "step 2900, time elasped 499.046\n",
      "step 3000, time elasped 516.190\n",
      "step 3100, time elasped 533.274\n",
      "step 3200, time elasped 550.395\n",
      "step 3300, time elasped 567.605\n",
      "step 3400, time elasped 584.775\n",
      "step 3500, time elasped 601.918\n",
      "step 3600, time elasped 618.999\n",
      "step 3700, time elasped 636.165\n",
      "step 3800, time elasped 653.286\n",
      "step 3900, time elasped 670.426\n",
      "step 4000, time elasped 687.598\n",
      "step 4100, time elasped 705.649\n",
      "step 4200, time elasped 722.788\n",
      "step 4300, time elasped 741.360\n",
      "step 4400, time elasped 758.616\n",
      "step 4500, time elasped 775.751\n",
      "step 4600, time elasped 792.925\n",
      "step 4700, time elasped 810.106\n",
      "step 4800, time elasped 827.260\n",
      "step 4900, time elasped 844.400\n",
      "step 5000, time elasped 861.560\n",
      "step 5100, time elasped 878.682\n",
      "step 5200, time elasped 895.825\n",
      "step 5300, time elasped 912.987\n",
      "step 5400, time elasped 930.177\n",
      "step 5500, time elasped 947.371\n",
      "step 5600, time elasped 964.535\n",
      "step 5700, time elasped 983.144\n",
      "step 5800, time elasped 1003.851\n",
      "step 5900, time elasped 1022.964\n",
      "step 6000, time elasped 1040.222\n",
      "step 6100, time elasped 1057.505\n",
      "step 6200, time elasped 1074.657\n",
      "step 6300, time elasped 1091.802\n",
      "step 6400, time elasped 1108.952\n",
      "step 6500, time elasped 1126.119\n",
      "step 6600, time elasped 1143.364\n",
      "step 6700, time elasped 1160.470\n",
      "step 6800, time elasped 1177.622\n",
      "step 6900, time elasped 1194.726\n",
      "step 7000, time elasped 1211.901\n",
      "step 7100, time elasped 1229.081\n",
      "step 7200, time elasped 1246.176\n",
      "step 7300, time elasped 1263.514\n",
      "step 7400, time elasped 1280.638\n",
      "step 7500, time elasped 1297.738\n",
      "step 7600, time elasped 1314.866\n",
      "step 7700, time elasped 1332.105\n",
      "step 7800, time elasped 1349.238\n",
      "step 7900, time elasped 1366.403\n",
      "step 8000, time elasped 1383.550\n",
      "step 8100, time elasped 1400.711\n",
      "step 8200, time elasped 1417.874\n",
      "step 8300, time elasped 1435.145\n",
      "step 8400, time elasped 1452.495\n",
      "step 8500, time elasped 1469.788\n",
      "step 8600, time elasped 1486.944\n",
      "step 8700, time elasped 1504.101\n",
      "step 8800, time elasped 1521.344\n",
      "step 8900, time elasped 1538.509\n",
      "step 9000, time elasped 1555.678\n",
      "step 9100, time elasped 1572.873\n",
      "step 9200, time elasped 1590.100\n",
      "step 9300, time elasped 1607.237\n",
      "step 9400, time elasped 1624.466\n",
      "step 9500, time elasped 1641.642\n",
      "step 9600, time elasped 1658.817\n",
      "step 9700, time elasped 1675.956\n",
      "step 9800, time elasped 1693.146\n",
      "step 9900, time elasped 1710.405\n",
      "step 10000, time elasped 1727.592\n",
      "step 10100, time elasped 1744.717\n",
      "step 10200, time elasped 1761.897\n",
      "step 10300, time elasped 1779.033\n",
      "step 10400, time elasped 1796.176\n",
      "step 10500, time elasped 1813.315\n",
      "step 10600, time elasped 1830.438\n",
      "step 10700, time elasped 1847.587\n",
      "step 10800, time elasped 1864.765\n",
      "step 10900, time elasped 1881.929\n",
      "step 11000, time elasped 1899.178\n",
      "step 11100, time elasped 1916.356\n",
      "step 11200, time elasped 1933.535\n",
      "step 11300, time elasped 1950.719\n",
      "step 11400, time elasped 1967.891\n",
      "step 11500, time elasped 1985.072\n",
      "step 11600, time elasped 2002.235\n",
      "step 11700, time elasped 2019.462\n",
      "step 11800, time elasped 2036.640\n",
      "step 11900, time elasped 2053.770\n",
      "step 12000, time elasped 2070.931\n",
      "step 12100, time elasped 2088.163\n",
      "step 12200, time elasped 2105.309\n",
      "step 12300, time elasped 2122.417\n",
      "step 12400, time elasped 2139.493\n",
      "step 12500, time elasped 2156.592\n",
      "step 12600, time elasped 2173.713\n",
      "step 12700, time elasped 2190.917\n",
      "step 12800, time elasped 2208.086\n",
      "step 12900, time elasped 2225.199\n",
      "step 13000, time elasped 2242.293\n",
      "step 13100, time elasped 2259.445\n",
      "step 13200, time elasped 2276.662\n",
      "step 13300, time elasped 2293.772\n",
      "step 13400, time elasped 2310.906\n",
      "step 13500, time elasped 2328.059\n",
      "step 13600, time elasped 2345.175\n",
      "step 13700, time elasped 2362.303\n",
      "step 13800, time elasped 2379.430\n",
      "step 13900, time elasped 2396.520\n",
      "step 14000, time elasped 2413.611\n",
      "step 14100, time elasped 2430.723\n",
      "step 14200, time elasped 2447.819\n",
      "step 14300, time elasped 2465.072\n",
      "step 14400, time elasped 2482.181\n",
      "step 14500, time elasped 2499.285\n",
      "step 14600, time elasped 2516.773\n",
      "step 14700, time elasped 2535.346\n",
      "step 14800, time elasped 2552.510\n",
      "step 14900, time elasped 2569.645\n",
      "step 15000, time elasped 2587.010\n",
      "step 15100, time elasped 2604.143\n",
      "step 15200, time elasped 2621.258\n",
      "step 15300, time elasped 2638.391\n",
      "step 15400, time elasped 2655.612\n",
      "step 15500, time elasped 2672.781\n",
      "step 15600, time elasped 2690.912\n",
      "step 15700, time elasped 2708.041\n",
      "step 15800, time elasped 2725.200\n",
      "step 15900, time elasped 2742.307\n",
      "step 16000, time elasped 2759.454\n",
      "step 16100, time elasped 2776.628\n",
      "step 16200, time elasped 2795.170\n",
      "step 16300, time elasped 2819.132\n",
      "step 16400, time elasped 2857.238\n",
      "step 16500, time elasped 2901.865\n",
      "step 16600, time elasped 2944.926\n",
      "step 16700, time elasped 2986.962\n",
      "step 16800, time elasped 3030.044\n",
      "step 16900, time elasped 3072.041\n",
      "step 17000, time elasped 3115.854\n",
      "step 17100, time elasped 3159.708\n",
      "step 17200, time elasped 3203.582\n",
      "step 17300, time elasped 3241.906\n",
      "step 17400, time elasped 3272.420\n",
      "step 17500, time elasped 3289.438\n",
      "step 17600, time elasped 3306.697\n",
      "step 17700, time elasped 3323.707\n",
      "step 17800, time elasped 3340.718\n",
      "step 17900, time elasped 3357.672\n",
      "step 18000, time elasped 3374.647\n",
      "step 18100, time elasped 3391.675\n",
      "step 18200, time elasped 3408.700\n",
      "step 18300, time elasped 3425.689\n",
      "step 18400, time elasped 3442.660\n",
      "step 18500, time elasped 3459.658\n",
      "step 18600, time elasped 3476.613\n",
      "step 18700, time elasped 3493.735\n",
      "step 18800, time elasped 3510.734\n",
      "step 18900, time elasped 3527.677\n",
      "step 19000, time elasped 3544.697\n",
      "step 19100, time elasped 3561.673\n",
      "step 19200, time elasped 3578.702\n",
      "step 19300, time elasped 3595.685\n",
      "step 19400, time elasped 3612.672\n",
      "step 19500, time elasped 3629.894\n",
      "step 19600, time elasped 3647.011\n",
      "step 19700, time elasped 3664.179\n",
      "step 19800, time elasped 3681.426\n",
      "step 19900, time elasped 3698.613\n",
      "step 20000, time elasped 3715.759\n",
      "validation accuracy 0.9898\n",
      "test accuracy 0.9906\n"
     ]
    }
   ],
   "source": [
    "def weight_variable(shape):\n",
    "    initial = tf.truncated_normal(shape, stddev=0.1)\n",
    "    return tf.Variable(initial)\n",
    "\n",
    "def bias_variable(shape):\n",
    "    initial = tf.constant(0.1, shape=shape)\n",
    "    return tf.Variable(initial)\n",
    "\n",
    "def conv2d(x, W):\n",
    "    return tf.nn.conv2d(x, W, strides=[1, 1, 1, 1], padding='SAME')\n",
    "    \n",
    "def max_pool_2x2(x):\n",
    "    return tf.nn.max_pool(x, ksize=[1, 2, 2, 1],\n",
    "                              strides=[1, 2, 2, 1], padding='SAME')\n",
    "    \n",
    "\n",
    "        \n",
    "        \n",
    "#### From here!!!\n",
    "start = time.time()\n",
    "sess = tf.InteractiveSession()\n",
    "x = tf.placeholder(tf.float32, shape=[None, 784])\n",
    "y = tf.placeholder(tf.float32, shape=[None, 10])\n",
    "\n",
    "W_conv1 = weight_variable([5, 5, 1, 32])\n",
    "b_conv1 = bias_variable([32])\n",
    "x_train = tf.reshape(x, [-1,28,28,1])\n",
    "h_conv1 = tf.nn.relu(conv2d(x_train, W_conv1) + b_conv1)\n",
    "h_pool1 = max_pool_2x2(h_conv1)\n",
    "W_conv2 = weight_variable([5, 5, 32, 64])\n",
    "b_conv2 = bias_variable([64])\n",
    "h_conv2 = tf.nn.relu(conv2d(h_pool1, W_conv2) + b_conv2)\n",
    "h_pool2 = max_pool_2x2(h_conv2)\n",
    "W_fc1 = weight_variable([7 * 7 * 64, 1024])\n",
    "b_fc1 = bias_variable([1024])\n",
    "h_pool2_flat = tf.reshape(h_pool2, [-1, 7*7*64])\n",
    "h_fc1 = tf.nn.relu(tf.matmul(h_pool2_flat, W_fc1) + b_fc1)\n",
    "W_fc2 = weight_variable([1024, 10])\n",
    "b_fc2 = bias_variable([10])\n",
    "y_conv = tf.matmul(h_fc1, W_fc2) + b_fc2\n",
    "        \n",
    "        \n",
    "sess = tf.InteractiveSession()       \n",
    "cross_entropy = tf.reduce_mean(tf.nn.softmax_cross_entropy_with_logits(logits=y_conv, labels=y))\n",
    "train_step = tf.train.AdamOptimizer(1e-4).minimize(cross_entropy)\n",
    "correct_prediction = tf.equal(tf.argmax(y_conv,1), tf.argmax(y, 1))\n",
    "accuracy = tf.reduce_mean(tf.cast(correct_prediction, tf.float32))\n",
    "sess.run(tf.global_variables_initializer())\n",
    "for i in range(20001):\n",
    "    batch = mnist.train.next_batch(50)\n",
    "    if i%500 == 0:\n",
    "        print \"step %d, time elasped %.3f\"% (i, time.time()-start)\n",
    "    train_step.run(feed_dict={x: batch[0], y: batch[1]})\n",
    "\n",
    "print(\"validation accuracy %g\"%accuracy.eval(feed_dict={x: mnist.validation.images, y: mnist.validation.labels}))\n",
    "print(\"test accuracy %g\"%accuracy.eval(feed_dict={x: mnist.test.images, y: mnist.test.labels}))"
   ]
  },
  {
   "cell_type": "code",
   "execution_count": null,
   "metadata": {
    "collapsed": true
   },
   "outputs": [],
   "source": [
    "sess.close()"
   ]
  }
 ],
 "metadata": {
  "anaconda-cloud": {},
  "kernelspec": {
   "display_name": "Python [Root]",
   "language": "python",
   "name": "Python [Root]"
  },
  "language_info": {
   "codemirror_mode": {
    "name": "ipython",
    "version": 2
   },
   "file_extension": ".py",
   "mimetype": "text/x-python",
   "name": "python",
   "nbconvert_exporter": "python",
   "pygments_lexer": "ipython2",
   "version": "2.7.11"
  }
 },
 "nbformat": 4,
 "nbformat_minor": 0
}
