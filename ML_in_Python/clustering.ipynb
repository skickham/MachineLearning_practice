{
 "cells": [
  {
   "cell_type": "markdown",
   "metadata": {},
   "source": [
    "## Homework\n"
   ]
  },
  {
   "cell_type": "markdown",
   "metadata": {},
   "source": [
    "Write you own **K-means** function. This time we will try to write a function to implement the K-means algorithm step by step.\n",
    "\n",
    "1. The first step of K-means is to initialize some centroids randomly. \n",
    "\n",
    "We can sample some observation as centroids. Write a function **generate_centroid**, given a data set **features** and a number **k**, return **k** observations which are sampled from **features**. (*Hint: the function np.random.choice may be useful.*)"
   ]
  },
  {
   "cell_type": "code",
   "execution_count": null,
   "metadata": {
    "collapsed": true
   },
   "outputs": [],
   "source": [
    "def generate_centroid(features, k):\n",
    "    ## features: the original data, should be a array\n",
    "    ## k: number of centroids\n",
    "    \n",
    "    # your code here #\n",
    "    return centroid"
   ]
  },
  {
   "cell_type": "markdown",
   "metadata": {},
   "source": [
    "#### Example 1:\n",
    "<img src=http://slides.nycdatascience.com/BOOTCAMP2/content/week9/pic/ex1.png width=900/>"
   ]
  },
  {
   "cell_type": "markdown",
   "metadata": {},
   "source": [
    "2. The second step is calculating the distance between each observation and each centroid. \n",
    "\n",
    "Write a function **get_distance**, given a data set **features** and a parameter **centroid**, return the **distance** (the euclidean distance) between each observation and each centroid. The element of **distance** in the $i$th row and $j$th column should be the distance between $i$th observation and $j$th centroid."
   ]
  },
  {
   "cell_type": "code",
   "execution_count": null,
   "metadata": {
    "collapsed": true
   },
   "outputs": [],
   "source": [
    "import numpy as np\n",
    "def get_distance(features, centroid):\n",
    "    ## features: the original data, should be a array\n",
    "    ## centroid: the centroids of the clusters\n",
    "    \n",
    "    # your code here#\n",
    "    return distance"
   ]
  },
  {
   "cell_type": "markdown",
   "metadata": {},
   "source": [
    "#### Example 2:\n",
    "<img src=http://slides.nycdatascience.com/BOOTCAMP2/content/week9/pic/ex2.png width=900/>"
   ]
  },
  {
   "cell_type": "markdown",
   "metadata": {},
   "source": [
    "3. The third step is to label each observation by the closest cluster. Here is a function **get_label**, given a distance matrix, return the index of minimal number in each row. You need to do nothing in this step."
   ]
  },
  {
   "cell_type": "code",
   "execution_count": 2,
   "metadata": {
    "collapsed": true
   },
   "outputs": [],
   "source": [
    "def get_label(distance):\n",
    "    return distance.argmin(1) "
   ]
  },
  {
   "cell_type": "markdown",
   "metadata": {},
   "source": [
    "#### Example 3:\n",
    "<img src=http://slides.nycdatascience.com/BOOTCAMP2/content/week9/pic/ex3.png width=900/>"
   ]
  },
  {
   "cell_type": "markdown",
   "metadata": {},
   "source": [
    "4. The fourth step is to update the centroids after labeling the observations. \n",
    "\n",
    "Write a function **get_centroid**, given a data set **features** and a parameter **label**, return the centroids of the cluster."
   ]
  },
  {
   "cell_type": "code",
   "execution_count": null,
   "metadata": {
    "collapsed": true
   },
   "outputs": [],
   "source": [
    "def get_centroid(features, label):\n",
    "    # your code here #\n",
    "    ###################\n",
    "    # Here is an idea if you have no idea:\n",
    "    # 1. get the unique labels\n",
    "    # 2. get the length of the unique labels\n",
    "    # 3. write a loop, calculate a centroid in each loop.\n",
    "    # 4. return all the centroids\n",
    "    ###################\n",
    "    return centroid"
   ]
  },
  {
   "cell_type": "markdown",
   "metadata": {},
   "source": [
    "#### Example 4:\n",
    "<img src=http://slides.nycdatascience.com/BOOTCAMP2/content/week9/pic/ex4.png width=900/>"
   ]
  },
  {
   "cell_type": "markdown",
   "metadata": {},
   "source": [
    "5. At last, write a function **kmeans** to combine the functions together. You do not need to do anything in this step.\n",
    "\n",
    "(1) Given a data set **x** and a number **k**\n",
    "\n",
    "(2) Generate **k** samples from the dataset\n",
    "\n",
    "(3) Update the centroids and labels until it converge\n",
    "\n",
    "(4) Return the label and centroids"
   ]
  },
  {
   "cell_type": "code",
   "execution_count": 1,
   "metadata": {
    "collapsed": true
   },
   "outputs": [],
   "source": [
    "def kmeans(x, k, centroid=None, max_iter=300):\n",
    "    if centroid == None:\n",
    "        centroid = generate_centroid(x, k)\n",
    "    i = 0\n",
    "    while i <= max_iter:\n",
    "        i += 1\n",
    "        distance = get_distance(x, centroid)\n",
    "        label = get_label(distance)\n",
    "        centroid_update = get_centroid(x, label)\n",
    "        if np.all(centroid_update == centroid):\n",
    "            break\n",
    "        else:\n",
    "            centroid = centroid_update\n",
    "    return label, centroid"
   ]
  },
  {
   "cell_type": "markdown",
   "metadata": {},
   "source": [
    "6.Test the **kmeans** function.\n",
    "\n",
    "(1) Generate two groups of samples separately and combine them together\n",
    "\n",
    "(2) Use the **kmeans** function to test the data set. Return the labels and centroids\n",
    "\n",
    "(3) Make a scatter plot and color each observation by its group"
   ]
  },
  {
   "cell_type": "code",
   "execution_count": null,
   "metadata": {
    "collapsed": true
   },
   "outputs": [],
   "source": []
  }
 ],
 "metadata": {
  "kernelspec": {
   "display_name": "Python 2",
   "language": "python",
   "name": "python2"
  },
  "language_info": {
   "codemirror_mode": {
    "name": "ipython",
    "version": 2
   },
   "file_extension": ".py",
   "mimetype": "text/x-python",
   "name": "python",
   "nbconvert_exporter": "python",
   "pygments_lexer": "ipython2",
   "version": "2.7.13"
  }
 },
 "nbformat": 4,
 "nbformat_minor": 0
}
