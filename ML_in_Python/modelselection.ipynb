{
 "cells": [
  {
   "cell_type": "markdown",
   "metadata": {},
   "source": [
    "This time we employ the cross validation to figure out the best model for spam filter.\n",
    "\n",
    "**Remark** The objective functions for logistic regression implemented in `sklearn` are:\n",
    "<img src=\"L1.png\">\n",
    "and\n",
    "<img src=\"L2.png\">\n",
    "\n",
    "where\n",
    "- $w$ are the coefficients, which was denoted by $\\beta_i$ in the class.\n",
    "- $c$ is the intercept, which was denoted by $\\beta_0$ in the class. We can change the parameter \"fit_intercept\" to keep or remove it.\n",
    "- $C$ is the inverse of regularization strength. This is opposite to the $\\alpha$ we used in Ridge and Lasso. Smaller values specify stronger regularization.\n",
    "- Therefore the first objective function is of $L_1$ panelty and the second of $L_2$."
   ]
  },
  {
   "cell_type": "markdown",
   "metadata": {},
   "source": [
    "### Problem 1\n",
    "Use the class <code>GridSearchCV</code> to find out the best combination of parameter for logistic regression. (Set <code>cv=5</code> and <code>scoring='accuracy'</code>). "
   ]
  },
  {
   "cell_type": "code",
   "execution_count": 18,
   "metadata": {
    "collapsed": false
   },
   "outputs": [],
   "source": [
    "from __future__ import print_function\n",
    "import pandas as pd\n",
    "import numpy as np\n",
    "import sklearn\n",
    "\n",
    "spam_train_df = pd.read_csv('data/spam_train.csv')\n",
    "x_train = spam_train_df.iloc[:, :57].values\n",
    "y_train = spam_train_df.iloc[:, -1].values\n",
    "\n",
    "\n",
    "spam_test_df = pd.read_csv('data/spam_test.csv')\n",
    "x_test = spam_test_df.iloc[:, :57].values\n",
    "y_test = spam_test_df.iloc[:, -1].values"
   ]
  },
  {
   "cell_type": "code",
   "execution_count": 34,
   "metadata": {
    "collapsed": false
   },
   "outputs": [
    {
     "data": {
      "text/plain": [
       "GridSearchCV(cv=5, error_score='raise',\n",
       "       estimator=LogisticRegression(C=1.0, class_weight=None, dual=False, fit_intercept=True,\n",
       "          intercept_scaling=1, max_iter=100, multi_class='ovr', n_jobs=1,\n",
       "          penalty='l2', random_state=None, solver='liblinear', tol=0.0001,\n",
       "          verbose=0, warm_start=False),\n",
       "       fit_params={}, iid=True, n_jobs=1,\n",
       "       param_grid=[{'penalty': ['l1', 'l2'], 'C': array([  1.00000e-05,   1.26186e-05, ...,   7.92483e+04,   1.00000e+05]), 'fit_intercept': [False, True]}],\n",
       "       pre_dispatch='2*n_jobs', refit=True, scoring='accuracy', verbose=0)"
      ]
     },
     "execution_count": 34,
     "metadata": {},
     "output_type": "execute_result"
    }
   ],
   "source": [
    "from sklearn.model_selection import GridSearchCV\n",
    "from sklearn import linear_model\n",
    "import sklearn.cross_validation as cv\n",
    "import sklearn.grid_search as gs\n",
    "# from sklearn import datasets\n",
    "# from sklearn import neighbors\n",
    "# knn = neighbors.KNeighborsClassifier()\n",
    "\n",
    "# logit = linear_model.LogisticRegression()\n",
    "# logit.fit(x_train, y_train)   # i fit before the grid search\n",
    "\n",
    "para_grid = [{\n",
    "    'penalty': ['l1', 'l2'],\n",
    "    'fit_intercept': [False, True],\n",
    "    'C': np.logspace(-5, 5, 100)\n",
    "}]\n",
    "\n",
    "# Your solution\n",
    "# para_search_0 = GridSearchCV(estimator=logit, \n",
    "#                              param_grid=para_grid, \n",
    "#                              scoring='accuracy', \n",
    "#                              cv=5).fit(x_train, y_train)\n",
    "\n",
    "\n",
    "logit = linear_model.LogisticRegression()\n",
    "para_search = gs.GridSearchCV(logit, para_grid, cv = 5, scoring = 'accuracy')\n",
    "para_search.fit(x_train, y_train)      # the answer fit after the grid search"
   ]
  },
  {
   "cell_type": "markdown",
   "metadata": {},
   "source": [
    "    - What's the best combination?\n",
    "    - What's the best score?\n",
    "    - Refit the best estimator on the whole data set. How many coefficients were reduced to 0?(Hint: the absolute value of coefficients that are smaller than 1e-4.) \n",
    "    - What's the corresponding training error and test error? (Training error is the model performance on spam_train, while test error is the performance on spam_test.)"
   ]
  },
  {
   "cell_type": "code",
   "execution_count": 38,
   "metadata": {
    "collapsed": false
   },
   "outputs": [
    {
     "name": "stdout",
     "output_type": "stream",
     "text": [
      "{'penalty': 'l1', 'C': 0.027185882427329403, 'fit_intercept': False}\n",
      "0.932989690722\n",
      "4\n",
      "Training error: 0.05155\n",
      "Training error: 0.06684\n"
     ]
    },
    {
     "data": {
      "text/plain": [
       "array([[ -3.83822373e-04,  -7.37875172e-04,   1.07448619e-03,\n",
       "          0.00000000e+00,   0.00000000e+00,   4.59882083e-05,\n",
       "         -5.32080285e-04,   8.38713896e-04,   3.53231647e-04,\n",
       "          2.50923051e-03,  -6.99586461e-04,  -8.20526561e-02,\n",
       "         -3.58114747e-02,   0.00000000e+00,   3.35163207e-03,\n",
       "          3.19029522e-04,   1.46636961e-03]])"
      ]
     },
     "execution_count": 38,
     "metadata": {},
     "output_type": "execute_result"
    }
   ],
   "source": [
    "### your solution\n",
    "print(para_search.best_params_)   # gives best combination\n",
    "\n",
    "print(para_search.best_score_)   # gives best score\n",
    "\n",
    "logit_best = para_search.best_estimator_\n",
    "print(np.sum(np.abs(logit_best.coef_) < 1e-4))  \n",
    "# best coefficients with really small (eseentially zero) values \n",
    "# sum up how many there are, and there are four\n",
    "\n",
    "# 1 minues to get error\n",
    "print(\"Training error: %.5f\" % (1-logit_best.score(x_train, y_train)))\n",
    "print(\"Training error: %.5f\" % (1-logit_best.score(x_test, y_test)))\n",
    "\n",
    "\n",
    "# logit_best.coef_  # what does this answer in the above questions???? NOTHING mijo\n",
    "\n"
   ]
  },
  {
   "cell_type": "markdown",
   "metadata": {},
   "source": [
    "### Problem 2\n",
    "\n",
    "Set *scoring = 'roc_auc'* and search again, what's the best parameters? Fit the best estimator on the spam_train data set. What's the training error and test error?"
   ]
  },
  {
   "cell_type": "code",
   "execution_count": 40,
   "metadata": {
    "collapsed": false
   },
   "outputs": [
    {
     "ename": "AttributeError",
     "evalue": "'list' object has no attribute 'size'",
     "output_type": "error",
     "traceback": [
      "\u001b[0;31m---------------------------------------------------------------------------\u001b[0m",
      "\u001b[0;31mAttributeError\u001b[0m                            Traceback (most recent call last)",
      "\u001b[0;32m<ipython-input-40-18494104e911>\u001b[0m in \u001b[0;36m<module>\u001b[0;34m()\u001b[0m\n\u001b[1;32m      3\u001b[0m \u001b[1;33m\u001b[0m\u001b[0m\n\u001b[1;32m      4\u001b[0m y_train_fix = np.where(y_train =='spam',       # if it says spam\n\u001b[0;32m----> 5\u001b[0;31m                        \u001b[0mnp\u001b[0m\u001b[1;33m.\u001b[0m\u001b[0mones\u001b[0m\u001b[1;33m(\u001b[0m\u001b[0my_train\u001b[0m\u001b[1;33m.\u001b[0m\u001b[0msize\u001b[0m\u001b[1;33m)\u001b[0m\u001b[1;33m,\u001b[0m   \u001b[1;31m# replace with ones (onto original size)\u001b[0m\u001b[1;33m\u001b[0m\u001b[0m\n\u001b[0m\u001b[1;32m      6\u001b[0m                        np.zeros(y_train.size))  # else replace with zeros\n\u001b[1;32m      7\u001b[0m \u001b[1;33m\u001b[0m\u001b[0m\n",
      "\u001b[0;31mAttributeError\u001b[0m: 'list' object has no attribute 'size'"
     ]
    }
   ],
   "source": [
    "### your solution\n",
    "logit = linear_model.LogisticRegression()\n",
    "\n",
    "y_train_fix = np.where(y_train =='spam',       # if it says spam\n",
    "                       np.ones(y_train.size),   # replace with ones (onto original size)\n",
    "                       np.zeros(y_train.size))  # else replace with zeros\n",
    "\n",
    "y_train = [1 if i == 'spam' else 0 for i in y_train]\n",
    "y_test = [1 if i == 'spam' else 0 for i in y_test]\n",
    "\n",
    "\n",
    "\n",
    "para_search= gs.GridSearchCV(estimator=logit, param_grid=para_grid, \n",
    "                             scoring='roc_auc', cv=5)\n",
    "para_search.fit(x_train, y_train_fix)\n",
    "logit_best = para_search.best_estimator_   # how do you know to do this?\n",
    "# error because data not binary, retrain y to 1/0 instead of spam/ham"
   ]
  },
  {
   "cell_type": "code",
   "execution_count": 15,
   "metadata": {
    "collapsed": false
   },
   "outputs": [
    {
     "name": "stdout",
     "output_type": "stream",
     "text": [
      "{'penalty': 'l1', 'C': 1.4174741629268048, 'fit_intercept': True}\n",
      "0.971550943131\n"
     ]
    }
   ],
   "source": [
    "print(para_search_0.best_params_)\n",
    "print(para_search_0.best_score_)"
   ]
  },
  {
   "cell_type": "markdown",
   "metadata": {},
   "source": [
    "### Problem 3\n",
    "\n",
    "In this exercise, we will predict the number of applications received(*Apps*) using the other variables in the College data set.\n",
    "\n",
    "The features and the target variable are prepared as $x$ and $y$."
   ]
  },
  {
   "cell_type": "code",
   "execution_count": 16,
   "metadata": {
    "collapsed": false
   },
   "outputs": [
    {
     "name": "stdout",
     "output_type": "stream",
     "text": [
      "(777, 18)\n"
     ]
    },
    {
     "data": {
      "text/html": [
       "<div>\n",
       "<style>\n",
       "    .dataframe thead tr:only-child th {\n",
       "        text-align: right;\n",
       "    }\n",
       "\n",
       "    .dataframe thead th {\n",
       "        text-align: left;\n",
       "    }\n",
       "\n",
       "    .dataframe tbody tr th {\n",
       "        vertical-align: top;\n",
       "    }\n",
       "</style>\n",
       "<table border=\"1\" class=\"dataframe\">\n",
       "  <thead>\n",
       "    <tr style=\"text-align: right;\">\n",
       "      <th></th>\n",
       "      <th>Private</th>\n",
       "      <th>Apps</th>\n",
       "      <th>Accept</th>\n",
       "      <th>Enroll</th>\n",
       "      <th>Top10perc</th>\n",
       "      <th>Top25perc</th>\n",
       "      <th>F.Undergrad</th>\n",
       "      <th>P.Undergrad</th>\n",
       "      <th>Outstate</th>\n",
       "      <th>Room.Board</th>\n",
       "      <th>Books</th>\n",
       "      <th>Personal</th>\n",
       "      <th>PhD</th>\n",
       "      <th>Terminal</th>\n",
       "      <th>S.F.Ratio</th>\n",
       "      <th>perc.alumni</th>\n",
       "      <th>Expend</th>\n",
       "      <th>Grad.Rate</th>\n",
       "    </tr>\n",
       "  </thead>\n",
       "  <tbody>\n",
       "    <tr>\n",
       "      <th>0</th>\n",
       "      <td>Yes</td>\n",
       "      <td>1660</td>\n",
       "      <td>1232</td>\n",
       "      <td>721</td>\n",
       "      <td>23</td>\n",
       "      <td>52</td>\n",
       "      <td>2885</td>\n",
       "      <td>537</td>\n",
       "      <td>7440</td>\n",
       "      <td>3300</td>\n",
       "      <td>450</td>\n",
       "      <td>2200</td>\n",
       "      <td>70</td>\n",
       "      <td>78</td>\n",
       "      <td>18.1</td>\n",
       "      <td>12</td>\n",
       "      <td>7041</td>\n",
       "      <td>60</td>\n",
       "    </tr>\n",
       "    <tr>\n",
       "      <th>1</th>\n",
       "      <td>Yes</td>\n",
       "      <td>2186</td>\n",
       "      <td>1924</td>\n",
       "      <td>512</td>\n",
       "      <td>16</td>\n",
       "      <td>29</td>\n",
       "      <td>2683</td>\n",
       "      <td>1227</td>\n",
       "      <td>12280</td>\n",
       "      <td>6450</td>\n",
       "      <td>750</td>\n",
       "      <td>1500</td>\n",
       "      <td>29</td>\n",
       "      <td>30</td>\n",
       "      <td>12.2</td>\n",
       "      <td>16</td>\n",
       "      <td>10527</td>\n",
       "      <td>56</td>\n",
       "    </tr>\n",
       "    <tr>\n",
       "      <th>2</th>\n",
       "      <td>Yes</td>\n",
       "      <td>1428</td>\n",
       "      <td>1097</td>\n",
       "      <td>336</td>\n",
       "      <td>22</td>\n",
       "      <td>50</td>\n",
       "      <td>1036</td>\n",
       "      <td>99</td>\n",
       "      <td>11250</td>\n",
       "      <td>3750</td>\n",
       "      <td>400</td>\n",
       "      <td>1165</td>\n",
       "      <td>53</td>\n",
       "      <td>66</td>\n",
       "      <td>12.9</td>\n",
       "      <td>30</td>\n",
       "      <td>8735</td>\n",
       "      <td>54</td>\n",
       "    </tr>\n",
       "    <tr>\n",
       "      <th>3</th>\n",
       "      <td>Yes</td>\n",
       "      <td>417</td>\n",
       "      <td>349</td>\n",
       "      <td>137</td>\n",
       "      <td>60</td>\n",
       "      <td>89</td>\n",
       "      <td>510</td>\n",
       "      <td>63</td>\n",
       "      <td>12960</td>\n",
       "      <td>5450</td>\n",
       "      <td>450</td>\n",
       "      <td>875</td>\n",
       "      <td>92</td>\n",
       "      <td>97</td>\n",
       "      <td>7.7</td>\n",
       "      <td>37</td>\n",
       "      <td>19016</td>\n",
       "      <td>59</td>\n",
       "    </tr>\n",
       "    <tr>\n",
       "      <th>4</th>\n",
       "      <td>Yes</td>\n",
       "      <td>193</td>\n",
       "      <td>146</td>\n",
       "      <td>55</td>\n",
       "      <td>16</td>\n",
       "      <td>44</td>\n",
       "      <td>249</td>\n",
       "      <td>869</td>\n",
       "      <td>7560</td>\n",
       "      <td>4120</td>\n",
       "      <td>800</td>\n",
       "      <td>1500</td>\n",
       "      <td>76</td>\n",
       "      <td>72</td>\n",
       "      <td>11.9</td>\n",
       "      <td>2</td>\n",
       "      <td>10922</td>\n",
       "      <td>15</td>\n",
       "    </tr>\n",
       "  </tbody>\n",
       "</table>\n",
       "</div>"
      ],
      "text/plain": [
       "  Private  Apps  Accept  Enroll  Top10perc  Top25perc  F.Undergrad  \\\n",
       "0     Yes  1660    1232     721         23         52         2885   \n",
       "1     Yes  2186    1924     512         16         29         2683   \n",
       "2     Yes  1428    1097     336         22         50         1036   \n",
       "3     Yes   417     349     137         60         89          510   \n",
       "4     Yes   193     146      55         16         44          249   \n",
       "\n",
       "   P.Undergrad  Outstate  Room.Board  Books  Personal  PhD  Terminal  \\\n",
       "0          537      7440        3300    450      2200   70        78   \n",
       "1         1227     12280        6450    750      1500   29        30   \n",
       "2           99     11250        3750    400      1165   53        66   \n",
       "3           63     12960        5450    450       875   92        97   \n",
       "4          869      7560        4120    800      1500   76        72   \n",
       "\n",
       "   S.F.Ratio  perc.alumni  Expend  Grad.Rate  \n",
       "0       18.1           12    7041         60  \n",
       "1       12.2           16   10527         56  \n",
       "2       12.9           30    8735         54  \n",
       "3        7.7           37   19016         59  \n",
       "4       11.9            2   10922         15  "
      ]
     },
     "execution_count": 16,
     "metadata": {},
     "output_type": "execute_result"
    }
   ],
   "source": [
    "import pandas as pd\n",
    "college = pd.read_csv('data/college.csv')\n",
    "x = college.iloc[:, 2:]\n",
    "y = college.iloc[:, 1]\n",
    "print(college.shape)\n",
    "college.head()"
   ]
  },
  {
   "cell_type": "markdown",
   "metadata": {},
   "source": [
    "- (1) Split this data into a training set and a test set with train_size=0.5.(Hint: Use the function **sklearn.cross_validation.train_test_split** , set *random_state=0* and *tran_size=0.5*.)\n",
    "\n",
    "- (2) Fit a linear model on the training set and report the training error and test error(mean squared error, you can use the function *sklearn.metrics.mean_squared_error*).\n",
    "\n",
    "- (3) Fit a ridge regression on the training set, with $\\alpha$ chosen by the cross validation. Report the training error and test error.\n",
    "\n",
    "- (4) Fit a lasso on the training set, with $\\alpha$ chosen by the cross validation. Report the training error and test error\n",
    "\n",
    "- (5) Compare the results obtained, what do you find?"
   ]
  },
  {
   "cell_type": "code",
   "execution_count": 24,
   "metadata": {
    "collapsed": false
   },
   "outputs": [],
   "source": [
    "### your solution\n",
    "from sklearn.cross_validation import train_test_split\n",
    "x_train, x_test, y_train, y_test = train_test_split(x, y, train_size = 0.5, random_state = 0)\n",
    "\n",
    "from sklearn import linear_model\n",
    "logit = linear_model.LogisticRegression()\n",
    "train_error = []\n",
    "test_error = []\n",
    "\n",
    "for i in range(5):\n",
    "#    x_train, x_test, y_train, y_test = ms.train_test_split(iris.data, iris.target, test_size=1.0/3, random_state=i)\n",
    "    logit.fit(x_train, y_train)\n",
    "    train_error.append(1 - logit.score(x_train, y_train))   # make sure use 1 - score to get error (score is accuracy)\n",
    "    test_error.append(1 - logit.score(x_test, y_test))\n",
    "\n",
    "ridge = linear_model.Ridge(alpha = 1) # create a ridge regression instance\n",
    "ridge.fit(x, y) # fit data\n",
    "ridge.coef_, ridge.intercept_ # print out the coefficients"
   ]
  },
  {
   "cell_type": "markdown",
   "metadata": {},
   "source": [
    "### Problem 4\n",
    "This time  we will try to predict the variable *Private* using the other variables in the College data set. The features and target variable are prepared for you."
   ]
  },
  {
   "cell_type": "code",
   "execution_count": 25,
   "metadata": {
    "collapsed": true
   },
   "outputs": [],
   "source": [
    "x = college.iloc[:, 1:]\n",
    "y = college.iloc[:, 0]"
   ]
  },
  {
   "cell_type": "markdown",
   "metadata": {},
   "source": [
    "- (1) Split this data into a training set and a test set with train_size=0.5(Hint: Use the function **sklearn.cross_validation.train_test_split** , set *random_state=1* and *tran_size=0.5*.)]\n",
    "\n",
    "- (2) Fit a logistic regression with regularizaton. Use the function **GridSearchCV** to fint out the best parameters."
   ]
  },
  {
   "cell_type": "code",
   "execution_count": 28,
   "metadata": {
    "collapsed": true
   },
   "outputs": [],
   "source": [
    "grid_para_logit = [{'penality': ['l1', 'l2'], 'alpha': np.logspace(-5, 5, 100)}]\n",
    "\n",
    "x_train, x_test, y_train, y_test = train_test_split(x, y, train_size = 0.5, random_state = 0)\n",
    "logit = linear_model.LogisticRegression()\n",
    "train_error = []\n",
    "test_error = []\n",
    "\n",
    "for i in range(5):\n",
    "    logit.fit(x_train, y_train)\n",
    "    train_error.append(1 - logit.score(x_train, y_train))   # make sure use 1 - score to get error (score is accuracy)\n",
    "    test_error.append(1 - logit.score(x_test, y_test))\n"
   ]
  },
  {
   "cell_type": "markdown",
   "metadata": {},
   "source": [
    "    - What's the best parameters?\n",
    "    - Refit the model on the training set with best parameters. What's the training error and test error?\n",
    "    \n",
    "- (3) Fit a KNN model. Use the function **GridSearchCV** to fint out the appropriate parameter *n_neighbors*. Refit the model on the training set and report the training error and test error.\n",
    "\n",
    "- (4) Compare the results of logistic regression and KNN."
   ]
  },
  {
   "cell_type": "code",
   "execution_count": 31,
   "metadata": {
    "collapsed": false
   },
   "outputs": [
    {
     "name": "stdout",
     "output_type": "stream",
     "text": [
      "['rank_test_score', 'split4_test_score', 'mean_score_time', 'param_n_neighbors', 'std_test_score', 'std_train_score', 'split1_train_score', 'split0_test_score', 'mean_test_score', 'std_score_time', 'split2_train_score', 'split0_train_score', 'params', 'std_fit_time', 'split4_train_score', 'split2_test_score', 'split3_test_score', 'mean_train_score', 'mean_fit_time', 'split3_train_score', 'split1_test_score']\n"
     ]
    },
    {
     "data": {
      "text/plain": [
       "{'mean_fit_time': array([ 0.01559997,  0.00200009,  0.00219998,  0.00260005,  0.00239992,\n",
       "         0.00200009,  0.00239997,  0.00220003,  0.00239992,  0.002     ,\n",
       "         0.00200005,  0.00200005,  0.00219994,  0.00200009,  0.00219998,\n",
       "         0.00219994,  0.00260005,  0.00220003,  0.00199995,  0.00220003,\n",
       "         0.00220003,  0.002     ,  0.00220003,  0.00260005,  0.00220003,\n",
       "         0.00239997,  0.00260005,  0.00219998]),\n",
       " 'mean_score_time': array([ 0.02359996,  0.00339999,  0.00360003,  0.00320001,  0.00340004,\n",
       "         0.004     ,  0.00359998,  0.00339999,  0.00380006,  0.004     ,\n",
       "         0.004     ,  0.00399995,  0.00420008,  0.00399995,  0.00400009,\n",
       "         0.00439997,  0.00419993,  0.00439997,  0.00440006,  0.00459995,\n",
       "         0.0046    ,  0.00480003,  0.00479999,  0.00419993,  0.00480003,\n",
       "         0.00440001,  0.00420003,  0.00479999]),\n",
       " 'mean_test_score': array([ 0.92921493,  0.92535393,  0.93436293,  0.93178893,  0.93178893,\n",
       "         0.93178893,  0.93436293,  0.93436293,  0.93307593,  0.93307593,\n",
       "         0.93050193,  0.93178893,  0.93178893,  0.93436293,  0.93436293,\n",
       "         0.93564994,  0.93693694,  0.93564994,  0.93436293,  0.93178893,\n",
       "         0.93564994,  0.93564994,  0.93436293,  0.93564994,  0.93307593,\n",
       "         0.93178893,  0.93178893,  0.93178893]),\n",
       " 'mean_train_score': array([ 0.95238362,  0.94659014,  0.94594757,  0.9472353 ,  0.94401831,\n",
       "         0.94337263,  0.94305316,  0.94305109,  0.94176492,  0.94144234,\n",
       "         0.93886947,  0.93854689,  0.93822587,  0.93629609,  0.93500888,\n",
       "         0.93533094,  0.93404373,  0.93597506,  0.93372167,  0.93597455,\n",
       "         0.93372167,  0.93468682,  0.93565352,  0.93597455,  0.93533146,\n",
       "         0.93629505,  0.93532991,  0.93629661]),\n",
       " 'param_n_neighbors': masked_array(data = [3 4 5 6 7 8 9 10 11 12 13 14 15 16 17 18 19 20 21 22 23 24 25 26 27 28 29\n",
       "  30],\n",
       "              mask = [False False False False False False False False False False False False\n",
       "  False False False False False False False False False False False False\n",
       "  False False False False],\n",
       "        fill_value = ?),\n",
       " 'params': ({'n_neighbors': 3},\n",
       "  {'n_neighbors': 4},\n",
       "  {'n_neighbors': 5},\n",
       "  {'n_neighbors': 6},\n",
       "  {'n_neighbors': 7},\n",
       "  {'n_neighbors': 8},\n",
       "  {'n_neighbors': 9},\n",
       "  {'n_neighbors': 10},\n",
       "  {'n_neighbors': 11},\n",
       "  {'n_neighbors': 12},\n",
       "  {'n_neighbors': 13},\n",
       "  {'n_neighbors': 14},\n",
       "  {'n_neighbors': 15},\n",
       "  {'n_neighbors': 16},\n",
       "  {'n_neighbors': 17},\n",
       "  {'n_neighbors': 18},\n",
       "  {'n_neighbors': 19},\n",
       "  {'n_neighbors': 20},\n",
       "  {'n_neighbors': 21},\n",
       "  {'n_neighbors': 22},\n",
       "  {'n_neighbors': 23},\n",
       "  {'n_neighbors': 24},\n",
       "  {'n_neighbors': 25},\n",
       "  {'n_neighbors': 26},\n",
       "  {'n_neighbors': 27},\n",
       "  {'n_neighbors': 28},\n",
       "  {'n_neighbors': 29},\n",
       "  {'n_neighbors': 30}),\n",
       " 'rank_test_score': array([27, 28,  7, 17, 17, 17,  7,  7, 14, 14, 26, 17, 17,  7,  7,  2,  1,\n",
       "         2,  7, 17,  2,  2,  7,  2, 14, 17, 17, 17]),\n",
       " 'split0_test_score': array([ 0.94230769,  0.93589744,  0.94871795,  0.94230769,  0.92948718,\n",
       "         0.93589744,  0.92307692,  0.91666667,  0.91666667,  0.91666667,\n",
       "         0.91666667,  0.92307692,  0.91666667,  0.92307692,  0.92307692,\n",
       "         0.92948718,  0.92948718,  0.92948718,  0.92307692,  0.92307692,\n",
       "         0.92948718,  0.92948718,  0.92307692,  0.92948718,  0.92948718,\n",
       "         0.92948718,  0.93589744,  0.93589744]),\n",
       " 'split0_train_score': array([ 0.95491143,  0.94202899,  0.94363929,  0.94847021,  0.9452496 ,\n",
       "         0.94363929,  0.9468599 ,  0.94363929,  0.9452496 ,  0.9452496 ,\n",
       "         0.94363929,  0.93880837,  0.93880837,  0.93558776,  0.93558776,\n",
       "         0.93880837,  0.93558776,  0.93880837,  0.93558776,  0.93558776,\n",
       "         0.93397746,  0.93397746,  0.93719807,  0.93558776,  0.93880837,\n",
       "         0.93558776,  0.93397746,  0.94041868]),\n",
       " 'split1_test_score': array([ 0.91025641,  0.91666667,  0.91025641,  0.91025641,  0.91666667,\n",
       "         0.91025641,  0.91666667,  0.92307692,  0.91666667,  0.91025641,\n",
       "         0.91666667,  0.91025641,  0.91025641,  0.91025641,  0.91025641,\n",
       "         0.91025641,  0.91025641,  0.91025641,  0.90384615,  0.90384615,\n",
       "         0.90384615,  0.90384615,  0.90384615,  0.90384615,  0.8974359 ,\n",
       "         0.8974359 ,  0.8974359 ,  0.8974359 ]),\n",
       " 'split1_train_score': array([ 0.95813205,  0.95330113,  0.95330113,  0.95330113,  0.95169082,\n",
       "         0.9452496 ,  0.94847021,  0.9452496 ,  0.94363929,  0.94041868,\n",
       "         0.94041868,  0.94202899,  0.94363929,  0.9452496 ,  0.94202899,\n",
       "         0.94041868,  0.94041868,  0.94363929,  0.93880837,  0.9452496 ,\n",
       "         0.94041868,  0.94202899,  0.9452496 ,  0.9452496 ,  0.94202899,\n",
       "         0.94202899,  0.94202899,  0.94202899]),\n",
       " 'split2_test_score': array([ 0.92258065,  0.91612903,  0.93548387,  0.92903226,  0.92903226,\n",
       "         0.93548387,  0.94193548,  0.94193548,  0.94193548,  0.9483871 ,\n",
       "         0.93548387,  0.93548387,  0.94193548,  0.9483871 ,  0.94193548,\n",
       "         0.94193548,  0.94193548,  0.9483871 ,  0.9483871 ,  0.95483871,\n",
       "         0.95483871,  0.95483871,  0.95483871,  0.9483871 ,  0.9483871 ,\n",
       "         0.9483871 ,  0.94193548,  0.94193548]),\n",
       " 'split2_train_score': array([ 0.94855305,  0.94533762,  0.94533762,  0.94694534,  0.94212219,\n",
       "         0.94051447,  0.9437299 ,  0.94533762,  0.94051447,  0.94212219,\n",
       "         0.93890675,  0.94051447,  0.93729904,  0.9340836 ,  0.93247588,\n",
       "         0.9340836 ,  0.93086817,  0.92926045,  0.92926045,  0.93247588,\n",
       "         0.93247588,  0.93569132,  0.9340836 ,  0.93247588,  0.93247588,\n",
       "         0.93569132,  0.9340836 ,  0.93569132]),\n",
       " 'split3_test_score': array([ 0.94193548,  0.92903226,  0.94193548,  0.9483871 ,  0.9483871 ,\n",
       "         0.9483871 ,  0.95483871,  0.96129032,  0.96129032,  0.96129032,\n",
       "         0.96129032,  0.96129032,  0.95483871,  0.95483871,  0.95483871,\n",
       "         0.95483871,  0.95483871,  0.9483871 ,  0.9483871 ,  0.94193548,\n",
       "         0.9483871 ,  0.9483871 ,  0.95483871,  0.95483871,  0.95483871,\n",
       "         0.9483871 ,  0.9483871 ,  0.9483871 ]),\n",
       " 'split3_train_score': array([ 0.94694534,  0.9437299 ,  0.93890675,  0.94212219,  0.94212219,\n",
       "         0.9437299 ,  0.93569132,  0.93729904,  0.93729904,  0.93569132,\n",
       "         0.93086817,  0.92926045,  0.93086817,  0.92926045,  0.93086817,\n",
       "         0.92926045,  0.93247588,  0.9340836 ,  0.93247588,  0.93247588,\n",
       "         0.93086817,  0.93247588,  0.93247588,  0.93569132,  0.93569132,\n",
       "         0.93890675,  0.93729904,  0.93569132]),\n",
       " 'split4_test_score': array([ 0.92903226,  0.92903226,  0.93548387,  0.92903226,  0.93548387,\n",
       "         0.92903226,  0.93548387,  0.92903226,  0.92903226,  0.92903226,\n",
       "         0.92258065,  0.92903226,  0.93548387,  0.93548387,  0.94193548,\n",
       "         0.94193548,  0.9483871 ,  0.94193548,  0.9483871 ,  0.93548387,\n",
       "         0.94193548,  0.94193548,  0.93548387,  0.94193548,  0.93548387,\n",
       "         0.93548387,  0.93548387,  0.93548387]),\n",
       " 'split4_train_score': array([ 0.95337621,  0.94855305,  0.94855305,  0.94533762,  0.93890675,\n",
       "         0.9437299 ,  0.94051447,  0.9437299 ,  0.94212219,  0.9437299 ,\n",
       "         0.94051447,  0.94212219,  0.94051447,  0.93729904,  0.9340836 ,\n",
       "         0.9340836 ,  0.93086817,  0.9340836 ,  0.93247588,  0.9340836 ,\n",
       "         0.93086817,  0.92926045,  0.92926045,  0.93086817,  0.92765273,\n",
       "         0.92926045,  0.92926045,  0.92765273]),\n",
       " 'std_fit_time': array([  2.71999836e-02,   6.32409692e-04,   4.00018706e-04,\n",
       "          4.89862441e-04,   4.89979242e-04,   0.00000000e+00,\n",
       "          4.89940316e-04,   3.99994861e-04,   4.89979242e-04,\n",
       "          1.16800773e-07,   9.53674316e-08,   9.53674316e-08,\n",
       "          4.00042545e-04,   0.00000000e+00,   4.00018706e-04,\n",
       "          4.00042545e-04,   4.89862441e-04,   3.99994861e-04,\n",
       "          1.16800773e-07,   3.99994861e-04,   3.99994861e-04,\n",
       "          8.94468989e-04,   3.99994861e-04,   4.89862441e-04,\n",
       "          3.99994861e-04,   4.89842988e-04,   4.89862441e-04,\n",
       "          4.00018706e-04]),\n",
       " 'std_score_time': array([  3.92000198e-02,   4.89862441e-04,   4.89901382e-04,\n",
       "          3.99971008e-04,   4.89920847e-04,   6.32485089e-04,\n",
       "          4.89862441e-04,   8.00061231e-04,   7.48366451e-04,\n",
       "          9.53674316e-08,   9.53674316e-08,   0.00000000e+00,\n",
       "          4.00018706e-04,   0.00000000e+00,   1.16800773e-07,\n",
       "          4.89920847e-04,   3.99971008e-04,   4.89920847e-04,\n",
       "          4.89940316e-04,   4.89804047e-04,   4.89940316e-04,\n",
       "          7.48379193e-04,   7.48302736e-04,   3.99971008e-04,\n",
       "          4.00042545e-04,   4.89881921e-04,   3.99923339e-04,\n",
       "          7.48366451e-04]),\n",
       " 'std_test_score': array([ 0.01215093,  0.00773595,  0.01303789,  0.01316405,  0.01030409,\n",
       "         0.01247695,  0.01355625,  0.01581765,  0.01690686,  0.01916865,\n",
       "         0.01683528,  0.01691698,  0.01637825,  0.0162901 ,  0.01577215,\n",
       "         0.01504341,  0.01578386,  0.01448094,  0.01817277,  0.01735647,\n",
       "         0.01801109,  0.01801109,  0.01949536,  0.01801109,  0.02000028,\n",
       "         0.0187254 ,  0.01784784,  0.01784784]),\n",
       " 'std_train_score': array([ 0.00411504,  0.00398608,  0.00481947,  0.00369184,  0.00432902,\n",
       "         0.00155039,  0.00458116,  0.00296495,  0.00273099,  0.00329583,\n",
       "         0.00428671,  0.00479761,  0.00423974,  0.00521667,  0.00384798,\n",
       "         0.00394817,  0.00362355,  0.00487872,  0.00323615,  0.00477981,\n",
       "         0.00354266,  0.00423682,  0.00543882,  0.00499144,  0.00498382,\n",
       "         0.0042438 ,  0.00421843,  0.00500602])}"
      ]
     },
     "execution_count": 31,
     "metadata": {},
     "output_type": "execute_result"
    }
   ],
   "source": [
    "### your solution\n",
    "grid_param = [{'n_neighbors': range(3, 31)}]\n",
    "## fit all models\n",
    "para_search = GridSearchCV(estimator=knn, \n",
    "                           param_grid=grid_param, \n",
    "                           scoring='accuracy', \n",
    "                           cv=5).fit(x,y)\n",
    "\n",
    "print(list(para_search.cv_results_.keys()))\n",
    "para_search.cv_results_"
   ]
  }
 ],
 "metadata": {
  "kernelspec": {
   "display_name": "Python 2",
   "language": "python",
   "name": "python2"
  },
  "language_info": {
   "codemirror_mode": {
    "name": "ipython",
    "version": 2
   },
   "file_extension": ".py",
   "mimetype": "text/x-python",
   "name": "python",
   "nbconvert_exporter": "python",
   "pygments_lexer": "ipython2",
   "version": "2.7.13"
  }
 },
 "nbformat": 4,
 "nbformat_minor": 0
}
